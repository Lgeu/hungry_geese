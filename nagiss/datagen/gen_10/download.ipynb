{
 "cells": [
  {
   "cell_type": "code",
   "execution_count": 1,
   "id": "5680a3b5",
   "metadata": {},
   "outputs": [],
   "source": [
    "!zip -r -q data4.zip data4"
   ]
  },
  {
   "cell_type": "code",
   "execution_count": 2,
   "id": "76220437",
   "metadata": {},
   "outputs": [
    {
     "data": {
      "text/html": [
       "<a href='./data4.zip' target='_blank'>./data4.zip</a><br>"
      ],
      "text/plain": [
       "/home/nagis/work/hungry_geese/nagiss/datagen/gen_10/data4.zip"
      ]
     },
     "execution_count": 2,
     "metadata": {},
     "output_type": "execute_result"
    }
   ],
   "source": [
    "from IPython.display import FileLink\n",
    "FileLink(\"./data4.zip\")"
   ]
  },
  {
   "cell_type": "code",
   "execution_count": null,
   "id": "e116e5f7",
   "metadata": {},
   "outputs": [],
   "source": []
  }
 ],
 "metadata": {
  "kernelspec": {
   "display_name": "Python 3",
   "language": "python",
   "name": "python3"
  },
  "language_info": {
   "codemirror_mode": {
    "name": "ipython",
    "version": 3
   },
   "file_extension": ".py",
   "mimetype": "text/x-python",
   "name": "python",
   "nbconvert_exporter": "python",
   "pygments_lexer": "ipython3",
   "version": "3.8.8"
  }
 },
 "nbformat": 4,
 "nbformat_minor": 5
}
