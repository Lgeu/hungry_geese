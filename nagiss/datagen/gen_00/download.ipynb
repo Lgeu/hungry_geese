{
 "cells": [
  {
   "cell_type": "code",
   "execution_count": 2,
   "id": "9640a781",
   "metadata": {},
   "outputs": [],
   "source": [
    "!zip -r -q data.zip data"
   ]
  },
  {
   "cell_type": "code",
   "execution_count": 3,
   "id": "692681ed",
   "metadata": {},
   "outputs": [
    {
     "data": {
      "text/html": [
       "<a href='./data.zip' target='_blank'>./data.zip</a><br>"
      ],
      "text/plain": [
       "/home/nagis/work/hungry_geese/nagiss/datagen/gen_00/data.zip"
      ]
     },
     "execution_count": 3,
     "metadata": {},
     "output_type": "execute_result"
    }
   ],
   "source": [
    "from IPython.display import FileLink\n",
    "FileLink(\"./data.zip\")"
   ]
  },
  {
   "cell_type": "code",
   "execution_count": 6,
   "id": "28c82ace",
   "metadata": {},
   "outputs": [],
   "source": [
    "!zip -r -q data2.zip data2"
   ]
  },
  {
   "cell_type": "code",
   "execution_count": 7,
   "id": "4e7abb75",
   "metadata": {},
   "outputs": [
    {
     "data": {
      "text/html": [
       "<a href='./data2.zip' target='_blank'>./data2.zip</a><br>"
      ],
      "text/plain": [
       "/home/nagis/work/hungry_geese/nagiss/datagen/gen_00/data2.zip"
      ]
     },
     "execution_count": 7,
     "metadata": {},
     "output_type": "execute_result"
    }
   ],
   "source": [
    "from IPython.display import FileLink\n",
    "FileLink(\"./data2.zip\")"
   ]
  },
  {
   "cell_type": "code",
   "execution_count": null,
   "id": "d4e6e51b",
   "metadata": {},
   "outputs": [],
   "source": []
  }
 ],
 "metadata": {
  "kernelspec": {
   "display_name": "Python 3",
   "language": "python",
   "name": "python3"
  },
  "language_info": {
   "codemirror_mode": {
    "name": "ipython",
    "version": 3
   },
   "file_extension": ".py",
   "mimetype": "text/x-python",
   "name": "python",
   "nbconvert_exporter": "python",
   "pygments_lexer": "ipython3",
   "version": "3.8.8"
  }
 },
 "nbformat": 4,
 "nbformat_minor": 5
}
