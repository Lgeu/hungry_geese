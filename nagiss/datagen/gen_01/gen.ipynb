{
 "cells": [
  {
   "cell_type": "code",
   "execution_count": null,
   "id": "6881785a",
   "metadata": {},
   "outputs": [],
   "source": [
    "# https://github.com/Lgeu/hungry_geese/commit/6103dce81b19bf35c20065f12a50e044f4ecef0c\n",
    "!g++ ../../../KKT89/Combine.cpp -O3 -Ofast -std=c++17 -Wall -Wextra"
   ]
  },
  {
   "cell_type": "code",
   "execution_count": 2,
   "id": "619e3363",
   "metadata": {},
   "outputs": [],
   "source": [
    "!mkdir data3"
   ]
  },
  {
   "cell_type": "code",
   "execution_count": null,
   "id": "18aa599e",
   "metadata": {},
   "outputs": [],
   "source": [
    "!seq 1 20000 | xargs -I@ -P 63 sh -c './a.out -j -o ./data3/ -t 0.3 -p legacy legacy legacy legacy'"
   ]
  },
  {
   "cell_type": "code",
   "execution_count": null,
   "id": "d8582eea",
   "metadata": {},
   "outputs": [],
   "source": []
  }
 ],
 "metadata": {
  "kernelspec": {
   "display_name": "Python 3",
   "language": "python",
   "name": "python3"
  },
  "language_info": {
   "codemirror_mode": {
    "name": "ipython",
    "version": 3
   },
   "file_extension": ".py",
   "mimetype": "text/x-python",
   "name": "python",
   "nbconvert_exporter": "python",
   "pygments_lexer": "ipython3",
   "version": "3.8.8"
  }
 },
 "nbformat": 4,
 "nbformat_minor": 5
}
