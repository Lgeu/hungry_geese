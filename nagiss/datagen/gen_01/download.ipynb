{
 "cells": [
  {
   "cell_type": "code",
   "execution_count": 9,
   "id": "065fa0a3",
   "metadata": {},
   "outputs": [],
   "source": [
    "!zip -r -q data3.zip data3"
   ]
  },
  {
   "cell_type": "code",
   "execution_count": 10,
   "id": "c4ebd981",
   "metadata": {},
   "outputs": [
    {
     "data": {
      "text/html": [
       "<a href='./data3.zip' target='_blank'>./data3.zip</a><br>"
      ],
      "text/plain": [
       "/home/nagis/work/hungry_geese/nagiss/datagen/gen_01/data3.zip"
      ]
     },
     "execution_count": 10,
     "metadata": {},
     "output_type": "execute_result"
    }
   ],
   "source": [
    "from IPython.display import FileLink\n",
    "FileLink(\"./data3.zip\")"
   ]
  },
  {
   "cell_type": "code",
   "execution_count": null,
   "id": "59aad45d",
   "metadata": {},
   "outputs": [],
   "source": []
  }
 ],
 "metadata": {
  "kernelspec": {
   "display_name": "Python 3",
   "language": "python",
   "name": "python3"
  },
  "language_info": {
   "codemirror_mode": {
    "name": "ipython",
    "version": 3
   },
   "file_extension": ".py",
   "mimetype": "text/x-python",
   "name": "python",
   "nbconvert_exporter": "python",
   "pygments_lexer": "ipython3",
   "version": "3.8.8"
  }
 },
 "nbformat": 4,
 "nbformat_minor": 5
}
