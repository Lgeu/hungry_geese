{
 "cells": [
  {
   "cell_type": "code",
   "execution_count": 1,
   "id": "92505600",
   "metadata": {},
   "outputs": [],
   "source": [
    "import os\n",
    "import sys\n",
    "\n",
    "import numpy as np\n",
    "import torch\n",
    "\n",
    "sys.path.append(\"../rl/src/exp001/\")\n",
    "\n",
    "from kif import Kif\n",
    "from nn import EfficientDataset"
   ]
  },
  {
   "cell_type": "code",
   "execution_count": 2,
   "id": "73753142",
   "metadata": {},
   "outputs": [
    {
     "name": "stdout",
     "output_type": "stream",
     "text": [
      "017_vs_018  017_vs_018.zip  20210721080110_526806449.kif1  a.out  battle.ipynb\r\n"
     ]
    }
   ],
   "source": [
    "!ls ../battle/battle_017_vs_018_newfeats  "
   ]
  },
  {
   "cell_type": "code",
   "execution_count": 3,
   "id": "87a0d74f",
   "metadata": {},
   "outputs": [
    {
     "name": "stdout",
     "output_type": "stream",
     "text": [
      "../battle/battle_017_vs_018_newfeats/017_vs_018/1vs3/ 6350\n",
      "../battle/battle_017_vs_018_newfeats/017_vs_018/2vs2/ 6612\n",
      "../battle/battle_017_vs_018_newfeats/017_vs_018/3vs1/ 6451\n",
      "../battle/battle_021/021/ 15007\n",
      "../battle/battle_021_vs_023/021_vs_023/1vs3/ 5729\n",
      "../battle/battle_021_vs_023/021_vs_023/2vs2/ 5799\n",
      "../battle/battle_021_vs_023/021_vs_023/3vs1/ 5543\n",
      "../battle/battle_023_vs_025/023_vs_025/1vs3/ 8484\n",
      "../battle/battle_023_vs_025/023_vs_025/2vs2/ 8673\n",
      "../battle/battle_023_vs_025/023_vs_025/3vs1/ 8468\n"
     ]
    },
    {
     "data": {
      "text/plain": [
       "77116"
      ]
     },
     "execution_count": 3,
     "metadata": {},
     "output_type": "execute_result"
    }
   ],
   "source": [
    "directories = [\n",
    "    \"../battle/battle_017_vs_018_newfeats/017_vs_018/1vs3/\",\n",
    "    \"../battle/battle_017_vs_018_newfeats/017_vs_018/2vs2/\",\n",
    "    \"../battle/battle_017_vs_018_newfeats/017_vs_018/3vs1/\",\n",
    "    \"../battle/battle_021/021/\",\n",
    "    \"../battle/battle_021_vs_023/021_vs_023/1vs3/\",\n",
    "    \"../battle/battle_021_vs_023/021_vs_023/2vs2/\",\n",
    "    \"../battle/battle_021_vs_023/021_vs_023/3vs1/\",\n",
    "    \"../battle/battle_023_vs_025/023_vs_025/1vs3/\",\n",
    "    \"../battle/battle_023_vs_025/023_vs_025/2vs2/\",\n",
    "    \"../battle/battle_023_vs_025/023_vs_025/3vs1/\",\n",
    "]\n",
    "\n",
    "kif_files = []\n",
    "for d in directories:\n",
    "    files = !ls {d} -1\n",
    "    print(d, len(files))\n",
    "    for file in files:\n",
    "        kif_files.append(d + file)\n",
    "len(kif_files)"
   ]
  },
  {
   "cell_type": "code",
   "execution_count": 4,
   "id": "11faf6f0",
   "metadata": {},
   "outputs": [
    {
     "data": {
      "text/plain": [
       "178.55194771513047"
      ]
     },
     "execution_count": 4,
     "metadata": {},
     "output_type": "execute_result"
    }
   ],
   "source": [
    "13769212 / 77116"
   ]
  },
  {
   "cell_type": "code",
   "execution_count": 5,
   "id": "9ae71f17",
   "metadata": {},
   "outputs": [
    {
     "data": {
      "application/vnd.jupyter.widget-view+json": {
       "model_id": "8b92efd930fc4641a7b3a0b095fec573",
       "version_major": 2,
       "version_minor": 0
      },
      "text/plain": [
       "  0%|          | 0/77116 [00:00<?, ?it/s]"
      ]
     },
     "metadata": {},
     "output_type": "display_data"
    },
    {
     "data": {
      "text/plain": [
       "<nn.EfficientDataset at 0x7f3dc5337d30>"
      ]
     },
     "execution_count": 5,
     "metadata": {},
     "output_type": "execute_result"
    }
   ],
   "source": [
    "dataset = EfficientDataset(kif_files, 13769212)"
   ]
  },
  {
   "cell_type": "code",
   "execution_count": 12,
   "id": "501cda33",
   "metadata": {},
   "outputs": [],
   "source": [
    "dataset.kif_files = None\n",
    "torch.save(dataset, \"dataset.pt\")"
   ]
  },
  {
   "cell_type": "code",
   "execution_count": 14,
   "id": "1ef24384",
   "metadata": {},
   "outputs": [
    {
     "name": "stdout",
     "output_type": "stream",
     "text": [
      "  adding: dataset.pt (deflated 64%)\n"
     ]
    }
   ],
   "source": [
    "!zip dataset.pt.zip dataset.pt"
   ]
  },
  {
   "cell_type": "code",
   "execution_count": 17,
   "id": "f3b8a53c",
   "metadata": {},
   "outputs": [
    {
     "name": "stdout",
     "output_type": "stream",
     "text": [
      "total 8.3G\r\n",
      "-rw-rw-r-- 1 nagis nagis 6.1G Jul 22 13:01 dataset.pt\r\n",
      "-rw-rw-r-- 1 nagis nagis 2.2G Jul 22 13:07 dataset.pt.zip\r\n",
      "-rw-rw-r-- 1 nagis nagis 4.7K Jul 22 13:03 make_dataset.ipynb\r\n"
     ]
    }
   ],
   "source": [
    "!ls -lh"
   ]
  },
  {
   "cell_type": "code",
   "execution_count": null,
   "id": "3bb34fbd",
   "metadata": {},
   "outputs": [],
   "source": []
  }
 ],
 "metadata": {
  "kernelspec": {
   "display_name": "Python 3",
   "language": "python",
   "name": "python3"
  },
  "language_info": {
   "codemirror_mode": {
    "name": "ipython",
    "version": 3
   },
   "file_extension": ".py",
   "mimetype": "text/x-python",
   "name": "python",
   "nbconvert_exporter": "python",
   "pygments_lexer": "ipython3",
   "version": "3.8.8"
  }
 },
 "nbformat": 4,
 "nbformat_minor": 5
}
