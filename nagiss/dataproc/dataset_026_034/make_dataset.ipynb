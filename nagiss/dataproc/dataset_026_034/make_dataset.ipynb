{
 "cells": [
  {
   "cell_type": "code",
   "execution_count": 1,
   "id": "a2c682ac",
   "metadata": {},
   "outputs": [],
   "source": [
    "import os\n",
    "import sys\n",
    "\n",
    "import numpy as np\n",
    "import torch\n",
    "\n",
    "sys.path.append(\"../../rl/src/exp001/\")\n",
    "\n",
    "from kif import Kif\n",
    "from nn import EfficientDataset"
   ]
  },
  {
   "cell_type": "code",
   "execution_count": 2,
   "id": "d4a35c23",
   "metadata": {},
   "outputs": [
    {
     "name": "stdout",
     "output_type": "stream",
     "text": [
      "battle_010_vs_013\t\tbattle_023_vs_025\r\n",
      "battle_010_vs_013_v2\t\tbattle_025_vs_026\r\n",
      "battle_010_vs_013_v3_Cpuct8\tbattle_026_vs_028\r\n",
      "battle_010_vs_013_v4_Cpuct0.25\tbattle_028_vs_031\r\n",
      "battle_010_vs_013_v5\t\tbattle_royal_025_026_028_031\r\n",
      "battle_013_vs_017\t\tbattle_royal_026_028_031_032\r\n",
      "battle_017_vs_018_newfeats\tbattle_royal_028_031_032_033\r\n",
      "battle_021\t\t\tbattle_royal_028_031_033_034\r\n",
      "battle_021_vs_023\r\n"
     ]
    }
   ],
   "source": [
    "!ls ../../battle/"
   ]
  },
  {
   "cell_type": "code",
   "execution_count": 3,
   "id": "1307a128",
   "metadata": {},
   "outputs": [
    {
     "name": "stdout",
     "output_type": "stream",
     "text": [
      "../../battle/battle_026_vs_028/026_vs_028/2vs2/ 3587\n",
      "../../battle/battle_028_vs_031/028_vs_031/1vs3/ 5727\n",
      "../../battle/battle_028_vs_031/028_vs_031/2vs2/ 5757\n",
      "../../battle/battle_028_vs_031/028_vs_031/3vs1/ 5640\n",
      "../../battle/battle_royal_025_026_028_031/025_026_028_031/ 17312\n",
      "../../battle/battle_royal_026_028_031_032/026_028_031_032/ 26332\n",
      "../../battle/battle_royal_028_031_032_033/028_031_032_033/ 4543\n",
      "../../battle/battle_royal_028_031_032_033/028_031_032_033_v2/ 23077\n",
      "../../battle/battle_royal_028_031_033_034/028_031_033_034/ 10189\n"
     ]
    },
    {
     "data": {
      "text/plain": [
       "102164"
      ]
     },
     "execution_count": 3,
     "metadata": {},
     "output_type": "execute_result"
    }
   ],
   "source": [
    "directories = [\n",
    "    \"../../battle/battle_026_vs_028/026_vs_028/2vs2/\",\n",
    "    \"../../battle/battle_028_vs_031/028_vs_031/1vs3/\",\n",
    "    \"../../battle/battle_028_vs_031/028_vs_031/2vs2/\",\n",
    "    \"../../battle/battle_028_vs_031/028_vs_031/3vs1/\",\n",
    "    \"../../battle/battle_royal_025_026_028_031/025_026_028_031/\",\n",
    "    \"../../battle/battle_royal_026_028_031_032/026_028_031_032/\",\n",
    "    \"../../battle/battle_royal_028_031_032_033/028_031_032_033/\",\n",
    "    \"../../battle/battle_royal_028_031_032_033/028_031_032_033_v2/\",  # ここからシミュレーション修正\n",
    "    \"../../battle/battle_royal_028_031_033_034/028_031_033_034/\",\n",
    "]\n",
    "\n",
    "kif_files = []\n",
    "for d in directories:\n",
    "    assert d.endswith(\"/\")\n",
    "    files = !ls {d} -1\n",
    "    print(d, len(files))\n",
    "    for file in files:\n",
    "        kif_files.append(d + file)\n",
    "n_kifs = len(kif_files)\n",
    "n_kifs"
   ]
  },
  {
   "cell_type": "code",
   "execution_count": 4,
   "id": "7a5199ee",
   "metadata": {},
   "outputs": [
    {
     "data": {
      "application/vnd.jupyter.widget-view+json": {
       "model_id": "624daf2298c44b519f814a33a72ef9a4",
       "version_major": 2,
       "version_minor": 0
      },
      "text/plain": [
       "  0%|          | 0/102164 [00:00<?, ?it/s]"
      ]
     },
     "metadata": {},
     "output_type": "display_data"
    },
    {
     "data": {
      "text/plain": [
       "17880617"
      ]
     },
     "execution_count": 4,
     "metadata": {},
     "output_type": "execute_result"
    }
   ],
   "source": [
    "dataset = EfficientDataset(kif_files, n_kifs * 185)\n",
    "len(dataset)"
   ]
  },
  {
   "cell_type": "code",
   "execution_count": 5,
   "id": "076a9f14",
   "metadata": {},
   "outputs": [
    {
     "data": {
      "text/plain": [
       "175.0187639481618"
      ]
     },
     "execution_count": 5,
     "metadata": {},
     "output_type": "execute_result"
    }
   ],
   "source": [
    "len(dataset) / n_kifs"
   ]
  },
  {
   "cell_type": "code",
   "execution_count": 6,
   "id": "c52b0722",
   "metadata": {},
   "outputs": [],
   "source": [
    "dataset.kif_files = None\n",
    "torch.save(dataset, \"dataset.pt\")"
   ]
  },
  {
   "cell_type": "code",
   "execution_count": 7,
   "id": "e30fbdba",
   "metadata": {},
   "outputs": [
    {
     "name": "stdout",
     "output_type": "stream",
     "text": [
      "  adding: dataset.pt (deflated 66%)\n"
     ]
    }
   ],
   "source": [
    "!zip dataset.pt.zip dataset.pt"
   ]
  },
  {
   "cell_type": "code",
   "execution_count": 8,
   "id": "035d50f7",
   "metadata": {},
   "outputs": [
    {
     "name": "stdout",
     "output_type": "stream",
     "text": [
      "total 12G\r\n",
      "-rw-rw-r-- 1 nagis nagis 8.4G Jul 23 22:53 dataset.pt\r\n",
      "-rw-rw-r-- 1 nagis nagis 2.9G Jul 23 23:02 dataset.pt.zip\r\n",
      "-rw-rw-r-- 1 nagis nagis 5.6K Jul 23 22:54 make_dataset.ipynb\r\n"
     ]
    }
   ],
   "source": [
    "!ls -lh"
   ]
  },
  {
   "cell_type": "code",
   "execution_count": 9,
   "id": "f256e09c",
   "metadata": {},
   "outputs": [],
   "source": [
    "!rm dataset.pt"
   ]
  },
  {
   "cell_type": "code",
   "execution_count": null,
   "id": "73db60d6",
   "metadata": {},
   "outputs": [],
   "source": []
  }
 ],
 "metadata": {
  "kernelspec": {
   "display_name": "Python 3",
   "language": "python",
   "name": "python3"
  },
  "language_info": {
   "codemirror_mode": {
    "name": "ipython",
    "version": 3
   },
   "file_extension": ".py",
   "mimetype": "text/x-python",
   "name": "python",
   "nbconvert_exporter": "python",
   "pygments_lexer": "ipython3",
   "version": "3.8.8"
  }
 },
 "nbformat": 4,
 "nbformat_minor": 5
}
