{
 "cells": [
  {
   "cell_type": "code",
   "execution_count": 1,
   "id": "40de0f18",
   "metadata": {},
   "outputs": [],
   "source": [
    "import os\n",
    "import sys\n",
    "\n",
    "import numpy as np\n",
    "import torch\n",
    "\n",
    "sys.path.append(\"../../rl/src/exp001/\")\n",
    "\n",
    "from kif import Kif\n",
    "from nn import EfficientDataset"
   ]
  },
  {
   "cell_type": "code",
   "execution_count": 2,
   "id": "088ee177",
   "metadata": {},
   "outputs": [
    {
     "name": "stdout",
     "output_type": "stream",
     "text": [
      "battle_010_vs_013\t\tbattle_021_vs_023\r\n",
      "battle_010_vs_013_v2\t\tbattle_023_vs_025\r\n",
      "battle_010_vs_013_v3_Cpuct8\tbattle_025_vs_026\r\n",
      "battle_010_vs_013_v4_Cpuct0.25\tbattle_026_vs_028\r\n",
      "battle_010_vs_013_v5\t\tbattle_028_vs_031\r\n",
      "battle_013_vs_017\t\tbattle_royal_025_026_028_031\r\n",
      "battle_017_vs_018_newfeats\tbattle_royal_026_028_031_032\r\n",
      "battle_021\t\t\tbattle_royal_028_031_032_033\r\n"
     ]
    }
   ],
   "source": [
    "!ls ../../battle/"
   ]
  },
  {
   "cell_type": "code",
   "execution_count": 3,
   "id": "aa6c58e7",
   "metadata": {
    "scrolled": false
   },
   "outputs": [
    {
     "name": "stdout",
     "output_type": "stream",
     "text": [
      "../../battle/battle_025_vs_026/025_vs_026/2vs2/ 11158\n",
      "../../battle/battle_026_vs_028/026_vs_028/1vs3/ 3559\n",
      "../../battle/battle_026_vs_028/026_vs_028/2vs2/ 3587\n",
      "../../battle/battle_026_vs_028/026_vs_028/3vs1/ 3553\n",
      "../../battle/battle_028_vs_031/028_vs_031/1vs3/ 5727\n",
      "../../battle/battle_028_vs_031/028_vs_031/2vs2/ 5757\n",
      "../../battle/battle_028_vs_031/028_vs_031/3vs1/ 5640\n",
      "../../battle/battle_royal_025_026_028_031/025_026_028_031/ 17312\n",
      "../../battle/battle_royal_026_028_031_032/026_028_031_032/ 26332\n",
      "../../battle/battle_royal_028_031_032_033/028_031_032_033/ 4543\n",
      "../../battle/battle_royal_028_031_032_033/028_031_032_033_v2/ 12845\n"
     ]
    },
    {
     "data": {
      "text/plain": [
       "100013"
      ]
     },
     "execution_count": 3,
     "metadata": {},
     "output_type": "execute_result"
    }
   ],
   "source": [
    "directories = [\n",
    "    \"../../battle/battle_025_vs_026/025_vs_026/2vs2/\",\n",
    "    \"../../battle/battle_026_vs_028/026_vs_028/1vs3/\",\n",
    "    \"../../battle/battle_026_vs_028/026_vs_028/2vs2/\",\n",
    "    \"../../battle/battle_026_vs_028/026_vs_028/3vs1/\",\n",
    "    \"../../battle/battle_028_vs_031/028_vs_031/1vs3/\",\n",
    "    \"../../battle/battle_028_vs_031/028_vs_031/2vs2/\",\n",
    "    \"../../battle/battle_028_vs_031/028_vs_031/3vs1/\",\n",
    "    \"../../battle/battle_royal_025_026_028_031/025_026_028_031/\",\n",
    "    \"../../battle/battle_royal_026_028_031_032/026_028_031_032/\",\n",
    "    \"../../battle/battle_royal_028_031_032_033/028_031_032_033/\",\n",
    "    \"../../battle/battle_royal_028_031_032_033/028_031_032_033_v2/\",  # ここからシミュレーション修正\n",
    "]\n",
    "\n",
    "kif_files = []\n",
    "for d in directories:\n",
    "    files = !ls {d} -1\n",
    "    print(d, len(files))\n",
    "    for file in files:\n",
    "        kif_files.append(d + file)\n",
    "n_kifs = len(kif_files)\n",
    "n_kifs"
   ]
  },
  {
   "cell_type": "code",
   "execution_count": 4,
   "id": "eda01533",
   "metadata": {},
   "outputs": [
    {
     "data": {
      "application/vnd.jupyter.widget-view+json": {
       "model_id": "1f6b7bc2d48f4c3cacc613036b00c683",
       "version_major": 2,
       "version_minor": 0
      },
      "text/plain": [
       "  0%|          | 0/100013 [00:00<?, ?it/s]"
      ]
     },
     "metadata": {},
     "output_type": "display_data"
    },
    {
     "data": {
      "text/plain": [
       "17512494"
      ]
     },
     "execution_count": 4,
     "metadata": {},
     "output_type": "execute_result"
    }
   ],
   "source": [
    "dataset = EfficientDataset(kif_files, n_kifs * 185)\n",
    "len(dataset)"
   ]
  },
  {
   "cell_type": "code",
   "execution_count": 5,
   "id": "9801414d",
   "metadata": {},
   "outputs": [
    {
     "data": {
      "text/plain": [
       "175.1021767170268"
      ]
     },
     "execution_count": 5,
     "metadata": {},
     "output_type": "execute_result"
    }
   ],
   "source": [
    "len(dataset) / n_kifs"
   ]
  },
  {
   "cell_type": "code",
   "execution_count": 6,
   "id": "5873b484",
   "metadata": {},
   "outputs": [],
   "source": [
    "dataset.kif_files = None\n",
    "torch.save(dataset, \"dataset.pt\")"
   ]
  },
  {
   "cell_type": "code",
   "execution_count": 7,
   "id": "73f19beb",
   "metadata": {},
   "outputs": [
    {
     "name": "stdout",
     "output_type": "stream",
     "text": [
      "  adding: dataset.pt (deflated 66%)\n"
     ]
    }
   ],
   "source": [
    "!zip dataset.pt.zip dataset.pt"
   ]
  },
  {
   "cell_type": "code",
   "execution_count": 8,
   "id": "3d222506",
   "metadata": {},
   "outputs": [
    {
     "name": "stdout",
     "output_type": "stream",
     "text": [
      "total 11G\r\n",
      "-rw-rw-r-- 1 nagis nagis 8.2G Jul 23 17:25 dataset.pt\r\n",
      "-rw-rw-r-- 1 nagis nagis 2.8G Jul 23 17:34 dataset.pt.zip\r\n",
      "-rw-rw-r-- 1 nagis nagis 5.8K Jul 23 17:26 make_dataset.ipynb\r\n"
     ]
    }
   ],
   "source": [
    "!ls -lh"
   ]
  },
  {
   "cell_type": "code",
   "execution_count": 9,
   "id": "4a2c9f7e",
   "metadata": {},
   "outputs": [],
   "source": [
    "!rm dataset.pt"
   ]
  },
  {
   "cell_type": "code",
   "execution_count": null,
   "id": "24a67f6e",
   "metadata": {},
   "outputs": [],
   "source": []
  }
 ],
 "metadata": {
  "kernelspec": {
   "display_name": "Python 3",
   "language": "python",
   "name": "python3"
  },
  "language_info": {
   "codemirror_mode": {
    "name": "ipython",
    "version": 3
   },
   "file_extension": ".py",
   "mimetype": "text/x-python",
   "name": "python",
   "nbconvert_exporter": "python",
   "pygments_lexer": "ipython3",
   "version": "3.8.8"
  }
 },
 "nbformat": 4,
 "nbformat_minor": 5
}
