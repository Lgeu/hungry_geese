{
 "cells": [
  {
   "cell_type": "code",
   "execution_count": 1,
   "id": "ad260faa",
   "metadata": {},
   "outputs": [],
   "source": [
    "import os\n",
    "import sys\n",
    "\n",
    "import numpy as np\n",
    "import torch\n",
    "\n",
    "sys.path.append(\"../../rl/src/exp001/\")\n",
    "\n",
    "from kif import Kif\n",
    "from nn import EfficientDataset"
   ]
  },
  {
   "cell_type": "code",
   "execution_count": 2,
   "id": "f99b4a1d",
   "metadata": {},
   "outputs": [
    {
     "name": "stdout",
     "output_type": "stream",
     "text": [
      "battle_010_vs_013\t\tbattle_021_vs_023\r\n",
      "battle_010_vs_013_v2\t\tbattle_023_vs_025\r\n",
      "battle_010_vs_013_v3_Cpuct8\tbattle_025_vs_026\r\n",
      "battle_010_vs_013_v4_Cpuct0.25\tbattle_026_vs_028\r\n",
      "battle_010_vs_013_v5\t\tbattle_028_vs_031\r\n",
      "battle_013_vs_017\t\tbattle_royal_025_026_028_031\r\n",
      "battle_017_vs_018_newfeats\tbattle_royal_026_028_031_032\r\n",
      "battle_021\r\n"
     ]
    }
   ],
   "source": [
    "!ls ../../battle/"
   ]
  },
  {
   "cell_type": "code",
   "execution_count": 4,
   "id": "9b378c11",
   "metadata": {},
   "outputs": [
    {
     "name": "stdout",
     "output_type": "stream",
     "text": [
      "../../battle/battle_023_vs_025/023_vs_025/1vs3/ 8484\n",
      "../../battle/battle_023_vs_025/023_vs_025/2vs2/ 8673\n",
      "../../battle/battle_023_vs_025/023_vs_025/3vs1/ 8468\n",
      "../../battle/battle_025_vs_026/025_vs_026/1vs3/ 11067\n",
      "../../battle/battle_025_vs_026/025_vs_026/2vs2/ 11158\n",
      "../../battle/battle_025_vs_026/025_vs_026/3vs1/ 11022\n",
      "../../battle/battle_026_vs_028/026_vs_028/1vs3/ 3559\n",
      "../../battle/battle_026_vs_028/026_vs_028/2vs2/ 3587\n",
      "../../battle/battle_026_vs_028/026_vs_028/3vs1/ 3553\n",
      "../../battle/battle_028_vs_031/028_vs_031/1vs3/ 5727\n",
      "../../battle/battle_028_vs_031/028_vs_031/2vs2/ 5757\n",
      "../../battle/battle_028_vs_031/028_vs_031/3vs1/ 5640\n",
      "../../battle/battle_royal_025_026_028_031/025_026_028_031/ 17312\n"
     ]
    },
    {
     "data": {
      "text/plain": [
       "104007"
      ]
     },
     "execution_count": 4,
     "metadata": {},
     "output_type": "execute_result"
    }
   ],
   "source": [
    "directories = [\n",
    "    \"../../battle/battle_023_vs_025/023_vs_025/1vs3/\",\n",
    "    \"../../battle/battle_023_vs_025/023_vs_025/2vs2/\",\n",
    "    \"../../battle/battle_023_vs_025/023_vs_025/3vs1/\",\n",
    "    \"../../battle/battle_025_vs_026/025_vs_026/1vs3/\",\n",
    "    \"../../battle/battle_025_vs_026/025_vs_026/2vs2/\",\n",
    "    \"../../battle/battle_025_vs_026/025_vs_026/3vs1/\",\n",
    "    \"../../battle/battle_026_vs_028/026_vs_028/1vs3/\",\n",
    "    \"../../battle/battle_026_vs_028/026_vs_028/2vs2/\",\n",
    "    \"../../battle/battle_026_vs_028/026_vs_028/3vs1/\",\n",
    "    \"../../battle/battle_028_vs_031/028_vs_031/1vs3/\",\n",
    "    \"../../battle/battle_028_vs_031/028_vs_031/2vs2/\",\n",
    "    \"../../battle/battle_028_vs_031/028_vs_031/3vs1/\",\n",
    "    \"../../battle/battle_royal_025_026_028_031/025_026_028_031/\",\n",
    "]\n",
    "\n",
    "kif_files = []\n",
    "for d in directories:\n",
    "    files = !ls {d} -1\n",
    "    print(d, len(files))\n",
    "    for file in files:\n",
    "        kif_files.append(d + file)\n",
    "n_kifs = len(kif_files)\n",
    "n_kifs"
   ]
  },
  {
   "cell_type": "code",
   "execution_count": 5,
   "id": "c5139acd",
   "metadata": {},
   "outputs": [
    {
     "data": {
      "application/vnd.jupyter.widget-view+json": {
       "model_id": "3f9e401eac9445588aa9644b26d8d653",
       "version_major": 2,
       "version_minor": 0
      },
      "text/plain": [
       "  0%|          | 0/104007 [00:00<?, ?it/s]"
      ]
     },
     "metadata": {},
     "output_type": "display_data"
    },
    {
     "data": {
      "text/plain": [
       "18373449"
      ]
     },
     "execution_count": 5,
     "metadata": {},
     "output_type": "execute_result"
    }
   ],
   "source": [
    "dataset = EfficientDataset(kif_files, n_kifs * 185)\n",
    "len(dataset)"
   ]
  },
  {
   "cell_type": "code",
   "execution_count": 14,
   "id": "bfdb7954",
   "metadata": {},
   "outputs": [
    {
     "data": {
      "text/plain": [
       "176.65588854596325"
      ]
     },
     "execution_count": 14,
     "metadata": {},
     "output_type": "execute_result"
    }
   ],
   "source": [
    "len(dataset) / n_kifs"
   ]
  },
  {
   "cell_type": "code",
   "execution_count": 10,
   "id": "df32c9d3",
   "metadata": {},
   "outputs": [],
   "source": [
    "dataset.kif_files = None\n",
    "torch.save(dataset, \"dataset.pt\")"
   ]
  },
  {
   "cell_type": "code",
   "execution_count": 11,
   "id": "ab1c5c55",
   "metadata": {},
   "outputs": [
    {
     "name": "stdout",
     "output_type": "stream",
     "text": [
      "  adding: dataset.pt (deflated 66%)\n"
     ]
    }
   ],
   "source": [
    "!zip dataset.pt.zip dataset.pt"
   ]
  },
  {
   "cell_type": "code",
   "execution_count": 12,
   "id": "29a9ab7b",
   "metadata": {},
   "outputs": [
    {
     "name": "stdout",
     "output_type": "stream",
     "text": [
      "total 12G\r\n",
      "-rw-rw-r-- 1 nagis nagis 8.5G Jul 23 07:01 dataset.pt\r\n",
      "-rw-rw-r-- 1 nagis nagis 3.0G Jul 23 07:12 dataset.pt.zip\r\n",
      "-rw-rw-r-- 1 nagis nagis 5.7K Jul 23 07:10 make_dataset.ipynb\r\n"
     ]
    }
   ],
   "source": [
    "!ls -lh"
   ]
  },
  {
   "cell_type": "code",
   "execution_count": 13,
   "id": "af738ba3",
   "metadata": {},
   "outputs": [],
   "source": [
    "!rm dataset.pt"
   ]
  },
  {
   "cell_type": "code",
   "execution_count": null,
   "id": "889d6cf2",
   "metadata": {},
   "outputs": [],
   "source": []
  }
 ],
 "metadata": {
  "kernelspec": {
   "display_name": "Python 3",
   "language": "python",
   "name": "python3"
  },
  "language_info": {
   "codemirror_mode": {
    "name": "ipython",
    "version": 3
   },
   "file_extension": ".py",
   "mimetype": "text/x-python",
   "name": "python",
   "nbconvert_exporter": "python",
   "pygments_lexer": "ipython3",
   "version": "3.8.8"
  }
 },
 "nbformat": 4,
 "nbformat_minor": 5
}
