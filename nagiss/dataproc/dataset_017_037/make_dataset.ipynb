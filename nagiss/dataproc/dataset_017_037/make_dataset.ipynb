{
 "cells": [
  {
   "cell_type": "code",
   "execution_count": 3,
   "id": "b7954eae",
   "metadata": {},
   "outputs": [],
   "source": [
    "import os\n",
    "import sys\n",
    "\n",
    "import numpy as np\n",
    "import torch\n",
    "\n",
    "sys.path.append(\"../../rl/src/exp001/\")\n",
    "\n",
    "from kif import Kif\n",
    "from nn import EfficientDataset"
   ]
  },
  {
   "cell_type": "code",
   "execution_count": 4,
   "id": "fc13ba31",
   "metadata": {},
   "outputs": [
    {
     "name": "stdout",
     "output_type": "stream",
     "text": [
      "battle_010_vs_013\t\tbattle_025_vs_026\r\n",
      "battle_010_vs_013_v2\t\tbattle_026_vs_028\r\n",
      "battle_010_vs_013_v3_Cpuct8\tbattle_028_vs_031\r\n",
      "battle_010_vs_013_v4_Cpuct0.25\tbattle_royal_025_026_028_031\r\n",
      "battle_010_vs_013_v5\t\tbattle_royal_026_028_031_032\r\n",
      "battle_013_vs_017\t\tbattle_royal_028_031_032_033\r\n",
      "battle_017_vs_018_newfeats\tbattle_royal_028_031_033_034\r\n",
      "battle_021\t\t\tbattle_royal_031_033_034_035\r\n",
      "battle_021_vs_023\t\tbattle_royal_033_034_035_037\r\n",
      "battle_023_vs_025\r\n"
     ]
    }
   ],
   "source": [
    "!ls ../../battle/"
   ]
  },
  {
   "cell_type": "code",
   "execution_count": 1,
   "id": "6cbd35b9",
   "metadata": {},
   "outputs": [
    {
     "name": "stdout",
     "output_type": "stream",
     "text": [
      "../../battle/battle_017_vs_018_newfeats/017_vs_018/1vs3/ 6350\n",
      "../../battle/battle_017_vs_018_newfeats/017_vs_018/2vs2/ 6612\n",
      "../../battle/battle_017_vs_018_newfeats/017_vs_018/3vs1/ 6451\n",
      "../../battle/battle_025_vs_026/025_vs_026/1vs3/ 11067\n",
      "../../battle/battle_025_vs_026/025_vs_026/2vs2/ 11158\n",
      "../../battle/battle_025_vs_026/025_vs_026/3vs1/ 11022\n",
      "../../battle/battle_026_vs_028/026_vs_028/1vs3/ 3559\n",
      "../../battle/battle_026_vs_028/026_vs_028/2vs2/ 3587\n",
      "../../battle/battle_026_vs_028/026_vs_028/3vs1/ 3553\n",
      "../../battle/battle_028_vs_031/028_vs_031/1vs3/ 5727\n",
      "../../battle/battle_028_vs_031/028_vs_031/2vs2/ 5757\n",
      "../../battle/battle_028_vs_031/028_vs_031/3vs1/ 5640\n",
      "../../battle/battle_royal_025_026_028_031/025_026_028_031/ 17312\n",
      "../../battle/battle_royal_026_028_031_032/026_028_031_032/ 26332\n",
      "../../battle/battle_royal_028_031_032_033/028_031_032_033/ 4543\n",
      "../../battle/battle_royal_028_031_032_033/028_031_032_033_v2/ 23077\n",
      "../../battle/battle_royal_028_031_033_034/028_031_033_034/ 23751\n",
      "../../battle/battle_royal_031_033_034_035/031_033_034_035/ 30347\n",
      "../../battle/battle_royal_033_034_035_037/033_034_035_037/ 10927\n"
     ]
    },
    {
     "data": {
      "text/plain": [
       "216772"
      ]
     },
     "execution_count": 1,
     "metadata": {},
     "output_type": "execute_result"
    }
   ],
   "source": [
    "directories = [\n",
    "    \"../../battle/battle_017_vs_018_newfeats/017_vs_018/1vs3/\",\n",
    "    \"../../battle/battle_017_vs_018_newfeats/017_vs_018/2vs2/\",\n",
    "    \"../../battle/battle_017_vs_018_newfeats/017_vs_018/3vs1/\",\n",
    "#     \"../../battle/battle_021_vs_023/021_vs_023/1vs3/\",\n",
    "#     \"../../battle/battle_021_vs_023/021_vs_023/2vs2/\",\n",
    "#     \"../../battle/battle_021_vs_023/021_vs_023/3vs1/\",\n",
    "#     \"../../battle/battle_023_vs_025/023_vs_025/1vs3/\",\n",
    "#     \"../../battle/battle_023_vs_025/023_vs_025/2vs2/\",\n",
    "#     \"../../battle/battle_023_vs_025/023_vs_025/3vs1/\",\n",
    "    \"../../battle/battle_025_vs_026/025_vs_026/1vs3/\",\n",
    "    \"../../battle/battle_025_vs_026/025_vs_026/2vs2/\",\n",
    "    \"../../battle/battle_025_vs_026/025_vs_026/3vs1/\",\n",
    "    \"../../battle/battle_026_vs_028/026_vs_028/1vs3/\",\n",
    "    \"../../battle/battle_026_vs_028/026_vs_028/2vs2/\",\n",
    "    \"../../battle/battle_026_vs_028/026_vs_028/3vs1/\",\n",
    "    \"../../battle/battle_028_vs_031/028_vs_031/1vs3/\",\n",
    "    \"../../battle/battle_028_vs_031/028_vs_031/2vs2/\",\n",
    "    \"../../battle/battle_028_vs_031/028_vs_031/3vs1/\",\n",
    "    \"../../battle/battle_royal_025_026_028_031/025_026_028_031/\",\n",
    "    \"../../battle/battle_royal_026_028_031_032/026_028_031_032/\",\n",
    "    \"../../battle/battle_royal_028_031_032_033/028_031_032_033/\",\n",
    "    \"../../battle/battle_royal_028_031_032_033/028_031_032_033_v2/\",  # ここからシミュレーション修正\n",
    "    \"../../battle/battle_royal_028_031_033_034/028_031_033_034/\",\n",
    "    \"../../battle/battle_royal_031_033_034_035/031_033_034_035/\",\n",
    "    \"../../battle/battle_royal_033_034_035_037/033_034_035_037/\",\n",
    "]\n",
    "\n",
    "kif_files = []\n",
    "for d in directories:\n",
    "    files = !ls {d} -1\n",
    "    print(d, len(files))\n",
    "    for file in files:\n",
    "        kif_files.append(d + file)\n",
    "n_kifs = len(kif_files)\n",
    "n_kifs"
   ]
  },
  {
   "cell_type": "code",
   "execution_count": 5,
   "id": "5c64be58",
   "metadata": {},
   "outputs": [
    {
     "data": {
      "application/vnd.jupyter.widget-view+json": {
       "model_id": "73cbb23b56b14931b16788e18d6ba2c4",
       "version_major": 2,
       "version_minor": 0
      },
      "text/plain": [
       "  0%|          | 0/216772 [00:00<?, ?it/s]"
      ]
     },
     "metadata": {},
     "output_type": "display_data"
    },
    {
     "data": {
      "text/plain": [
       "38215198"
      ]
     },
     "execution_count": 5,
     "metadata": {},
     "output_type": "execute_result"
    }
   ],
   "source": [
    "dataset = EfficientDataset(kif_files, n_kifs * 180)\n",
    "len(dataset)"
   ]
  },
  {
   "cell_type": "code",
   "execution_count": 6,
   "id": "b246dedf",
   "metadata": {},
   "outputs": [
    {
     "data": {
      "text/plain": [
       "176.29213182514346"
      ]
     },
     "execution_count": 6,
     "metadata": {},
     "output_type": "execute_result"
    }
   ],
   "source": [
    "len(dataset) / n_kifs"
   ]
  },
  {
   "cell_type": "code",
   "execution_count": 7,
   "id": "3a63e198",
   "metadata": {},
   "outputs": [],
   "source": [
    "# 保存する前に他の処理を止める\n",
    "dataset.kif_files = None\n",
    "torch.save(dataset, \"dataset.pt\")"
   ]
  },
  {
   "cell_type": "code",
   "execution_count": 8,
   "id": "8a899ff1",
   "metadata": {},
   "outputs": [
    {
     "name": "stdout",
     "output_type": "stream",
     "text": [
      "  adding: dataset.pt (deflated 64%)\n"
     ]
    }
   ],
   "source": [
    "!zip dataset.pt.zip dataset.pt"
   ]
  },
  {
   "cell_type": "code",
   "execution_count": 9,
   "id": "8061aac6",
   "metadata": {},
   "outputs": [
    {
     "name": "stdout",
     "output_type": "stream",
     "text": [
      "total 24G\r\n",
      "-rw-rw-r-- 1 nagis nagis  18G Jul 24 15:36 dataset.pt\r\n",
      "-rw-rw-r-- 1 nagis nagis 6.2G Jul 24 15:51 dataset.pt.zip\r\n",
      "-rw-rw-r-- 1 nagis nagis 7.3K Jul 24 15:40 make_dataset.ipynb\r\n"
     ]
    }
   ],
   "source": [
    "!ls -lh"
   ]
  },
  {
   "cell_type": "code",
   "execution_count": 10,
   "id": "80c5b1cf",
   "metadata": {},
   "outputs": [],
   "source": [
    "!rm dataset.pt"
   ]
  },
  {
   "cell_type": "code",
   "execution_count": null,
   "id": "8284b16c",
   "metadata": {},
   "outputs": [],
   "source": []
  }
 ],
 "metadata": {
  "kernelspec": {
   "display_name": "Python 3",
   "language": "python",
   "name": "python3"
  },
  "language_info": {
   "codemirror_mode": {
    "name": "ipython",
    "version": 3
   },
   "file_extension": ".py",
   "mimetype": "text/x-python",
   "name": "python",
   "nbconvert_exporter": "python",
   "pygments_lexer": "ipython3",
   "version": "3.8.8"
  }
 },
 "nbformat": 4,
 "nbformat_minor": 5
}
