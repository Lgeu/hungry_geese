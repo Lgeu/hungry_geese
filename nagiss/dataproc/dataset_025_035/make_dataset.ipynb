{
 "cells": [
  {
   "cell_type": "code",
   "execution_count": 1,
   "id": "12164eb5",
   "metadata": {},
   "outputs": [],
   "source": [
    "import os\n",
    "import sys\n",
    "\n",
    "import numpy as np\n",
    "import torch\n",
    "\n",
    "sys.path.append(\"../../rl/src/exp001/\")\n",
    "\n",
    "from kif import Kif\n",
    "from nn import EfficientDataset"
   ]
  },
  {
   "cell_type": "code",
   "execution_count": 2,
   "id": "48e59cf7",
   "metadata": {
    "scrolled": true
   },
   "outputs": [
    {
     "name": "stdout",
     "output_type": "stream",
     "text": [
      "battle_010_vs_013\t\tbattle_023_vs_025\r\n",
      "battle_010_vs_013_v2\t\tbattle_025_vs_026\r\n",
      "battle_010_vs_013_v3_Cpuct8\tbattle_026_vs_028\r\n",
      "battle_010_vs_013_v4_Cpuct0.25\tbattle_028_vs_031\r\n",
      "battle_010_vs_013_v5\t\tbattle_royal_025_026_028_031\r\n",
      "battle_013_vs_017\t\tbattle_royal_026_028_031_032\r\n",
      "battle_017_vs_018_newfeats\tbattle_royal_028_031_032_033\r\n",
      "battle_021\t\t\tbattle_royal_028_031_033_034\r\n",
      "battle_021_vs_023\t\tbattle_royal_031_033_034_035\r\n"
     ]
    }
   ],
   "source": [
    "!ls ../../battle/"
   ]
  },
  {
   "cell_type": "code",
   "execution_count": 3,
   "id": "d6c16a7c",
   "metadata": {},
   "outputs": [
    {
     "name": "stdout",
     "output_type": "stream",
     "text": [
      "../../battle/battle_royal_025_026_028_031/025_026_028_031/ 17312\n",
      "../../battle/battle_royal_026_028_031_032/026_028_031_032/ 26332\n",
      "../../battle/battle_royal_028_031_032_033/028_031_032_033/ 4543\n",
      "../../battle/battle_royal_028_031_032_033/028_031_032_033_v2/ 23077\n",
      "../../battle/battle_royal_028_031_033_034/028_031_033_034/ 23751\n",
      "../../battle/battle_royal_031_033_034_035/031_033_034_035/ 12667\n"
     ]
    },
    {
     "data": {
      "text/plain": [
       "107682"
      ]
     },
     "execution_count": 3,
     "metadata": {},
     "output_type": "execute_result"
    }
   ],
   "source": [
    "directories = [\n",
    "    \"../../battle/battle_royal_025_026_028_031/025_026_028_031/\",\n",
    "    \"../../battle/battle_royal_026_028_031_032/026_028_031_032/\",\n",
    "    \"../../battle/battle_royal_028_031_032_033/028_031_032_033/\",\n",
    "    \"../../battle/battle_royal_028_031_032_033/028_031_032_033_v2/\",  # ここからシミュレーション修正\n",
    "    \"../../battle/battle_royal_028_031_033_034/028_031_033_034/\",\n",
    "    \"../../battle/battle_royal_031_033_034_035/031_033_034_035/\",\n",
    "]\n",
    "\n",
    "kif_files = []\n",
    "for d in directories:\n",
    "    assert d.endswith(\"/\")\n",
    "    files = !ls {d} -1\n",
    "    print(d, len(files))\n",
    "    for file in files:\n",
    "        kif_files.append(d + file)\n",
    "n_kifs = len(kif_files)\n",
    "n_kifs"
   ]
  },
  {
   "cell_type": "code",
   "execution_count": 4,
   "id": "061a2a6b",
   "metadata": {},
   "outputs": [
    {
     "data": {
      "application/vnd.jupyter.widget-view+json": {
       "model_id": "89659d9902234f58a1d25b679f40940c",
       "version_major": 2,
       "version_minor": 0
      },
      "text/plain": [
       "  0%|          | 0/107682 [00:00<?, ?it/s]"
      ]
     },
     "metadata": {},
     "output_type": "display_data"
    },
    {
     "data": {
      "text/plain": [
       "18869698"
      ]
     },
     "execution_count": 4,
     "metadata": {},
     "output_type": "execute_result"
    }
   ],
   "source": [
    "dataset = EfficientDataset(kif_files, n_kifs * 180)\n",
    "len(dataset)"
   ]
  },
  {
   "cell_type": "code",
   "execution_count": 5,
   "id": "e7de106b",
   "metadata": {},
   "outputs": [
    {
     "data": {
      "text/plain": [
       "175.23539681655245"
      ]
     },
     "execution_count": 5,
     "metadata": {},
     "output_type": "execute_result"
    }
   ],
   "source": [
    "len(dataset) / n_kifs"
   ]
  },
  {
   "cell_type": "code",
   "execution_count": 6,
   "id": "0dc5fafa",
   "metadata": {},
   "outputs": [],
   "source": [
    "dataset.kif_files = None\n",
    "torch.save(dataset, \"dataset.pt\")"
   ]
  },
  {
   "cell_type": "code",
   "execution_count": 7,
   "id": "31e246b3",
   "metadata": {},
   "outputs": [
    {
     "name": "stdout",
     "output_type": "stream",
     "text": [
      "  adding: dataset.ptThe history saving thread hit an unexpected error (OperationalError('database is locked')).History will not be written to the database.\n",
      " (deflated 65%)\n"
     ]
    }
   ],
   "source": [
    "!zip dataset.pt.zip dataset.pt"
   ]
  },
  {
   "cell_type": "code",
   "execution_count": 8,
   "id": "f90b431c",
   "metadata": {},
   "outputs": [
    {
     "name": "stdout",
     "output_type": "stream",
     "text": [
      "total 12G\r\n",
      "-rw-rw-r-- 1 nagis nagis 8.6G Jul 24 06:51 dataset.pt\r\n",
      "-rw-rw-r-- 1 nagis nagis 3.1G Jul 24 07:00 dataset.pt.zip\r\n",
      "-rw-rw-r-- 1 nagis nagis 5.4K Jul 24 06:52 make_dataset.ipynb\r\n"
     ]
    }
   ],
   "source": [
    "!ls -lh"
   ]
  },
  {
   "cell_type": "code",
   "execution_count": 9,
   "id": "8472c209",
   "metadata": {},
   "outputs": [],
   "source": [
    "!rm dataset.pt"
   ]
  },
  {
   "cell_type": "code",
   "execution_count": null,
   "id": "2bddc551",
   "metadata": {},
   "outputs": [],
   "source": []
  }
 ],
 "metadata": {
  "kernelspec": {
   "display_name": "Python 3",
   "language": "python",
   "name": "python3"
  },
  "language_info": {
   "codemirror_mode": {
    "name": "ipython",
    "version": 3
   },
   "file_extension": ".py",
   "mimetype": "text/x-python",
   "name": "python",
   "nbconvert_exporter": "python",
   "pygments_lexer": "ipython3",
   "version": "3.8.8"
  }
 },
 "nbformat": 4,
 "nbformat_minor": 5
}
