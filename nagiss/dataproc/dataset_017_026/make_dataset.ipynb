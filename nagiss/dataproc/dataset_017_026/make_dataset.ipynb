{
 "cells": [
  {
   "cell_type": "code",
   "execution_count": 2,
   "id": "3f61129e",
   "metadata": {},
   "outputs": [],
   "source": [
    "import os\n",
    "import sys\n",
    "\n",
    "import numpy as np\n",
    "import torch\n",
    "\n",
    "sys.path.append(\"../../rl/src/exp001/\")\n",
    "\n",
    "from kif import Kif\n",
    "from nn import EfficientDataset"
   ]
  },
  {
   "cell_type": "code",
   "execution_count": 3,
   "id": "fd483031",
   "metadata": {},
   "outputs": [
    {
     "name": "stdout",
     "output_type": "stream",
     "text": [
      "battle_010_vs_013\t\tbattle_010_vs_013_v5\t    battle_021_vs_023\r\n",
      "battle_010_vs_013_v2\t\tbattle_013_vs_017\t    battle_023_vs_025\r\n",
      "battle_010_vs_013_v3_Cpuct8\tbattle_017_vs_018_newfeats  battle_025_vs_026\r\n",
      "battle_010_vs_013_v4_Cpuct0.25\tbattle_021\r\n"
     ]
    }
   ],
   "source": [
    "!ls ../../battle/"
   ]
  },
  {
   "cell_type": "code",
   "execution_count": 7,
   "id": "e30f1321",
   "metadata": {},
   "outputs": [
    {
     "name": "stdout",
     "output_type": "stream",
     "text": [
      "../../battle/battle_017_vs_018_newfeats/017_vs_018/1vs3/ 6350\n",
      "../../battle/battle_017_vs_018_newfeats/017_vs_018/2vs2/ 6612\n",
      "../../battle/battle_017_vs_018_newfeats/017_vs_018/3vs1/ 6451\n",
      "../../battle/battle_021/021/ 15007\n",
      "../../battle/battle_021_vs_023/021_vs_023/1vs3/ 5729\n",
      "../../battle/battle_021_vs_023/021_vs_023/2vs2/ 5799\n",
      "../../battle/battle_021_vs_023/021_vs_023/3vs1/ 5543\n",
      "../../battle/battle_023_vs_025/023_vs_025/1vs3/ 8484\n",
      "../../battle/battle_023_vs_025/023_vs_025/2vs2/ 8673\n",
      "../../battle/battle_023_vs_025/023_vs_025/3vs1/ 8468\n",
      "../../battle/battle_025_vs_026/025_vs_026/1vs3/ 11067\n",
      "../../battle/battle_025_vs_026/025_vs_026/2vs2/ 11158\n",
      "../../battle/battle_025_vs_026/025_vs_026/3vs1/ 11022\n"
     ]
    },
    {
     "data": {
      "text/plain": [
       "110363"
      ]
     },
     "execution_count": 7,
     "metadata": {},
     "output_type": "execute_result"
    }
   ],
   "source": [
    "directories = [\n",
    "    \"../../battle/battle_017_vs_018_newfeats/017_vs_018/1vs3/\",\n",
    "    \"../../battle/battle_017_vs_018_newfeats/017_vs_018/2vs2/\",\n",
    "    \"../../battle/battle_017_vs_018_newfeats/017_vs_018/3vs1/\",\n",
    "    \"../../battle/battle_021/021/\",\n",
    "    \"../../battle/battle_021_vs_023/021_vs_023/1vs3/\",\n",
    "    \"../../battle/battle_021_vs_023/021_vs_023/2vs2/\",\n",
    "    \"../../battle/battle_021_vs_023/021_vs_023/3vs1/\",\n",
    "    \"../../battle/battle_023_vs_025/023_vs_025/1vs3/\",\n",
    "    \"../../battle/battle_023_vs_025/023_vs_025/2vs2/\",\n",
    "    \"../../battle/battle_023_vs_025/023_vs_025/3vs1/\",\n",
    "    \"../../battle/battle_025_vs_026/025_vs_026/1vs3/\",\n",
    "    \"../../battle/battle_025_vs_026/025_vs_026/2vs2/\",\n",
    "    \"../../battle/battle_025_vs_026/025_vs_026/3vs1/\",\n",
    "]\n",
    "\n",
    "kif_files = []\n",
    "for d in directories:\n",
    "    files = !ls {d} -1\n",
    "    print(d, len(files))\n",
    "    for file in files:\n",
    "        kif_files.append(d + file)\n",
    "n_kifs = len(kif_files)\n",
    "n_kifs"
   ]
  },
  {
   "cell_type": "code",
   "execution_count": 8,
   "id": "64f9eefe",
   "metadata": {},
   "outputs": [
    {
     "data": {
      "application/vnd.jupyter.widget-view+json": {
       "model_id": "10a91f3d469944f7822d1fb275fd33d4",
       "version_major": 2,
       "version_minor": 0
      },
      "text/plain": [
       "  0%|          | 0/110363 [00:00<?, ?it/s]"
      ]
     },
     "metadata": {},
     "output_type": "display_data"
    },
    {
     "data": {
      "text/plain": [
       "19683279"
      ]
     },
     "execution_count": 8,
     "metadata": {},
     "output_type": "execute_result"
    }
   ],
   "source": [
    "dataset = EfficientDataset(kif_files, n_kifs * 185)\n",
    "len(dataset)"
   ]
  },
  {
   "cell_type": "code",
   "execution_count": 9,
   "id": "1e763b70",
   "metadata": {},
   "outputs": [],
   "source": [
    "dataset.kif_files = None\n",
    "torch.save(dataset, \"dataset.pt\")"
   ]
  },
  {
   "cell_type": "code",
   "execution_count": 10,
   "id": "fea0dd6e",
   "metadata": {},
   "outputs": [
    {
     "name": "stdout",
     "output_type": "stream",
     "text": [
      "  adding: dataset.pt (deflated 65%)\n"
     ]
    }
   ],
   "source": [
    "!zip dataset.pt.zip dataset.pt"
   ]
  },
  {
   "cell_type": "code",
   "execution_count": 11,
   "id": "c99d86b9",
   "metadata": {},
   "outputs": [
    {
     "name": "stdout",
     "output_type": "stream",
     "text": [
      "total 13G\r\n",
      "-rw-rw-r-- 1 nagis nagis 9.1G Jul 22 15:55 dataset.pt\r\n",
      "-rw-rw-r-- 1 nagis nagis 3.2G Jul 22 16:05 dataset.pt.zip\r\n",
      "-rw-rw-r-- 1 nagis nagis 5.2K Jul 22 15:58 make_dataset.ipynb\r\n"
     ]
    }
   ],
   "source": [
    "!ls -lh"
   ]
  },
  {
   "cell_type": "code",
   "execution_count": 12,
   "id": "bdb4eaf7",
   "metadata": {},
   "outputs": [],
   "source": [
    "!rm dataset.pt"
   ]
  },
  {
   "cell_type": "code",
   "execution_count": null,
   "id": "9f5d5b1f",
   "metadata": {},
   "outputs": [],
   "source": []
  }
 ],
 "metadata": {
  "kernelspec": {
   "display_name": "Python 3",
   "language": "python",
   "name": "python3"
  },
  "language_info": {
   "codemirror_mode": {
    "name": "ipython",
    "version": 3
   },
   "file_extension": ".py",
   "mimetype": "text/x-python",
   "name": "python",
   "nbconvert_exporter": "python",
   "pygments_lexer": "ipython3",
   "version": "3.8.8"
  }
 },
 "nbformat": 4,
 "nbformat_minor": 5
}
