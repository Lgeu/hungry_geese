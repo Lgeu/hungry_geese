{
 "cells": [
  {
   "cell_type": "code",
   "execution_count": 1,
   "id": "1c972b4d",
   "metadata": {},
   "outputs": [],
   "source": [
    "import os\n",
    "import sys\n",
    "\n",
    "import numpy as np\n",
    "import torch\n",
    "\n",
    "sys.path.append(\"../../rl/src/exp001/\")\n",
    "\n",
    "from kif import Kif\n",
    "from nn import EfficientDataset"
   ]
  },
  {
   "cell_type": "code",
   "execution_count": 2,
   "id": "218d326d",
   "metadata": {},
   "outputs": [
    {
     "name": "stdout",
     "output_type": "stream",
     "text": [
      "battle_010_vs_013\t\tbattle_021_vs_023\r\n",
      "battle_010_vs_013_v2\t\tbattle_023_vs_025\r\n",
      "battle_010_vs_013_v3_Cpuct8\tbattle_025_vs_026\r\n",
      "battle_010_vs_013_v4_Cpuct0.25\tbattle_026_vs_028\r\n",
      "battle_010_vs_013_v5\t\tbattle_028_vs_031\r\n",
      "battle_013_vs_017\t\tbattle_royal_025_026_028_031\r\n",
      "battle_017_vs_018_newfeats\tbattle_royal_026_028_031_032\r\n",
      "battle_021\t\t\tbattle_royal_028_031_032_033\r\n"
     ]
    }
   ],
   "source": [
    "!ls ../../battle/"
   ]
  },
  {
   "cell_type": "code",
   "execution_count": 3,
   "id": "00c20dce",
   "metadata": {},
   "outputs": [
    {
     "name": "stdout",
     "output_type": "stream",
     "text": [
      "../../battle/battle_025_vs_026/025_vs_026/2vs2/ 11158\n",
      "../../battle/battle_026_vs_028/026_vs_028/1vs3/ 3559\n",
      "../../battle/battle_026_vs_028/026_vs_028/2vs2/ 3587\n",
      "../../battle/battle_026_vs_028/026_vs_028/3vs1/ 3553\n",
      "../../battle/battle_028_vs_031/028_vs_031/1vs3/ 5727\n",
      "../../battle/battle_028_vs_031/028_vs_031/2vs2/ 5757\n",
      "../../battle/battle_028_vs_031/028_vs_031/3vs1/ 5640\n",
      "../../battle/battle_royal_025_026_028_031/025_026_028_031/ 17312\n",
      "../../battle/battle_royal_026_028_031_032/026_028_031_032/ 26332\n",
      "../../battle/battle_royal_028_031_032_033/028_031_032_033/ 4543\n",
      "../../battle/battle_royal_028_031_032_033/028_031_032_033_v2/ 12845\n"
     ]
    },
    {
     "data": {
      "text/plain": [
       "100013"
      ]
     },
     "execution_count": 3,
     "metadata": {},
     "output_type": "execute_result"
    }
   ],
   "source": [
    "directories = [\n",
    "    \"../../battle/battle_025_vs_026/025_vs_026/2vs2/\",\n",
    "    \"../../battle/battle_026_vs_028/026_vs_028/1vs3/\",\n",
    "    \"../../battle/battle_026_vs_028/026_vs_028/2vs2/\",\n",
    "    \"../../battle/battle_026_vs_028/026_vs_028/3vs1/\",\n",
    "    \"../../battle/battle_028_vs_031/028_vs_031/1vs3/\",\n",
    "    \"../../battle/battle_028_vs_031/028_vs_031/2vs2/\",\n",
    "    \"../../battle/battle_028_vs_031/028_vs_031/3vs1/\",\n",
    "    \"../../battle/battle_royal_025_026_028_031/025_026_028_031/\",\n",
    "    \"../../battle/battle_royal_026_028_031_032/026_028_031_032/\",\n",
    "    \"../../battle/battle_royal_028_031_032_033/028_031_032_033/\",\n",
    "    \"../../battle/battle_royal_028_031_032_033/028_031_032_033_v2/\",  # ここからシミュレーション修正\n",
    "]\n",
    "\n",
    "kif_files = []\n",
    "for d in directories:\n",
    "    files = !ls {d} -1\n",
    "    print(d, len(files))\n",
    "    for file in files:\n",
    "        kif_files.append(d + file)\n",
    "n_kifs = len(kif_files)\n",
    "n_kifs"
   ]
  },
  {
   "cell_type": "code",
   "execution_count": null,
   "id": "18bd98f5",
   "metadata": {},
   "outputs": [
    {
     "data": {
      "application/vnd.jupyter.widget-view+json": {
       "model_id": "1f6b7bc2d48f4c3cacc613036b00c683",
       "version_major": 2,
       "version_minor": 0
      },
      "text/plain": [
       "  0%|          | 0/100013 [00:00<?, ?it/s]"
      ]
     },
     "metadata": {},
     "output_type": "display_data"
    }
   ],
   "source": [
    "dataset = EfficientDataset(kif_files, n_kifs * 185)\n",
    "len(dataset)"
   ]
  },
  {
   "cell_type": "code",
   "execution_count": null,
   "id": "5f6b7d06",
   "metadata": {},
   "outputs": [],
   "source": [
    "len(dataset) / n_kifs"
   ]
  },
  {
   "cell_type": "code",
   "execution_count": null,
   "id": "dbe75bb8",
   "metadata": {},
   "outputs": [],
   "source": [
    "dataset.kif_files = None\n",
    "torch.save(dataset, \"dataset.pt\")"
   ]
  },
  {
   "cell_type": "code",
   "execution_count": null,
   "id": "984693f9",
   "metadata": {},
   "outputs": [],
   "source": [
    "!zip dataset.pt.zip dataset.pt"
   ]
  },
  {
   "cell_type": "code",
   "execution_count": null,
   "id": "f3a80825",
   "metadata": {},
   "outputs": [],
   "source": [
    "!ls -lh"
   ]
  },
  {
   "cell_type": "code",
   "execution_count": null,
   "id": "38d8e989",
   "metadata": {},
   "outputs": [],
   "source": [
    "!rm dataset.pt"
   ]
  },
  {
   "cell_type": "code",
   "execution_count": null,
   "id": "81f1e9f9",
   "metadata": {},
   "outputs": [],
   "source": []
  }
 ],
 "metadata": {
  "kernelspec": {
   "display_name": "Python 3",
   "language": "python",
   "name": "python3"
  },
  "language_info": {
   "codemirror_mode": {
    "name": "ipython",
    "version": 3
   },
   "file_extension": ".py",
   "mimetype": "text/x-python",
   "name": "python",
   "nbconvert_exporter": "python",
   "pygments_lexer": "ipython3",
   "version": "3.8.8"
  }
 },
 "nbformat": 4,
 "nbformat_minor": 5
}
