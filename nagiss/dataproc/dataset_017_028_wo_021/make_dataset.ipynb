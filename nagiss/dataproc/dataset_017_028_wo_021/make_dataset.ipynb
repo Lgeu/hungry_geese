{
 "cells": [
  {
   "cell_type": "code",
   "execution_count": 1,
   "id": "e235d598",
   "metadata": {},
   "outputs": [],
   "source": [
    "import os\n",
    "import sys\n",
    "\n",
    "import numpy as np\n",
    "import torch\n",
    "\n",
    "sys.path.append(\"../../rl/src/exp001/\")\n",
    "\n",
    "from kif import Kif\n",
    "from nn import EfficientDataset"
   ]
  },
  {
   "cell_type": "code",
   "execution_count": 2,
   "id": "04e2c0cc",
   "metadata": {},
   "outputs": [
    {
     "name": "stdout",
     "output_type": "stream",
     "text": [
      "battle_010_vs_013\t\tbattle_021\r\n",
      "battle_010_vs_013_v2\t\tbattle_021_vs_023\r\n",
      "battle_010_vs_013_v3_Cpuct8\tbattle_023_vs_025\r\n",
      "battle_010_vs_013_v4_Cpuct0.25\tbattle_025_vs_026\r\n",
      "battle_010_vs_013_v5\t\tbattle_026_vs_028\r\n",
      "battle_013_vs_017\t\tbattle_028_vs_031\r\n",
      "battle_017_vs_018_newfeats\tbattle_royal_025_026_028_031\r\n"
     ]
    }
   ],
   "source": [
    "!ls ../../battle/"
   ]
  },
  {
   "cell_type": "code",
   "execution_count": 3,
   "id": "ff9afa67",
   "metadata": {},
   "outputs": [
    {
     "name": "stdout",
     "output_type": "stream",
     "text": [
      "../../battle/battle_017_vs_018_newfeats/017_vs_018/1vs3/ 6350\n",
      "../../battle/battle_017_vs_018_newfeats/017_vs_018/2vs2/ 6612\n",
      "../../battle/battle_017_vs_018_newfeats/017_vs_018/3vs1/ 6451\n",
      "../../battle/battle_021_vs_023/021_vs_023/1vs3/ 5729\n",
      "../../battle/battle_021_vs_023/021_vs_023/2vs2/ 5799\n",
      "../../battle/battle_021_vs_023/021_vs_023/3vs1/ 5543\n",
      "../../battle/battle_023_vs_025/023_vs_025/1vs3/ 8484\n",
      "../../battle/battle_023_vs_025/023_vs_025/2vs2/ 8673\n",
      "../../battle/battle_023_vs_025/023_vs_025/3vs1/ 8468\n",
      "../../battle/battle_025_vs_026/025_vs_026/1vs3/ 11067\n",
      "../../battle/battle_025_vs_026/025_vs_026/2vs2/ 11158\n",
      "../../battle/battle_025_vs_026/025_vs_026/3vs1/ 11022\n",
      "../../battle/battle_026_vs_028/026_vs_028/1vs3/ 3559\n",
      "../../battle/battle_026_vs_028/026_vs_028/2vs2/ 3587\n",
      "../../battle/battle_026_vs_028/026_vs_028/3vs1/ 3553\n"
     ]
    },
    {
     "data": {
      "text/plain": [
       "106055"
      ]
     },
     "execution_count": 3,
     "metadata": {},
     "output_type": "execute_result"
    }
   ],
   "source": [
    "directories = [\n",
    "    \"../../battle/battle_017_vs_018_newfeats/017_vs_018/1vs3/\",\n",
    "    \"../../battle/battle_017_vs_018_newfeats/017_vs_018/2vs2/\",\n",
    "    \"../../battle/battle_017_vs_018_newfeats/017_vs_018/3vs1/\",\n",
    "    \"../../battle/battle_021_vs_023/021_vs_023/1vs3/\",\n",
    "    \"../../battle/battle_021_vs_023/021_vs_023/2vs2/\",\n",
    "    \"../../battle/battle_021_vs_023/021_vs_023/3vs1/\",\n",
    "    \"../../battle/battle_023_vs_025/023_vs_025/1vs3/\",\n",
    "    \"../../battle/battle_023_vs_025/023_vs_025/2vs2/\",\n",
    "    \"../../battle/battle_023_vs_025/023_vs_025/3vs1/\",\n",
    "    \"../../battle/battle_025_vs_026/025_vs_026/1vs3/\",\n",
    "    \"../../battle/battle_025_vs_026/025_vs_026/2vs2/\",\n",
    "    \"../../battle/battle_025_vs_026/025_vs_026/3vs1/\",\n",
    "    \"../../battle/battle_026_vs_028/026_vs_028/1vs3/\",\n",
    "    \"../../battle/battle_026_vs_028/026_vs_028/2vs2/\",\n",
    "    \"../../battle/battle_026_vs_028/026_vs_028/3vs1/\",\n",
    "]\n",
    "\n",
    "kif_files = []\n",
    "for d in directories:\n",
    "    files = !ls {d} -1\n",
    "    print(d, len(files))\n",
    "    for file in files:\n",
    "        kif_files.append(d + file)\n",
    "n_kifs = len(kif_files)\n",
    "n_kifs"
   ]
  },
  {
   "cell_type": "code",
   "execution_count": 4,
   "id": "3906c3d6",
   "metadata": {},
   "outputs": [
    {
     "data": {
      "application/vnd.jupyter.widget-view+json": {
       "model_id": "5d9057f2af9b4b3aa3d6ef7b53d8445e",
       "version_major": 2,
       "version_minor": 0
      },
      "text/plain": [
       "  0%|          | 0/106055 [00:00<?, ?it/s]"
      ]
     },
     "metadata": {},
     "output_type": "display_data"
    },
    {
     "data": {
      "text/plain": [
       "18739538"
      ]
     },
     "execution_count": 4,
     "metadata": {},
     "output_type": "execute_result"
    }
   ],
   "source": [
    "dataset = EfficientDataset(kif_files, n_kifs * 185)\n",
    "len(dataset)"
   ]
  },
  {
   "cell_type": "code",
   "execution_count": 5,
   "id": "ed11ac42",
   "metadata": {},
   "outputs": [],
   "source": [
    "dataset.kif_files = None\n",
    "torch.save(dataset, \"dataset.pt\")"
   ]
  },
  {
   "cell_type": "code",
   "execution_count": 6,
   "id": "1fc243f1",
   "metadata": {},
   "outputs": [
    {
     "name": "stdout",
     "output_type": "stream",
     "text": [
      "  adding: dataset.pt (deflated 66%)\n"
     ]
    }
   ],
   "source": [
    "!zip dataset.pt.zip dataset.pt"
   ]
  },
  {
   "cell_type": "code",
   "execution_count": 7,
   "id": "07d73615",
   "metadata": {},
   "outputs": [
    {
     "name": "stdout",
     "output_type": "stream",
     "text": [
      "total 12G\r\n",
      "-rw-rw-r-- 1 nagis nagis 8.7G Jul 22 20:42 dataset.pt\r\n",
      "-rw-rw-r-- 1 nagis nagis 3.0G Jul 22 20:51 dataset.pt.zip\r\n",
      "-rw-rw-r-- 1 nagis nagis 5.8K Jul 22 20:44 make_dataset.ipynb\r\n"
     ]
    }
   ],
   "source": [
    "!ls -lh"
   ]
  },
  {
   "cell_type": "code",
   "execution_count": 8,
   "id": "5b463fa1",
   "metadata": {},
   "outputs": [],
   "source": [
    "!rm dataset.pt"
   ]
  },
  {
   "cell_type": "code",
   "execution_count": null,
   "id": "ca521d1f",
   "metadata": {},
   "outputs": [],
   "source": []
  }
 ],
 "metadata": {
  "kernelspec": {
   "display_name": "Python 3",
   "language": "python",
   "name": "python3"
  },
  "language_info": {
   "codemirror_mode": {
    "name": "ipython",
    "version": 3
   },
   "file_extension": ".py",
   "mimetype": "text/x-python",
   "name": "python",
   "nbconvert_exporter": "python",
   "pygments_lexer": "ipython3",
   "version": "3.8.8"
  }
 },
 "nbformat": 4,
 "nbformat_minor": 5
}
