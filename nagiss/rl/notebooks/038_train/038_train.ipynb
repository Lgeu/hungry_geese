{
 "cells": [
  {
   "cell_type": "code",
   "execution_count": 1,
   "id": "273fb415",
   "metadata": {},
   "outputs": [],
   "source": [
    "import os\n",
    "from time import sleep\n",
    "import numpy as np"
   ]
  },
  {
   "cell_type": "code",
   "execution_count": 5,
   "id": "67abc94d",
   "metadata": {},
   "outputs": [
    {
     "name": "stdout",
     "output_type": "stream",
     "text": [
      "--2021-07-24 16:03:23--  http://35.227.95.194:8888/notebooks/work/hungry_geese/nagiss/dataproc/dataset_017_037/dataset.pt.zip?token=3b6cfa310ae1c776623e9537d2726cb2b19dc0dbb5b491fa\n",
      "Connecting to 35.227.95.194:8888... connected.\n",
      "HTTP request sent, awaiting response... 302 Found\n",
      "Location: /files/work/hungry_geese/nagiss/dataproc/dataset_017_037/dataset.pt.zip [following]\n",
      "--2021-07-24 16:03:23--  http://35.227.95.194:8888/files/work/hungry_geese/nagiss/dataproc/dataset_017_037/dataset.pt.zip\n",
      "Reusing existing connection to 35.227.95.194:8888.\n",
      "HTTP request sent, awaiting response... 200 OK\n",
      "Length: 6571721368 (6.1G) [application/zip]\n",
      "Saving to: ‘dataset.pt.zip’\n",
      "\n",
      "dataset.pt.zip      100%[===================>]   6.12G  83.1MB/s    in 73s     \n",
      "\n",
      "2021-07-24 16:04:36 (85.4 MB/s) - ‘dataset.pt.zip’ saved [6571721368/6571721368]\n",
      "\n"
     ]
    }
   ],
   "source": [
    "ip = \"35.227.95.194\"\n",
    "token = \"3b6cfa310ae1c776623e9537d2726cb2b19dc0dbb5b491fa\"\n",
    "file = \"dataset.pt\"\n",
    "\n",
    "!wget http://{ip}:8888/notebooks/work/hungry_geese/nagiss/dataproc/dataset_017_037/{file}.zip?token={token} \\\n",
    "        --header='Referer: http://{ip}:8888/notebooks/work/hungry_geese/nagiss/dataproc/dataset_017_037/make_dataset.ipynb' \\\n",
    "        -O {file}.zip"
   ]
  },
  {
   "cell_type": "code",
   "execution_count": 6,
   "id": "6f606d86",
   "metadata": {},
   "outputs": [],
   "source": [
    "!unzip -q dataset.pt.zip"
   ]
  },
  {
   "cell_type": "code",
   "execution_count": 10,
   "id": "9f046497",
   "metadata": {},
   "outputs": [],
   "source": [
    "dataset_file = \"./dataset.pt\""
   ]
  },
  {
   "cell_type": "code",
   "execution_count": 11,
   "id": "71a39bf5",
   "metadata": {},
   "outputs": [],
   "source": [
    "from pprint import pprint\n",
    "from typing import List\n",
    "from pathlib import Path\n",
    "from dataclasses import dataclass, asdict\n",
    "\n",
    "\n",
    "@dataclass\n",
    "class Kif:\n",
    "    @dataclass\n",
    "    class Step:\n",
    "        step: int\n",
    "        remaining_times: List[float]\n",
    "        agent_positions: List[List[int]]\n",
    "        food_positions: List[int]\n",
    "        moves: List[int]\n",
    "        values: List[List[float]]\n",
    "        agent_features: List[List[int]]\n",
    "        condition_features: List[int]\n",
    "\n",
    "    format_version: str\n",
    "    kif_id: str\n",
    "    seed: int\n",
    "    agent_information: List[str]\n",
    "    steps: List[Step]\n",
    "    ranks: List[int]\n",
    "\n",
    "    def kaggle_env_steps(self):\n",
    "        class Struct(dict):\n",
    "            def __init__(self, **entries):\n",
    "                entries = {k: v for k, v in entries.items() if k != \"items\"}\n",
    "                dict.__init__(self, entries)\n",
    "                self.__dict__.update(entries)\n",
    "\n",
    "            def __setattr__(self, attr, value):\n",
    "                self.__dict__[attr] = value\n",
    "                self[attr] = value\n",
    "\n",
    "        res = []\n",
    "        for step in self.steps:\n",
    "            agents = [Struct() for _ in range(4)]\n",
    "            for i, agent in enumerate(agents):\n",
    "                agent.action = \"NORTH\"\n",
    "                agent.reward = 0\n",
    "                agent.info = {}\n",
    "                agent.observation = Struct(remainingOverageTime=60, index=i)\n",
    "                agent.status = \"ACTIVE\" if len(step.agent_positions[i]) else \"DONE\"\n",
    "            agents[0].observation.step = step.step\n",
    "            agents[0].observation.geese = step.agent_positions\n",
    "            agents[0].observation.food = step.food_positions\n",
    "            res.append(agents)\n",
    "        return res\n",
    "    \n",
    "    @classmethod\n",
    "    def from_dict(cls, d):\n",
    "        d = d.copy()\n",
    "        d[\"steps\"] = [cls.Step(**step) for step in d[\"steps\"]]\n",
    "        return Kif(**d)\n",
    "\n",
    "    @classmethod\n",
    "    def from_file(cls, filename):\n",
    "        \"\"\"\n",
    "        Args:\n",
    "            filename (str|Path): 棋譜ファイル\n",
    "\n",
    "        Returns:\n",
    "\n",
    "        \"\"\"\n",
    "        try:\n",
    "            with open(filename) as f:\n",
    "                format_version = f.readline().strip()\n",
    "                kif_id = f.readline().strip()\n",
    "                seed = int(f.readline().strip())\n",
    "                agent_information = [f.readline().strip() for _ in range(4)]\n",
    "                steps = []\n",
    "                while True:\n",
    "                    step = int(f.readline().strip())\n",
    "                    remaining_times = list(map(float, f.readline().strip().split()))\n",
    "                    agent_positions = []\n",
    "                    for _ in range(4):\n",
    "                        _, *positions = map(int, f.readline().strip().split())\n",
    "                        agent_positions.append(positions)\n",
    "                    food_positions = list(map(int, f.readline().strip().split()))\n",
    "                    moves = list(map(int, f.readline().strip().split()))\n",
    "                    values = [list(map(float, f.readline().strip().split())) for _ in range(4)]\n",
    "                    agent_features = [list(map(int, f.readline().strip().split()))[1:] for _ in range(4)]\n",
    "                    _, *condition_features = map(int, f.readline().strip().split())\n",
    "                    steps.append({\n",
    "                        \"step\": step,\n",
    "                        \"remaining_times\": remaining_times,\n",
    "                        \"agent_positions\": agent_positions,\n",
    "                        \"food_positions\": food_positions,\n",
    "                        \"moves\": moves,\n",
    "                        \"values\": values,\n",
    "                        \"agent_features\": agent_features,\n",
    "                        \"condition_features\": condition_features,\n",
    "                    })\n",
    "                    if all(m == -100 for m in moves):\n",
    "                        break\n",
    "                ranks = list(map(int, f.readline().strip().split()))\n",
    "                return cls.from_dict({\n",
    "                    \"format_version\": format_version,\n",
    "                    \"kif_id\": kif_id,\n",
    "                    \"seed\": seed,\n",
    "                    \"agent_information\": agent_information,\n",
    "                    \"steps\": steps,\n",
    "                    \"ranks\": ranks,\n",
    "                })\n",
    "        except Exception as e:\n",
    "            print(f\"file reader error! {filename}\")\n",
    "            print(\"skipped!\")\n",
    "            #raise e\n",
    "\n",
    "\n",
    "from bisect import bisect_right\n",
    "\n",
    "FEATURE_NAMES = \"\"\"\n",
    "    NEIGHBOR_UP_7,\n",
    "    NEIGHBOR_DOWN_7,\n",
    "    NEIGHBOR_LEFT_7,\n",
    "    NEIGHBOR_RIGHT_7,\n",
    "    LENGTH,\n",
    "    DIFFERENCE_LENGTH_1ST,\n",
    "    DIFFERENCE_LENGTH_2ND,\n",
    "    DIFFERENCE_LENGTH_3RD,\n",
    "    DIFFERENCE_LENGTH_4TH,\n",
    "    RELATIVE_POSITION_TAIL,\n",
    "    RELATIVE_POSITION_OPPONENT_HEAD,\n",
    "    RELATIVE_POSITION_OPPONENT_HEAD_FROM_TAIL,\n",
    "    RELATIVE_POSITION_OPPONENT_TAIL,\n",
    "    RELATIVE_POSITION_FOOD,\n",
    "    MOVE_HISTORY,\n",
    "    RELATIVE_POSITION_TAIL_ON_PLANE_X,\n",
    "    RELATIVE_POSITION_TAIL_ON_PLANE_Y,\n",
    "    N_REACHABLE_POSITIONS_WITHIN_1_STEP,\n",
    "    N_REACHABLE_POSITIONS_WITHIN_2_STEPS,\n",
    "    N_REACHABLE_POSITIONS_WITHIN_3_STEPS,\n",
    "    N_REACHABLE_POSITIONS_WITHIN_4_STEPS,\n",
    "    N_REACHABLE_POSITIONS_WITHIN_5_STEPS,\n",
    "    N_REACHABLE_POSITIONS_WITHIN_6_STEPS,\n",
    "    N_REACHABLE_POSITIONS_WITHIN_7_STEPS,\n",
    "    N_REACHABLE_POSITIONS_WITHIN_8_STEPS,\n",
    "    N_OPPONENTS_SHARING_REACHABLE_POSITIONS_WITHIN_1_STEP,\n",
    "    N_OPPONENTS_SHARING_REACHABLE_POSITIONS_WITHIN_2_STEPS,\n",
    "    N_OPPONENTS_SHARING_REACHABLE_POSITIONS_WITHIN_3_STEPS,\n",
    "    N_OPPONENTS_SHARING_REACHABLE_POSITIONS_WITHIN_4_STEPS,\n",
    "    N_OPPONENTS_SHARING_REACHABLE_POSITIONS_WITHIN_5_STEPS,\n",
    "    N_OPPONENTS_SHARING_REACHABLE_POSITIONS_WITHIN_6_STEPS,\n",
    "    N_OPPONENTS_SHARING_REACHABLE_POSITIONS_WITHIN_7_STEPS,\n",
    "    N_OPPONENTS_SHARING_REACHABLE_POSITIONS_WITHIN_8_STEPS,\n",
    "    N_EXCLUSIVELY_REACHABLE_POSITIONS_WITHIN_1_STEP,\n",
    "    N_EXCLUSIVELY_REACHABLE_POSITIONS_WITHIN_2_STEPS,\n",
    "    N_EXCLUSIVELY_REACHABLE_POSITIONS_WITHIN_3_STEPS,\n",
    "    N_EXCLUSIVELY_REACHABLE_POSITIONS_WITHIN_4_STEPS,\n",
    "    N_EXCLUSIVELY_REACHABLE_POSITIONS_WITHIN_5_STEPS,\n",
    "    N_EXCLUSIVELY_REACHABLE_POSITIONS_WITHIN_6_STEPS,\n",
    "    N_EXCLUSIVELY_REACHABLE_POSITIONS_WITHIN_7_STEPS,\n",
    "    N_EXCLUSIVELY_REACHABLE_POSITIONS_WITHIN_8_STEPS,\n",
    "    N_ALIVING_GEESE,\n",
    "    N_OCCUPIED_POSITIONS,\n",
    "    STEP,\n",
    "    END\n",
    "\"\"\".replace(\" \", \"\").replace(\"\\n\", \"\").split(\",\")\n",
    "\n",
    "\n",
    "def interpret_feature(feature):\n",
    "    BOUNDARY = [0,128,256,384,512,589,610,631,652,673,750,826,902,978,1054,1310,1371,1432,1438,1452,1478,1518,1572,1638,1712,1790,1794,1798,1802,1806,1810,1814,1818,1822,1828,1842,1868,1908,1962,2028,2102,2180,2183,2259,2458]\n",
    "    OFFSET   = [0,128,256,384,511,599,620,641,662,673,749,825,901,977,1054,1340,1401,1432,1438,1452,1478,1518,1572,1638,1712,1790,1794,1798,1802,1806,1810,1814,1818,1822,1828,1842,1868,1908,1962,2028,2102,2178,2181,2259,]\n",
    "    feature_type = bisect_right(BOUNDARY, feature) - 1\n",
    "    assert 0 <= feature_type < len(OFFSET), f\"feature={feature}, feature_type={feature_type}\"\n",
    "    feature_value = feature - OFFSET[feature_type]\n",
    "    res = f\"{FEATURE_NAMES[feature_type]} = {feature_value} ({bin(feature_value)})\"\n",
    "    return res\n",
    "\n",
    "\n",
    "def test_kif_read(file=\"kif.kif1\"):\n",
    "    kif = Kif.from_file(file)\n",
    "    print(asdict(kif))\n",
    "    for step in kif.steps:\n",
    "        print(f\"# step {step.step}\")\n",
    "        for idx_agent, features in enumerate(step.agent_features):\n",
    "            print(f\"- agent {idx_agent}\")\n",
    "            for f in features:\n",
    "                print(\"  -\", interpret_feature(f))"
   ]
  },
  {
   "cell_type": "code",
   "execution_count": 12,
   "id": "29e04524",
   "metadata": {},
   "outputs": [
    {
     "name": "stdout",
     "output_type": "stream",
     "text": [
      "Overwriting nn.py\n"
     ]
    }
   ],
   "source": [
    "%%writefile nn.py\n",
    "from time import sleep\n",
    "from copy import deepcopy\n",
    "from pathlib import Path\n",
    "\n",
    "#from tqdm import tqdm\n",
    "from tqdm.notebook import tqdm\n",
    "import torch\n",
    "from torch import nn\n",
    "import torch.nn.functional as F\n",
    "import matplotlib.pyplot as plt\n",
    "\n",
    "class EfficientDataset(torch.utils.data.Dataset):\n",
    "    def __init__(self, kif_files, max_data_size=200*100000):\n",
    "        \"\"\"局面をテンソルにまとめて持っておくデータセット\n",
    "        \n",
    "        Args:\n",
    "            kif_files (list[str]): 棋譜ファイル名のリスト\n",
    "        \"\"\"\n",
    "\n",
    "        self.kif_files = kif_files\n",
    "        self.max_data_size = max_data_size  # -> 2e7\n",
    "        self.max_feature_size = 50\n",
    "        \n",
    "        self.agent_feature_buffer     = torch.full((self.max_data_size, 4, self.max_feature_size), -100, dtype=torch.int16)\n",
    "        self.condition_feature_buffer = torch.full((self.max_data_size, 3), -100, dtype=torch.int16)\n",
    "        self.target_rank_buffer       = torch.full((self.max_data_size, 4), -100, dtype=torch.int8)\n",
    "        self.target_policy_buffer     = torch.full((self.max_data_size, 4, 4), -100, dtype=torch.float32)\n",
    "        \n",
    "        self.data_size = 0\n",
    "        self.load_all_states(kif_files)\n",
    "    \n",
    "    def copy(self):\n",
    "        new_dataset = EfficientDataset([])\n",
    "        new_dataset.agent_feature_buffer[:self.data_size]     = self.agent_feature_buffer[:self.data_size]\n",
    "        new_dataset.condition_feature_buffer[:self.data_size] = self.condition_feature_buffer[:self.data_size]\n",
    "        new_dataset.target_rank_buffer[:self.data_size]       = self.target_rank_buffer[:self.data_size]\n",
    "        new_dataset.target_policy_buffer[:self.data_size]     = self.target_policy_buffer[:self.data_size]\n",
    "        new_dataset.data_size = self.data_size\n",
    "        return new_dataset\n",
    "    \n",
    "    def load_all_states(self, kif_files):\n",
    "        idx = self.data_size\n",
    "        for file in tqdm(kif_files):\n",
    "            kif = Kif.from_file(file)\n",
    "            if kif is None:\n",
    "                continue\n",
    "            for step in kif.steps[:-1]:  # 最後のステップは着手が無いので除外\n",
    "                agent_features = torch.nn.utils.rnn.pad_sequence(\n",
    "                    [torch.tensor(feats) for feats in step.agent_features],\n",
    "                    batch_first=True, padding_value=-100\n",
    "                ).to(torch.int16)  # padding_value を設定すると float になるので戻す必要がある\n",
    "                condition_features = torch.tensor(step.condition_features)\n",
    "                target_rank = torch.tensor(kif.ranks)\n",
    "                target_policy = torch.tensor(step.values, dtype=torch.float)[:, 1:]\n",
    "                assert target_policy.shape == (4, 4)\n",
    "                \n",
    "                self.agent_feature_buffer[idx, :, :agent_features.shape[1]] = agent_features\n",
    "                self.condition_feature_buffer[idx] = condition_features\n",
    "                self.target_rank_buffer[idx] = target_rank\n",
    "                self.target_policy_buffer[idx] = target_policy\n",
    "                \n",
    "                idx += 1\n",
    "        \n",
    "        self.data_size = idx\n",
    "\n",
    "    def __getitem__(self, idx):\n",
    "        \"\"\"\n",
    "        これは嘘\n",
    "        \n",
    "        Args:\n",
    "            idx (int):\n",
    "        Returns:\n",
    "            torch.Tensor: agent_features     エージェント特徴 (4, length) dtype=long\n",
    "            torch.Tensor: condition_features 状態特徴        (length,)   dtype=long\n",
    "            torch.Tensor: target_rank        最終順位        (4,)        dtype=long\n",
    "            torch.Tensor: target_policy      探索で得た方策   (4, 4)      dtype=float\n",
    "        \"\"\"\n",
    "\n",
    "        return idx, self\n",
    "\n",
    "    def __len__(self):\n",
    "        return self.data_size"
   ]
  },
  {
   "cell_type": "code",
   "execution_count": 13,
   "id": "e197cce0",
   "metadata": {},
   "outputs": [],
   "source": [
    "import torch\n",
    "from nn import EfficientDataset\n",
    "dataset = torch.load(dataset_file)"
   ]
  },
  {
   "cell_type": "code",
   "execution_count": 14,
   "id": "79a05bd2",
   "metadata": {},
   "outputs": [
    {
     "name": "stdout",
     "output_type": "stream",
     "text": [
      "loading data...\n",
      "len(dataset)=38215198\n",
      "loaded!\n"
     ]
    },
    {
     "data": {
      "image/png": "[encoded data removed]",
      "text/plain": [
       "<Figure size 432x288 with 1 Axes>"
      ]
     },
     "metadata": {
      "needs_background": "light"
     },
     "output_type": "display_data"
    },
    {
     "data": {
      "image/png": "[encoded data removed]",
      "text/plain": [
       "<Figure size 432x288 with 1 Axes>"
      ]
     },
     "metadata": {
      "needs_background": "light"
     },
     "output_type": "display_data"
    },
    {
     "data": {
      "image/png": "[encoded data removed]",
      "text/plain": [
       "<Figure size 432x288 with 1 Axes>"
      ]
     },
     "metadata": {
      "needs_background": "light"
     },
     "output_type": "display_data"
    },
    {
     "data": {
      "image/png": "[encoded data removed]",
      "text/plain": [
       "<Figure size 432x288 with 1 Axes>"
      ]
     },
     "metadata": {
      "needs_background": "light"
     },
     "output_type": "display_data"
    },
    {
     "data": {
      "image/png": "[encoded data removed]",
      "text/plain": [
       "<Figure size 432x288 with 1 Axes>"
      ]
     },
     "metadata": {
      "needs_background": "light"
     },
     "output_type": "display_data"
    },
    {
     "name": "stdout",
     "output_type": "stream",
     "text": [
      "embed.weight 0.0 0.0\n",
      "linear_condition.weight -31.0 31.0\n",
      "linear_condition.bias 28845.0 36639.0\n",
      "linear_2.weight -16.0 16.0\n",
      "linear_2.bias 28769.0 36738.0\n",
      "linear_3.weight -22.0 22.0\n",
      "linear_3.bias 5397.0 10866.0\n",
      "linear_4.weight -11.0 11.0\n",
      "linear_4.bias -1408.0 1422.0\n",
      "epoch 0\n"
     ]
    },
    {
     "data": {
      "application/vnd.jupyter.widget-view+json": {
       "model_id": "4cfbb4def1bd4d3caa0aea053748886e",
       "version_major": 2,
       "version_minor": 0
      },
      "text/plain": [
       "  0%|          | 0/9329 [00:00<?, ?it/s]"
      ]
     },
     "metadata": {},
     "output_type": "display_data"
    },
    {
     "name": "stdout",
     "output_type": "stream",
     "text": [
      "epoch_loss = 0.7621592518690123\n",
      "epoch 1\n"
     ]
    },
    {
     "data": {
      "application/vnd.jupyter.widget-view+json": {
       "model_id": "9d730701fc1044528ac6f692cb46b223",
       "version_major": 2,
       "version_minor": 0
      },
      "text/plain": [
       "  0%|          | 0/9329 [00:00<?, ?it/s]"
      ]
     },
     "metadata": {},
     "output_type": "display_data"
    },
    {
     "name": "stdout",
     "output_type": "stream",
     "text": [
      "epoch_loss = 0.7496815192659819\n",
      "epoch 2\n"
     ]
    },
    {
     "data": {
      "application/vnd.jupyter.widget-view+json": {
       "model_id": "d3f23eb641304349b07911f97357ac28",
       "version_major": 2,
       "version_minor": 0
      },
      "text/plain": [
       "  0%|          | 0/9329 [00:00<?, ?it/s]"
      ]
     },
     "metadata": {},
     "output_type": "display_data"
    },
    {
     "name": "stdout",
     "output_type": "stream",
     "text": [
      "epoch_loss = 0.7476219160148653\n",
      "epoch 3\n"
     ]
    },
    {
     "data": {
      "application/vnd.jupyter.widget-view+json": {
       "model_id": "4945e8e012a643a4bdca988b41450095",
       "version_major": 2,
       "version_minor": 0
      },
      "text/plain": [
       "  0%|          | 0/9329 [00:00<?, ?it/s]"
      ]
     },
     "metadata": {},
     "output_type": "display_data"
    },
    {
     "name": "stdout",
     "output_type": "stream",
     "text": [
      "epoch_loss = 0.7466340588276148\n",
      "epoch 4\n"
     ]
    },
    {
     "data": {
      "application/vnd.jupyter.widget-view+json": {
       "model_id": "771df6516d1447bb8882f5ed13a715d7",
       "version_major": 2,
       "version_minor": 0
      },
      "text/plain": [
       "  0%|          | 0/9329 [00:00<?, ?it/s]"
      ]
     },
     "metadata": {},
     "output_type": "display_data"
    },
    {
     "name": "stdout",
     "output_type": "stream",
     "text": [
      "epoch_loss = 0.7459441303044018\n",
      "epoch 5\n"
     ]
    },
    {
     "data": {
      "application/vnd.jupyter.widget-view+json": {
       "model_id": "c60bcb33ac014c449669f8bef3a48483",
       "version_major": 2,
       "version_minor": 0
      },
      "text/plain": [
       "  0%|          | 0/9329 [00:00<?, ?it/s]"
      ]
     },
     "metadata": {},
     "output_type": "display_data"
    },
    {
     "name": "stdout",
     "output_type": "stream",
     "text": [
      "epoch_loss = 0.7454193267220149\n",
      "epoch 6\n"
     ]
    },
    {
     "data": {
      "application/vnd.jupyter.widget-view+json": {
       "model_id": "c151c6a8e1274bde8e2b952c5f64fdd4",
       "version_major": 2,
       "version_minor": 0
      },
      "text/plain": [
       "  0%|          | 0/9329 [00:00<?, ?it/s]"
      ]
     },
     "metadata": {},
     "output_type": "display_data"
    },
    {
     "name": "stdout",
     "output_type": "stream",
     "text": [
      "epoch_loss = 0.7450132620259233\n",
      "epoch 7\n"
     ]
    },
    {
     "data": {
      "application/vnd.jupyter.widget-view+json": {
       "model_id": "fe7c9a00e65345b09b0e8a12f32c6d29",
       "version_major": 2,
       "version_minor": 0
      },
      "text/plain": [
       "  0%|          | 0/9329 [00:00<?, ?it/s]"
      ]
     },
     "metadata": {},
     "output_type": "display_data"
    },
    {
     "name": "stdout",
     "output_type": "stream",
     "text": [
      "epoch_loss = 0.7447072016501531\n",
      "epoch 8\n"
     ]
    },
    {
     "data": {
      "application/vnd.jupyter.widget-view+json": {
       "model_id": "232606a827004f689ccddf3db7dd8742",
       "version_major": 2,
       "version_minor": 0
      },
      "text/plain": [
       "  0%|          | 0/9329 [00:00<?, ?it/s]"
      ]
     },
     "metadata": {},
     "output_type": "display_data"
    },
    {
     "name": "stdout",
     "output_type": "stream",
     "text": [
      "epoch_loss = 0.7444470339182272\n",
      "epoch 9\n"
     ]
    },
    {
     "data": {
      "application/vnd.jupyter.widget-view+json": {
       "model_id": "26249f56f8e54c88b07aaf3b659a9c73",
       "version_major": 2,
       "version_minor": 0
      },
      "text/plain": [
       "  0%|          | 0/9329 [00:00<?, ?it/s]"
      ]
     },
     "metadata": {},
     "output_type": "display_data"
    },
    {
     "name": "stdout",
     "output_type": "stream",
     "text": [
      "epoch_loss = 0.7442214861919494\n"
     ]
    },
    {
     "data": {
      "image/png": "[encoded data removed]",
      "text/plain": [
       "<Figure size 432x288 with 1 Axes>"
      ]
     },
     "metadata": {
      "needs_background": "light"
     },
     "output_type": "display_data"
    },
    {
     "data": {
      "image/png": "[encoded data removed]",
      "text/plain": [
       "<Figure size 432x288 with 1 Axes>"
      ]
     },
     "metadata": {
      "needs_background": "light"
     },
     "output_type": "display_data"
    },
    {
     "data": {
      "image/png": "[encoded data removed]",
      "text/plain": [
       "<Figure size 432x288 with 1 Axes>"
      ]
     },
     "metadata": {
      "needs_background": "light"
     },
     "output_type": "display_data"
    },
    {
     "data": {
      "image/png": "[encoded data removed]",
      "text/plain": [
       "<Figure size 432x288 with 1 Axes>"
      ]
     },
     "metadata": {
      "needs_background": "light"
     },
     "output_type": "display_data"
    },
    {
     "data": {
      "image/png": "[encoded data removed]",
      "text/plain": [
       "<Figure size 432x288 with 1 Axes>"
      ]
     },
     "metadata": {
      "needs_background": "light"
     },
     "output_type": "display_data"
    },
    {
     "name": "stdout",
     "output_type": "stream",
     "text": [
      "embed.weight -2051.0 2049.0\n",
      "linear_condition.weight -128.0 127.0\n",
      "linear_condition.bias 28270.0 35527.0\n",
      "linear_2.weight -128.0 127.0\n",
      "linear_2.bias 23673.0 40309.0\n",
      "linear_3.weight -128.0 127.0\n",
      "linear_3.bias 2150.0 13541.0\n",
      "linear_4.weight -62.0 127.0\n",
      "linear_4.bias -10770.0 1410.0\n",
      "epoch 10\n"
     ]
    },
    {
     "data": {
      "application/vnd.jupyter.widget-view+json": {
       "model_id": "ef795b9694334239835a4ab5e270f18c",
       "version_major": 2,
       "version_minor": 0
      },
      "text/plain": [
       "  0%|          | 0/9329 [00:00<?, ?it/s]"
      ]
     },
     "metadata": {},
     "output_type": "display_data"
    },
    {
     "name": "stdout",
     "output_type": "stream",
     "text": [
      "epoch_loss = 0.7440088278726694\n",
      "epoch 11\n"
     ]
    },
    {
     "data": {
      "application/vnd.jupyter.widget-view+json": {
       "model_id": "92e8bbec305242a586fa7f420b48093f",
       "version_major": 2,
       "version_minor": 0
      },
      "text/plain": [
       "  0%|          | 0/9329 [00:00<?, ?it/s]"
      ]
     },
     "metadata": {},
     "output_type": "display_data"
    },
    {
     "name": "stdout",
     "output_type": "stream",
     "text": [
      "epoch_loss = 0.7438267793465253\n",
      "epoch 12\n"
     ]
    },
    {
     "data": {
      "application/vnd.jupyter.widget-view+json": {
       "model_id": "d2ee9bc0530941948da3ad01c7cdb47b",
       "version_major": 2,
       "version_minor": 0
      },
      "text/plain": [
       "  0%|          | 0/9329 [00:00<?, ?it/s]"
      ]
     },
     "metadata": {},
     "output_type": "display_data"
    },
    {
     "name": "stdout",
     "output_type": "stream",
     "text": [
      "epoch_loss = 0.7436743106524115\n",
      "epoch 13\n"
     ]
    },
    {
     "data": {
      "application/vnd.jupyter.widget-view+json": {
       "model_id": "a50ab406711f451b85b196ca1451e9dd",
       "version_major": 2,
       "version_minor": 0
      },
      "text/plain": [
       "  0%|          | 0/9329 [00:00<?, ?it/s]"
      ]
     },
     "metadata": {},
     "output_type": "display_data"
    },
    {
     "name": "stdout",
     "output_type": "stream",
     "text": [
      "epoch_loss = 0.7435397990698829\n",
      "epoch 14\n"
     ]
    },
    {
     "data": {
      "application/vnd.jupyter.widget-view+json": {
       "model_id": "c889b3ee75cd4666a5efb6f4cded981a",
       "version_major": 2,
       "version_minor": 0
      },
      "text/plain": [
       "  0%|          | 0/9329 [00:00<?, ?it/s]"
      ]
     },
     "metadata": {},
     "output_type": "display_data"
    },
    {
     "name": "stdout",
     "output_type": "stream",
     "text": [
      "epoch_loss = 0.743419100673703\n",
      "epoch 15\n"
     ]
    },
    {
     "data": {
      "application/vnd.jupyter.widget-view+json": {
       "model_id": "9c0f3fbf3a8245c290ac6771eb8f561c",
       "version_major": 2,
       "version_minor": 0
      },
      "text/plain": [
       "  0%|          | 0/9329 [00:00<?, ?it/s]"
      ]
     },
     "metadata": {},
     "output_type": "display_data"
    },
    {
     "name": "stdout",
     "output_type": "stream",
     "text": [
      "epoch_loss = 0.7433142063190653\n"
     ]
    }
   ],
   "source": [
    "from time import sleep\n",
    "from copy import deepcopy\n",
    "from pathlib import Path\n",
    "\n",
    "#from tqdm import tqdm\n",
    "from tqdm.notebook import tqdm\n",
    "import torch\n",
    "from torch import nn\n",
    "import torch.nn.functional as F\n",
    "import matplotlib.pyplot as plt\n",
    "\n",
    "\n",
    "class Dataset(torch.utils.data.Dataset):\n",
    "    def __init__(self, kif_files):\n",
    "        \"\"\"\n",
    "        Args:\n",
    "            kif_files (list[str]): 棋譜ファイル名のリスト\n",
    "        \"\"\"\n",
    "\n",
    "        self.kif_files = kif_files\n",
    "        self.kifs = self.load_all_kif_files(kif_files)\n",
    "\n",
    "    def load_all_kif_files(self, kif_files):\n",
    "        kifs = []  # type: List[Kif]\n",
    "        for file in kif_files:\n",
    "            kif = Kif.from_file(file)\n",
    "            kifs.append(kif)\n",
    "        return kifs\n",
    "\n",
    "    def __getitem__(self, idx):\n",
    "        \"\"\"\n",
    "        Args:\n",
    "            idx (int):\n",
    "        Returns:\n",
    "            torch.Tensor: agent_features     エージェント特徴 (4, length) dtype=long\n",
    "            torch.Tensor: condition_features 状態特徴        (length,)   dtype=long\n",
    "            torch.Tensor: target_rank        最終順位        (4,)        dtype=long\n",
    "            torch.Tensor: target_policy      探索で得た方策   (4, 4)      dtype=float\n",
    "        \"\"\"\n",
    "\n",
    "        kif = self.kifs[idx]\n",
    "        n_steps = len(kif.steps) - 1  # 最後のステップは着手が無いので除外\n",
    "        step = torch.randint(n_steps, tuple())\n",
    "        agent_features = torch.nn.utils.rnn.pad_sequence(\n",
    "            [torch.tensor(feats) for feats in kif.steps[step].agent_features],\n",
    "            batch_first=True, padding_value=-100\n",
    "        ).to(torch.long)  # padding_value を設定すると float になるので戻す必要がある\n",
    "        condition_features = torch.tensor(kif.steps[step].condition_features)\n",
    "        target_rank = torch.tensor(kif.ranks)\n",
    "        target_policy = torch.tensor(kif.steps[step].values, dtype=torch.float)[:, 1:]\n",
    "        assert target_policy.shape == (4, 4)\n",
    "        return agent_features, condition_features, target_rank, target_policy\n",
    "\n",
    "    def __len__(self):\n",
    "        return len(self.kif_files)\n",
    "\n",
    "\n",
    "class FastDataset(torch.utils.data.Dataset):\n",
    "    def __init__(self, kif_files):\n",
    "        \"\"\"局面を直接持っておくデータセット\n",
    "        \n",
    "        Args:\n",
    "            kif_files (list[str]): 棋譜ファイル名のリスト\n",
    "        \"\"\"\n",
    "\n",
    "        self.kif_files = kif_files\n",
    "        self.data = self.load_all_states(kif_files)\n",
    "\n",
    "    def load_all_states(self, kif_files):\n",
    "        data = []  # type: \n",
    "        for file in tqdm(kif_files):\n",
    "            kif = Kif.from_file(file)\n",
    "            if kif is None:\n",
    "                continue\n",
    "            for step in kif.steps[:-1]:  # 最後のステップは着手が無いので除外\n",
    "                agent_features = torch.nn.utils.rnn.pad_sequence(\n",
    "                    [torch.tensor(feats) for feats in step.agent_features],\n",
    "                    batch_first=True, padding_value=-100\n",
    "                ).to(torch.long)  # padding_value を設定すると float になるので戻す必要がある\n",
    "                condition_features = torch.tensor(step.condition_features)\n",
    "                target_rank = torch.tensor(kif.ranks)\n",
    "                target_policy = torch.tensor(step.values, dtype=torch.float)[:, 1:]\n",
    "                assert target_policy.shape == (4, 4)\n",
    "                data.append((agent_features, condition_features, target_rank, target_policy))\n",
    "        return data\n",
    "\n",
    "    def __getitem__(self, idx):\n",
    "        \"\"\"\n",
    "        Args:\n",
    "            idx (int):\n",
    "        Returns:\n",
    "            torch.Tensor: agent_features     エージェント特徴 (4, length) dtype=long\n",
    "            torch.Tensor: condition_features 状態特徴        (length,)   dtype=long\n",
    "            torch.Tensor: target_rank        最終順位        (4,)        dtype=long\n",
    "            torch.Tensor: target_policy      探索で得た方策   (4, 4)      dtype=float\n",
    "        \"\"\"\n",
    "\n",
    "        return self.data[idx]\n",
    "\n",
    "    def __len__(self):\n",
    "        return len(self.data)\n",
    "\n",
    "\n",
    "class EfficientDataset(torch.utils.data.Dataset):\n",
    "    def __init__(self, kif_files, max_data_size=200*100000):\n",
    "        \"\"\"局面をテンソルにまとめて持っておくデータセット\n",
    "        \n",
    "        Args:\n",
    "            kif_files (list[str]): 棋譜ファイル名のリスト\n",
    "        \"\"\"\n",
    "\n",
    "        self.kif_files = kif_files\n",
    "        self.max_data_size = max_data_size  # -> 2e7\n",
    "        self.max_feature_size = 50\n",
    "        \n",
    "        self.agent_feature_buffer     = torch.full((self.max_data_size, 4, self.max_feature_size), -100, dtype=torch.int16)\n",
    "        self.condition_feature_buffer = torch.full((self.max_data_size, 3), -100, dtype=torch.int16)\n",
    "        self.target_rank_buffer       = torch.full((self.max_data_size, 4), -100, dtype=torch.int8)\n",
    "        self.target_policy_buffer     = torch.full((self.max_data_size, 4, 4), -100, dtype=torch.float32)\n",
    "        \n",
    "        self.data_size = 0\n",
    "        self.load_all_states(kif_files)\n",
    "    \n",
    "    def copy(self):\n",
    "        new_dataset = EfficientDataset([])\n",
    "        new_dataset.agent_feature_buffer[:self.data_size]     = self.agent_feature_buffer[:self.data_size]\n",
    "        new_dataset.condition_feature_buffer[:self.data_size] = self.condition_feature_buffer[:self.data_size]\n",
    "        new_dataset.target_rank_buffer[:self.data_size]       = self.target_rank_buffer[:self.data_size]\n",
    "        new_dataset.target_policy_buffer[:self.data_size]     = self.target_policy_buffer[:self.data_size]\n",
    "        new_dataset.data_size = self.data_size\n",
    "        return new_dataset\n",
    "    \n",
    "    def load_all_states(self, kif_files):\n",
    "        idx = self.data_size\n",
    "        for file in tqdm(kif_files):\n",
    "            kif = Kif.from_file(file)\n",
    "            if kif is None:\n",
    "                continue\n",
    "            for step in kif.steps[:-1]:  # 最後のステップは着手が無いので除外\n",
    "                agent_features = torch.nn.utils.rnn.pad_sequence(\n",
    "                    [torch.tensor(feats) for feats in step.agent_features],\n",
    "                    batch_first=True, padding_value=-100\n",
    "                ).to(torch.int16)  # padding_value を設定すると float になるので戻す必要がある\n",
    "                condition_features = torch.tensor(step.condition_features)\n",
    "                target_rank = torch.tensor(kif.ranks)\n",
    "                target_policy = torch.tensor(step.values, dtype=torch.float)[:, 1:]\n",
    "                assert target_policy.shape == (4, 4)\n",
    "                \n",
    "                self.agent_feature_buffer[idx, :, :agent_features.shape[1]] = agent_features\n",
    "                self.condition_feature_buffer[idx] = condition_features\n",
    "                self.target_rank_buffer[idx] = target_rank\n",
    "                self.target_policy_buffer[idx] = target_policy\n",
    "                \n",
    "                idx += 1\n",
    "        \n",
    "        self.data_size = idx\n",
    "\n",
    "    def __getitem__(self, idx):\n",
    "        \"\"\"\n",
    "        これは嘘\n",
    "        \n",
    "        Args:\n",
    "            idx (int):\n",
    "        Returns:\n",
    "            torch.Tensor: agent_features     エージェント特徴 (4, length) dtype=long\n",
    "            torch.Tensor: condition_features 状態特徴        (length,)   dtype=long\n",
    "            torch.Tensor: target_rank        最終順位        (4,)        dtype=long\n",
    "            torch.Tensor: target_policy      探索で得た方策   (4, 4)      dtype=float\n",
    "        \"\"\"\n",
    "\n",
    "        return idx, self\n",
    "\n",
    "    def __len__(self):\n",
    "        return self.data_size\n",
    "\n",
    "\n",
    "class Model(nn.Module):\n",
    "    def __init__(self, features, out_dim=5, hidden_1=256, hidden_2=32):\n",
    "        super().__init__()\n",
    "        self.features = features\n",
    "        self.hidden_1 = hidden_1\n",
    "        self.hidden_2 = hidden_2\n",
    "        self.embed = nn.EmbeddingBag(features+1, hidden_1, mode=\"sum\", padding_idx=features)\n",
    "        #self.embed.weight.data /= 16.0  # 小さめの値で初期化\n",
    "        self.embed.weight.data[:] = 0.0  # 小さめの値で初期化\n",
    "        self.linear_condition = nn.Linear(hidden_1, hidden_2)\n",
    "        self.linear_condition.weight.data #/= 2.0\n",
    "        self.linear_condition.bias.data += 0.5\n",
    "        self.linear_2 = nn.Linear(hidden_1, hidden_2)\n",
    "        self.linear_2.weight.data /= 2.0\n",
    "        self.linear_2.bias.data += 0.5\n",
    "        self.linear_3 = nn.Linear(hidden_2, hidden_2)\n",
    "        self.linear_3.weight.data /= 2.0\n",
    "        self.linear_3.bias.data += 0.5\n",
    "        self.linear_4 = nn.Linear(hidden_2, out_dim)\n",
    "        self.quantized = False\n",
    "\n",
    "    def forward(self, x, condition, ignore_rounding=False, debug=False):\n",
    "        \"\"\"\n",
    "\n",
    "        Args:\n",
    "            x: [[1, 3, 9, ..., 22, -100, -100], ... ] みたいなテンソル (batch, 4, length)\n",
    "            condition: (batch, length)\n",
    "        Returns:\n",
    "            torch.Tensor: (batch, 4, out_dim)\n",
    "        \"\"\"\n",
    "\n",
    "        def hardtanh_(x, limit, p):\n",
    "            if self.quantized:\n",
    "                return F.hardtanh(x, -limit, limit, inplace=True)\n",
    "            else:\n",
    "                return F.hardtanh(x, -limit / (1 << p), limit / (1 << p), inplace=False)\n",
    "\n",
    "        def scale(x, p):\n",
    "            if self.quantized:\n",
    "                if ignore_rounding:\n",
    "                    return x * 2 ** p\n",
    "                else:\n",
    "                    return torch.round(x * 2 ** p)\n",
    "            else:\n",
    "                return x\n",
    "\n",
    "        def clipped_relu(x, limit, p):\n",
    "            if self.quantized:\n",
    "                return F.hardtanh(x, 0.0, limit, inplace=True)\n",
    "            else:\n",
    "                return F.hardtanh(x, 0.0, limit / (1 << p), inplace=False)\n",
    "\n",
    "        def add(x, a, p):\n",
    "            if self.quantized:\n",
    "                return x + a * (1 << p)\n",
    "            else:\n",
    "                return x + a\n",
    "        \n",
    "        batch_size = x.shape[0]\n",
    "        x = torch.where(x != -100, x, self.features)\n",
    "\n",
    "        # (1) [batch, 4, length] -> [batch, 4, 256]\n",
    "        x = self.embed(x.view(batch_size * 4, -1)).view(batch_size, 4, self.hidden_1)  # scale = 2^11, max = 2^15\n",
    "        x = add(x, 0.5, 11)                                    # μ=0.5, σ=1.0, min=-15.5, max=16.5 | μ=2^10, σ=2^11, min=-...\n",
    "        x = clipped_relu(x, 127 << 4, 11)                      # μ=0.5, σ=1.0, min=0, max=127/128 | μ=2^10, σ=2^11, min=0, max=127<<4      # scale = 2^11, max = (2^7-1)2^4\n",
    "        \n",
    "        if debug:\n",
    "            print(f\"1) {x[0, :3, :5] / ((1<<11) if self.quantized else 1)}\")\n",
    "\n",
    "        # (2) [batch, length] -> [batch, 256]\n",
    "        condition = self.embed(condition)                      # μ=0, σ=1.0, min=-16, max=16 | μ=0, σ=2^11, min=-2^15, max=2-15\n",
    "        condition = add(condition, 0.5, 11)                    # μ=0.5, σ=1.0, min=-15.5, max=16.5 | μ=2^10, σ=2^11, min=...\n",
    "        condition = clipped_relu(condition, 127 << 4, 11)      # μ=0.5, σ=1.0, min=0, max=127/128 | μ=2^10, σ=2^11, min=0, max=127<<5        # scale = 2^11, max = 127<<4\n",
    "        condition = condition + x.sum(1)/4                     # μ=1.0, σ=2.0, min=0, max=2*127/128 | μ=2^11, σ=2^12, min=0, max=127<<5      # scale = 2^11 max = 127<<5\n",
    "        if not self.quantized:\n",
    "            condition *= 0.5                                   # μ=0.5, σ=1.0, min=0, max=127/128 | ...\n",
    "        condition = scale(condition, -5)                       # μ=0.5, σ=1.0, min=0, max=127/128 | μ=2^6, σ=2^7, min=0, max=127            # scale = 2^7,  max = 2^7-1\n",
    "\n",
    "        if debug:\n",
    "            print(f\"2) {condition[0, :20] / ((1<<7) if self.quantized else 1)}\")\n",
    "        \n",
    "        # (3) [batch, 256] -> [batch, 32]\n",
    "        condition = self.linear_condition(condition)           # scale = 2^16\n",
    "        condition = clipped_relu(condition, 127 << 9, 16)      # scale = 2^16, max = (2^7-1)2^9\n",
    "        #condition = scale(condition, 1)                        # scale = 2^16, max = (2^7-1)2^9\n",
    "        \n",
    "        if debug:\n",
    "            print(f\"3) {condition[0, :3] / ((1<<16) if self.quantized else 1)}\")\n",
    "        \n",
    "        # (4) [batch, 4, 256] -> [batch, 4, 32]\n",
    "        x = scale(x, -4)                                       # scale = 2^7,  max = 2^7-1\n",
    "        x = self.linear_2(x)                                   # scale = 2^16\n",
    "        x = clipped_relu(x, 127 << 9, 16)                      # scale = 2^16, max = (2^7-1)2^9\n",
    "        x = x + condition.unsqueeze(1)                         # scale = 2^16, max = (2^7-1)2^10\n",
    "        if not self.quantized:\n",
    "            condition *= 0.5\n",
    "        x = scale(x, -10)                                       # scale = 2^6,  max = 2^7-1\n",
    "\n",
    "        if debug:\n",
    "            print(f\"4) {x[0, :3] / ((1<<6) if self.quantized else 1)}\")\n",
    "        \n",
    "        # (5) [batch, 4, 32] -> [batch, 4, 32]\n",
    "        x = self.linear_3(x)                                   # scale = 2^14\n",
    "        x = clipped_relu(x, 127 << 7, 14)                      # scale = 2^14, max = (2^7-1)2^7\n",
    "        x = scale(x, -7)                                       # scale = 2^7,  max = 2^7-1\n",
    "\n",
    "        if debug:\n",
    "            print(f\"5) {x[0, :3] / ((1<<7) if self.quantized else 1)}\")\n",
    "        \n",
    "        # (6) [batch, 4, 32] -> [batch, 4, out_dim]\n",
    "        x = self.linear_4(x)                                   # scale = 2^13\n",
    "        if self.quantized:\n",
    "            x /= 1 << 13  # float に変換                        # scale = 1\n",
    "\n",
    "        return x * 2.0\n",
    "\n",
    "    def quantize(self, ignore_rounding=False):\n",
    "        qmodel = deepcopy(self)\n",
    "        qmodel.quantized = True\n",
    "\n",
    "        # scaling\n",
    "        def scale(params, p, bits=8):\n",
    "            device = params.data.device\n",
    "            mi = torch.tensor(-(1<<bits-1), dtype=torch.float).to(device)\n",
    "            ma = torch.tensor((1<<bits-1)-1, dtype=torch.float).to(device)\n",
    "            params.data = params.data * (1 << p)\n",
    "            if not ignore_rounding:\n",
    "                params.data = torch.round(params.data)\n",
    "            params.data = torch.where(params.data > ma, ma, params.data)\n",
    "            params.data = torch.where(params.data < mi, mi, params.data)\n",
    "        scale(qmodel.embed.weight, 11, bits=16)\n",
    "        scale(qmodel.linear_condition.weight, 9)\n",
    "        scale(qmodel.linear_condition.bias, 16, bits=32)\n",
    "        scale(qmodel.linear_2.weight, 9)\n",
    "        scale(qmodel.linear_2.bias, 16, bits=32)\n",
    "        scale(qmodel.linear_3.weight, 8)\n",
    "        scale(qmodel.linear_3.bias, 14, bits=32)\n",
    "        scale(qmodel.linear_4.weight, 6)\n",
    "        scale(qmodel.linear_4.bias, 13, bits=32)\n",
    "\n",
    "        return qmodel\n",
    "    \n",
    "    def clip_params(self, soft=False):\n",
    "        def clip(params, p, bits=8):\n",
    "#             device = params.data.device\n",
    "#             mi = torch.tensor(-(1<<bits-1), dtype=torch.float).to(device) / (1 << p)\n",
    "#             ma = torch.tensor((1<<bits-1)-1, dtype=torch.float).to(device) / (1 << p)\n",
    "#             params.data = torch.where(params.data > ma, ma, params.data)\n",
    "#             params.data = torch.where(params.data < mi, mi, params.data)\n",
    "            mi = -(1<<bits-1) / (1 << p)\n",
    "            ma = ((1<<bits-1)-1) / (1 << p)\n",
    "            if soft:\n",
    "                params.data = torch.tanh(params.data / ma) * ma\n",
    "            else:\n",
    "                params.data = F.hardtanh_(params.data, mi, ma)\n",
    "        if soft:\n",
    "            clip(self.embed.weight, 11, bits=11)\n",
    "        else:\n",
    "            clip(self.embed.weight, 11, bits=12)\n",
    "        clip(self.linear_condition.weight, 9)\n",
    "        clip(self.linear_condition.bias, 16, bits=32)\n",
    "        clip(self.linear_2.weight, 9)\n",
    "        clip(self.linear_2.bias, 16, bits=32)\n",
    "        clip(self.linear_3.weight, 8)\n",
    "        clip(self.linear_3.bias, 14, bits=32)\n",
    "        clip(self.linear_4.weight, 6)\n",
    "        clip(self.linear_4.bias, 13, bits=32)\n",
    "        \n",
    "    def dump(self, filename):\n",
    "        assert self.quantized\n",
    "        with open(filename, \"wb\") as f:\n",
    "            def write(params, dtype=\"int8\"):\n",
    "                f.write(params.detach().numpy().ravel().astype(dtype).tobytes())\n",
    "            write(self.embed.weight, \"int16\")\n",
    "            write(self.linear_condition.weight)\n",
    "            write(self.linear_condition.bias, \"int32\")\n",
    "            write(self.linear_2.weight)\n",
    "            write(self.linear_2.bias, \"int32\")\n",
    "            write(self.linear_3.weight)\n",
    "            write(self.linear_3.bias, \"int32\")\n",
    "            write(self.linear_4.weight)\n",
    "            write(self.linear_4.bias, \"int32\")\n",
    "\n",
    "\n",
    "def soft_cross_entropy(pred, target):\n",
    "    \"\"\"ソフトラベルのクロスエントロピー\n",
    "\n",
    "    全バッチの合計\n",
    "\n",
    "    Args:\n",
    "        pred: softmax 前の値 (batch, n)\n",
    "        target: (batch, n)\n",
    "\n",
    "    Returns:\n",
    "        torch.Tensor: クロスエントロピー (全バッチ合計)\n",
    "    \"\"\"\n",
    "    return -(target*F.log_softmax(pred, dim=1)).sum()\n",
    "\n",
    "\n",
    "class Loss(nn.Module):\n",
    "    def __init__(self):\n",
    "        super().__init__()\n",
    "\n",
    "    def forward(self, x, target_rank, target_policy):\n",
    "        \"\"\"\n",
    "\n",
    "        Args:\n",
    "            x             (torch.Tensor): モデルの出力   (batch, 4, 5) dtype=float\n",
    "            target_rank   (torch.Tensor): 最終順位      (batch, 4)    dtype=long\n",
    "            target_policy (torch.Tensor): 探索で得た方策 (batch, 4, 4) dtype=float\n",
    "        Returns:\n",
    "            torch.Tensor: loss (平均)\n",
    "        \"\"\"\n",
    "        batch_size = x.shape[0]\n",
    "        device = x.device\n",
    "        \n",
    "        value_loss = 0.0\n",
    "        for a in range(4):\n",
    "            for b in range(a+1, 4):\n",
    "                rank_diff = target_rank[:, a] - target_rank[:, b]  # (batch,)\n",
    "                t = torch.where(rank_diff < 0, torch.tensor(1.0).to(device), torch.tensor(0.0).to(device))\n",
    "                t = torch.where(rank_diff == 0, torch.tensor(0.5).to(device), t)\n",
    "                pred = x[:, a, 0] - x[:, b, 0]\n",
    "                value_loss = value_loss + F.binary_cross_entropy_with_logits(pred, t)\n",
    "        value_loss /= 6.0  # 4C2\n",
    "\n",
    "        pred = x[:, :, 1:].reshape(batch_size * 4, 4)\n",
    "        alive = target_policy[:, :, 0] != -100.0  # (batch, 4)\n",
    "        target = (target_policy*alive.unsqueeze(2)).view(batch_size*4, 4)\n",
    "        policy_loss = soft_cross_entropy(pred, target) * 0.5 / (alive.sum()+1e-10)\n",
    "\n",
    "        #print(\"loss:\", value_loss.item(), policy_loss.item())\n",
    "        loss = value_loss + policy_loss\n",
    "        return loss\n",
    "\n",
    "\n",
    "# def collate_fn(batch):\n",
    "#     agent_features, condition_features, target_rank, target_policy = zip(*batch)\n",
    "#     pad_sequence = torch.nn.utils.rnn.pad_sequence\n",
    "#     agent_features = pad_sequence([f.permute(1, 0) for f in agent_features], batch_first=True,\n",
    "#                                   padding_value=-100).permute(0, 2, 1).contiguous()\n",
    "#     condition_features = pad_sequence(condition_features, batch_first=True, padding_value=-100).contiguous()\n",
    "#     target_rank = torch.stack(target_rank)\n",
    "#     target_policy = torch.stack(target_policy)\n",
    "#     return agent_features, condition_features, target_rank, target_policy\n",
    "\n",
    "def collate_fn(batch):\n",
    "    idxs, (dataset, *_) = zip(*batch)\n",
    "    idxs = list(idxs)\n",
    "    return dataset.agent_feature_buffer[idxs].to(torch.long), dataset.condition_feature_buffer[idxs].to(torch.long), dataset.target_rank_buffer[idxs], dataset.target_policy_buffer[idxs]\n",
    "\n",
    "def tee(text, f=None):\n",
    "    print(text)\n",
    "    if f is not None:\n",
    "        f.write(text)\n",
    "        f.write(\"\\n\")\n",
    "        f.flush()\n",
    "\n",
    "def plot_weight(model):\n",
    "    qmodel = model.quantize()\n",
    "    plt.hist(qmodel.embed.weight.detach().to(\"cpu\").numpy().ravel(), bins=256, range=(-1024.5, 1023.5))\n",
    "    plt.show()\n",
    "    plt.hist(qmodel.linear_condition.weight.detach().to(\"cpu\").numpy().ravel(), bins=256, range=(-128.5, 127.5))\n",
    "    plt.show()\n",
    "    plt.hist(qmodel.linear_2.weight.detach().to(\"cpu\").numpy().ravel(), bins=256, range=(-128.5, 127.5))\n",
    "    plt.show()\n",
    "    plt.hist(qmodel.linear_3.weight.detach().to(\"cpu\").numpy().ravel(), bins=256, range=(-128.5, 127.5))\n",
    "    plt.show()\n",
    "    plt.hist(qmodel.linear_4.weight.detach().to(\"cpu\").numpy().ravel(), bins=256, range=(-128.5, 127.5))\n",
    "    plt.show()\n",
    "    for name, params in qmodel.named_parameters():\n",
    "        print(name, params.data.to(\"cpu\").min().numpy(), params.data.to(\"cpu\").max().numpy())\n",
    "\n",
    "\n",
    "#exit()\n",
    "\n",
    "if __name__ == \"__main__\":\n",
    "    # 学習\n",
    "\n",
    "    # 設定\n",
    "    #torch.set_num_threads(2)\n",
    "    batch_size = 4096\n",
    "    #device = \"cpu\"   # 2.5 it/sec (batch_size = 4096)\n",
    "    #device = \"cuda\"  # 30 it/sec (batch_size = 4096)\n",
    "    device = \"cuda\" if torch.cuda.is_available() else \"cpu\"\n",
    "    n_epochs = 16\n",
    "    sgd_learning_rate = 1e-1\n",
    "    adam_learning_rate = 1e-3\n",
    "    N_FEATURES = 2458\n",
    "    out_dir = Path(\"./out\")\n",
    "    #kif_files = [\"kif.kif1\"] * 4096  # TODO\n",
    "\n",
    "    # 出力ディレクトリ作成\n",
    "    checkpoint_dir = out_dir / \"checkpoint\"\n",
    "    if not out_dir.exists():\n",
    "        out_dir.mkdir()\n",
    "        checkpoint_dir.mkdir()\n",
    "\n",
    "    # データ\n",
    "    print(\"loading data...\")\n",
    "    sleep(0.5)\n",
    "    if \"dataset\" not in vars():\n",
    "        if \"dataset_file\" in vars():\n",
    "            dataset = torch.load(dataset_file)\n",
    "        #dataset = Dataset(kif_files)\n",
    "        dataset = EfficientDataset(kif_files)\n",
    "    print(f\"len(dataset)={len(dataset)}\")\n",
    "    dataloader = torch.utils.data.DataLoader(\n",
    "        dataset, batch_size, shuffle=True, num_workers=0,\n",
    "        collate_fn=collate_fn, pin_memory=True, drop_last=True\n",
    "    )\n",
    "    print(\"loaded!\")\n",
    "    if \"additional_kif_files\" in vars():\n",
    "        print(\"loading additional data...\")\n",
    "        dataset.load_all_states(additional_kif_files)\n",
    "        print(\"loaded!\")\n",
    "\n",
    "    # モデル、最適化手法、損失関数\n",
    "    model = Model(features=N_FEATURES)\n",
    "    model.to(device)\n",
    "    #optimizer = torch.optim.SGD(model.parameters(), lr=sgd_learning_rate, momentum=0.9)\n",
    "    optimizer = torch.optim.Adam(model.parameters(), lr=adam_learning_rate, amsgrad=True)\n",
    "    criterion = Loss()\n",
    "\n",
    "    # 記録\n",
    "    epoch_losses = []\n",
    "    f_log = open(out_dir / \"log.txt\", \"a\")\n",
    "\n",
    "    start_epoch = 0\n",
    "    \n",
    "    # チェックポイントの読み込み\n",
    "    if \"old_checkpoint_file\" in vars() and Path(old_checkpoint_file).is_file():\n",
    "        dict_checkpoint = torch.load(old_checkpoint_file, map_location=device)\n",
    "        print(\"checkpoint file found!\")\n",
    "        start_epoch = dict_checkpoint[\"epoch\"] + 1\n",
    "        dict_checkpoint[\"state_dict\"][\"linear_4.bias\"][0] = 0.0\n",
    "        model.load_state_dict(dict_checkpoint[\"state_dict\"])\n",
    "        #optimizer.load_state_dict(dict_checkpoint[\"optimizer\"])\n",
    "\n",
    "    model.clip_params(soft=True)\n",
    "    \n",
    "    # 学習ループ\n",
    "    for epoch in range(start_epoch, n_epochs):\n",
    "        if epoch % 10 == 0:\n",
    "            plot_weight(model)\n",
    "        \n",
    "        \n",
    "        model.train()\n",
    "        tee(f\"epoch {epoch}\", f_log)\n",
    "        sleep(0.5)\n",
    "        \n",
    "        epoch_loss = 0.0\n",
    "        n_predicted_data = 0\n",
    "        iteration = 0\n",
    "        for agent_features, condition_features, target_rank, target_policy in tqdm(dataloader):\n",
    "            agent_features = agent_features.to(device)\n",
    "            condition_features = condition_features.to(device)\n",
    "            target_rank = target_rank.to(device)\n",
    "            target_policy = target_policy.to(device)\n",
    "\n",
    "            optimizer.zero_grad()\n",
    "            preds = model(agent_features, condition_features)\n",
    "            loss = criterion(preds, target_rank, target_policy)\n",
    "            loss.backward()\n",
    "            optimizer.step()\n",
    "            if iteration % 5 == 0:\n",
    "                model.clip_params()\n",
    "\n",
    "            epoch_loss += loss.item() * len(agent_features)\n",
    "            n_predicted_data += len(agent_features)\n",
    "            iteration += 1\n",
    "\n",
    "        epoch_loss /= n_predicted_data\n",
    "        tee(f\"epoch_loss = {epoch_loss}\", f_log)\n",
    "        epoch_losses.append(epoch_loss)\n",
    "\n",
    "        if out_dir is not None and (epoch % 10 == 0 or epoch == n_epochs - 1):\n",
    "            torch.save({\n",
    "                \"epoch\": epoch,\n",
    "                \"epoch_loss\": epoch_loss,\n",
    "                \"epoch_losses\": epoch_losses,\n",
    "                \"state_dict\": model.state_dict(),\n",
    "                \"optimizer\": optimizer.state_dict()\n",
    "            }, checkpoint_dir / f\"{epoch:03d}.pt\")\n",
    "\n",
    "    f_log.close()"
   ]
  },
  {
   "cell_type": "code",
   "execution_count": 15,
   "id": "21cead69",
   "metadata": {},
   "outputs": [
    {
     "name": "stdout",
     "output_type": "stream",
     "text": [
      "ATen/Parallel:\n",
      "\tat::get_num_threads() : 2\n",
      "\tat::get_num_interop_threads() : 2\n",
      "OpenMP 201511 (a.k.a. OpenMP 4.5)\n",
      "\tomp_get_max_threads() : 2\n",
      "Intel(R) oneAPI Math Kernel Library Version 2021.2-Product Build 20210312 for Intel(R) 64 architecture applications\n",
      "\tmkl_get_max_threads() : 2\n",
      "Intel(R) MKL-DNN v2.1.2 (Git Hash 98be7e8afa711dc9b66c8ff3504129cb82013cdb)\n",
      "std::thread::hardware_concurrency() : 4\n",
      "Environment variables:\n",
      "\tOMP_NUM_THREADS : [not set]\n",
      "\tMKL_NUM_THREADS : [not set]\n",
      "ATen parallel backend: OpenMP\n",
      "\n"
     ]
    }
   ],
   "source": [
    "print(torch.__config__.parallel_info())"
   ]
  },
  {
   "cell_type": "code",
   "execution_count": 16,
   "id": "7b03c5ea",
   "metadata": {},
   "outputs": [],
   "source": [
    "device = \"cpu\"\n",
    "model = model.to(\"cpu\")"
   ]
  },
  {
   "cell_type": "code",
   "execution_count": 17,
   "id": "e425c44f",
   "metadata": {
    "scrolled": true
   },
   "outputs": [
    {
     "name": "stdout",
     "output_type": "stream",
     "text": [
      "1) tensor([[0.0000, 0.4491, 0.9922, 0.9922, 0.0000],\n",
      "        [0.0000, 0.9922, 0.0000, 0.9922, 0.0000],\n",
      "        [0.0000, 0.9922, 0.0000, 0.9922, 0.0000]])\n",
      "2) tensor([0.0989, 0.6520, 0.1614, 0.5105, 0.0226, 0.1406, 0.6897, 0.1533, 0.2694,\n",
      "        0.4640, 0.1068, 0.2758, 0.6250, 0.0438, 0.1437, 0.0413, 0.0858, 0.0000,\n",
      "        0.2825, 0.1511])\n",
      "3) tensor([0.0000, 0.9922, 0.0000])\n",
      "4) tensor([[0.0000, 0.9922, 0.9922, 0.9922, 0.9922, 0.7798, 1.4294, 0.1595, 1.0373,\n",
      "         0.4901, 0.0000, 1.5268, 0.2485, 1.8066, 0.9922, 0.9922, 0.0000, 0.0000,\n",
      "         0.0504, 0.7231, 0.0000, 0.9922, 0.0000, 0.0000, 0.0000, 0.4765, 0.9922,\n",
      "         0.0000, 1.5836, 0.9922, 0.3902, 0.1178],\n",
      "        [0.0000, 0.9922, 0.9922, 0.7640, 0.9922, 0.2844, 0.4642, 0.0000, 1.0373,\n",
      "         0.3652, 0.0000, 1.0107, 0.2419, 1.5537, 1.3778, 0.9922, 0.0000, 0.0000,\n",
      "         0.0000, 0.9080, 0.0000, 0.4514, 0.0697, 0.0000, 0.0000, 0.0000, 0.9922,\n",
      "         0.9511, 1.1455, 0.9922, 0.9452, 0.0722],\n",
      "        [0.0000, 0.9922, 0.9922, 0.8337, 0.9003, 0.1485, 0.7747, 0.4820, 0.7675,\n",
      "         0.3068, 0.0000, 1.0312, 0.4767, 1.4973, 1.3473, 0.9922, 0.0000, 0.0661,\n",
      "         0.0000, 0.9031, 0.0000, 0.9793, 0.0000, 0.0000, 0.0000, 0.0000, 0.9922,\n",
      "         0.3718, 1.3146, 0.9922, 0.2996, 0.0722]])\n",
      "5) tensor([[0.7344, 0.0039, 0.2122, 0.0000, 0.0000, 0.0000, 0.9922, 0.0000, 0.6583,\n",
      "         0.2644, 0.9922, 0.6828, 0.0852, 0.8533, 0.0000, 0.9470, 0.7435, 0.0000,\n",
      "         0.0000, 0.9922, 0.7526, 0.0000, 0.8619, 0.5620, 0.9078, 0.0000, 0.9922,\n",
      "         0.0000, 0.0000, 0.9729, 0.7121, 0.0000],\n",
      "        [0.9261, 0.0000, 0.0820, 0.3659, 0.0496, 0.0000, 0.9922, 0.2933, 0.8939,\n",
      "         0.0873, 0.9922, 0.6904, 0.0000, 0.7075, 0.0000, 0.9372, 0.5162, 0.0370,\n",
      "         0.0000, 0.8797, 0.9732, 0.1965, 0.5552, 0.6450, 0.6759, 0.0650, 0.9922,\n",
      "         0.0000, 0.0000, 0.9615, 0.6591, 0.0000],\n",
      "        [0.8350, 0.0524, 0.0733, 0.3529, 0.0317, 0.0000, 0.9922, 0.1693, 0.6166,\n",
      "         0.3537, 0.9922, 0.5330, 0.0975, 0.9118, 0.0000, 0.9892, 0.7151, 0.0000,\n",
      "         0.0101, 0.9289, 0.9922, 0.0806, 0.8591, 0.7433, 0.6112, 0.0213, 0.9922,\n",
      "         0.0000, 0.0587, 0.9922, 0.4728, 0.0000]])\n"
     ]
    },
    {
     "data": {
      "text/plain": [
       "tensor([[[ -3.6663,   0.8222,   0.7225,   1.8420,  -8.4835],\n",
       "         [ -2.6948,   2.2246,   0.9550,  -0.2073,  -8.1117],\n",
       "         [ -3.1054,   0.5536,   2.1823,   0.3198,  -8.3123],\n",
       "         [ -3.0483,  -6.1629,  -3.7684,   3.3950,   3.4443]],\n",
       "\n",
       "        [[ -3.4463,  -0.1991,  -0.9017,  -1.8029,  -1.1830],\n",
       "         [ -3.1702,   1.5715,   1.8907,  -8.0500,  -0.0645],\n",
       "         [ -3.0547,   0.9235,  -6.7404,   2.0195,   1.3245],\n",
       "         [ -2.8161,   1.8909,   4.0779,  -4.1401,  -6.9197]],\n",
       "\n",
       "        [[ -2.9353,  -6.7432,  -1.3340,   1.2845,   3.3612],\n",
       "         [ -2.8631,   3.2019,  -4.9151,  -5.4021,   4.4582],\n",
       "         [ -3.7917,   1.9206,  -0.4999,   1.6191,  -7.6171],\n",
       "         [ -2.8652,   3.5274,   2.5884,  -6.0287,  -5.0679]],\n",
       "\n",
       "        ...,\n",
       "\n",
       "        [[-12.8188,  -0.7583,  -0.9030,  -0.7288,   0.1892],\n",
       "         [ -4.1504,   3.0474,   1.7052,  -5.1434,  -4.4251],\n",
       "         [ -3.1209,   0.8522,   1.3449,   0.9531,  -8.3350],\n",
       "         [ -2.7288,   4.7227,  -4.0980,  -6.0579,   2.4537]],\n",
       "\n",
       "        [[ -2.5589,  -5.7792,  -4.0879,   4.0708,   2.8660],\n",
       "         [-12.8207,  -0.7125,  -0.9053,  -0.7745,   0.1573],\n",
       "         [ -0.6746,   2.3472,  -7.2135,   1.3767,   1.2034],\n",
       "         [ -3.8972,  -0.7495,   2.0785,   1.5928,  -7.5274]],\n",
       "\n",
       "        [[ -2.8859,   0.3681,   1.4254,   1.3928,  -8.4199],\n",
       "         [ -3.2161,   1.0731,  -6.8444,  -0.5917,   3.9086],\n",
       "         [ -3.3217,   1.8676,  -6.9933,   1.6170,   1.0096],\n",
       "         [ -2.5795,   1.8798,  -7.4079,   1.5186,   1.7232]]])"
      ]
     },
     "execution_count": 17,
     "metadata": {},
     "output_type": "execute_result"
    }
   ],
   "source": [
    "agent_features, condition_features, target_rank, target_policy = next(iter(dataloader))\n",
    "agent_features = agent_features.to(device)\n",
    "condition_features = condition_features.to(device)\n",
    "target_rank = target_rank.to(device)\n",
    "target_policy = target_policy.to(device)\n",
    "\n",
    "with torch.no_grad():\n",
    "    preds = model(agent_features, condition_features, debug=True)\n",
    "preds"
   ]
  },
  {
   "cell_type": "code",
   "execution_count": 18,
   "id": "22b666b8",
   "metadata": {
    "scrolled": true
   },
   "outputs": [
    {
     "name": "stdout",
     "output_type": "stream",
     "text": [
      "1) tensor([[0.0000, 0.4491, 0.9922, 0.9922, 0.0000],\n",
      "        [0.0000, 0.9922, 0.0000, 0.9922, 0.0000],\n",
      "        [0.0000, 0.9922, 0.0000, 0.9922, 0.0000]])\n",
      "2) tensor([0.0989, 0.6520, 0.1614, 0.5105, 0.0226, 0.1406, 0.6897, 0.1533, 0.2694,\n",
      "        0.4640, 0.1068, 0.2758, 0.6250, 0.0438, 0.1437, 0.0413, 0.0858, 0.0000,\n",
      "        0.2825, 0.1511])\n",
      "3) tensor([0.0000, 0.9922, 0.0000])\n",
      "4) tensor([[0.0000, 0.9922, 0.9922, 0.9922, 0.9922, 0.7798, 1.4294, 0.1595, 1.0373,\n",
      "         0.4901, 0.0000, 1.5268, 0.2485, 1.8066, 0.9922, 0.9922, 0.0000, 0.0000,\n",
      "         0.0504, 0.7231, 0.0000, 0.9922, 0.0000, 0.0000, 0.0000, 0.4765, 0.9922,\n",
      "         0.0000, 1.5836, 0.9922, 0.3902, 0.1178],\n",
      "        [0.0000, 0.9922, 0.9922, 0.7640, 0.9922, 0.2844, 0.4642, 0.0000, 1.0373,\n",
      "         0.3652, 0.0000, 1.0107, 0.2419, 1.5537, 1.3778, 0.9922, 0.0000, 0.0000,\n",
      "         0.0000, 0.9080, 0.0000, 0.4514, 0.0697, 0.0000, 0.0000, 0.0000, 0.9922,\n",
      "         0.9511, 1.1455, 0.9922, 0.9452, 0.0722],\n",
      "        [0.0000, 0.9922, 0.9922, 0.8337, 0.9002, 0.1485, 0.7747, 0.4820, 0.7675,\n",
      "         0.3068, 0.0000, 1.0312, 0.4767, 1.4973, 1.3473, 0.9922, 0.0000, 0.0662,\n",
      "         0.0000, 0.9031, 0.0000, 0.9793, 0.0000, 0.0000, 0.0000, 0.0000, 0.9922,\n",
      "         0.3718, 1.3146, 0.9922, 0.2996, 0.0722]])\n",
      "5) tensor([[0.7343, 0.0039, 0.2122, 0.0000, 0.0000, 0.0000, 0.9922, 0.0000, 0.6583,\n",
      "         0.2644, 0.9922, 0.6828, 0.0852, 0.8533, 0.0000, 0.9472, 0.7435, 0.0000,\n",
      "         0.0000, 0.9922, 0.7526, 0.0000, 0.8619, 0.5620, 0.9078, 0.0000, 0.9922,\n",
      "         0.0000, 0.0000, 0.9729, 0.7121, 0.0000],\n",
      "        [0.9260, 0.0000, 0.0820, 0.3659, 0.0496, 0.0000, 0.9922, 0.2933, 0.8939,\n",
      "         0.0873, 0.9922, 0.6904, 0.0000, 0.7075, 0.0000, 0.9373, 0.5162, 0.0370,\n",
      "         0.0000, 0.8797, 0.9732, 0.1965, 0.5552, 0.6450, 0.6759, 0.0650, 0.9922,\n",
      "         0.0000, 0.0000, 0.9615, 0.6591, 0.0000],\n",
      "        [0.8348, 0.0525, 0.0733, 0.3529, 0.0317, 0.0000, 0.9922, 0.1693, 0.6166,\n",
      "         0.3538, 0.9922, 0.5330, 0.0975, 0.9118, 0.0000, 0.9893, 0.7151, 0.0000,\n",
      "         0.0101, 0.9289, 0.9922, 0.0806, 0.8591, 0.7433, 0.6112, 0.0213, 0.9922,\n",
      "         0.0000, 0.0587, 0.9922, 0.4728, 0.0000]])\n"
     ]
    },
    {
     "data": {
      "text/plain": [
       "tensor([[[ -3.6667,   0.8221,   0.7227,   1.8419,  -8.4836],\n",
       "         [ -2.6953,   2.2245,   0.9553,  -0.2074,  -8.1117],\n",
       "         [ -3.1059,   0.5534,   2.1826,   0.3197,  -8.3122],\n",
       "         [ -3.0486,  -6.1634,  -3.7677,   3.3948,   3.4442]],\n",
       "\n",
       "        [[ -3.4468,  -0.1990,  -0.9012,  -1.8036,  -1.1828],\n",
       "         [ -3.1706,   1.5712,   1.8911,  -8.0501,  -0.0644],\n",
       "         [ -3.0550,   0.9234,  -6.7402,   2.0191,   1.3247],\n",
       "         [ -2.8164,   1.8907,   4.0781,  -4.1401,  -6.9196]],\n",
       "\n",
       "        [[ -2.9358,  -6.7432,  -1.3336,   1.2839,   3.3613],\n",
       "         [ -2.8635,   3.2017,  -4.9147,  -5.4022,   4.4582],\n",
       "         [ -3.7922,   1.9203,  -0.4996,   1.6187,  -7.6166],\n",
       "         [ -2.8656,   3.5273,   2.5887,  -6.0288,  -5.0679]],\n",
       "\n",
       "        ...,\n",
       "\n",
       "        [[-12.8189,  -0.7585,  -0.9027,  -0.7289,   0.1891],\n",
       "         [ -4.1508,   3.0469,   1.7051,  -5.1434,  -4.4245],\n",
       "         [ -3.1213,   0.8520,   1.3451,   0.9531,  -8.3349],\n",
       "         [ -2.7293,   4.7226,  -4.0977,  -6.0580,   2.4537]],\n",
       "\n",
       "        [[ -2.5593,  -5.7794,  -4.0875,   4.0705,   2.8661],\n",
       "         [-12.8207,  -0.7126,  -0.9051,  -0.7746,   0.1573],\n",
       "         [ -0.6752,   2.3472,  -7.2132,   1.3762,   1.2035],\n",
       "         [ -3.8977,  -0.7500,   2.0787,   1.5927,  -7.5267]],\n",
       "\n",
       "        [[ -2.8861,   0.3680,   1.4256,   1.3927,  -8.4198],\n",
       "         [ -3.2164,   1.0730,  -6.8441,  -0.5922,   3.9090],\n",
       "         [ -3.3221,   1.8676,  -6.9929,   1.6165,   1.0097],\n",
       "         [ -2.5797,   1.8797,  -7.4077,   1.5184,   1.7233]]])"
      ]
     },
     "execution_count": 18,
     "metadata": {},
     "output_type": "execute_result"
    }
   ],
   "source": [
    "# スケーリングのみ\n",
    "smodel = model.quantize(ignore_rounding=True)\n",
    "with torch.no_grad():\n",
    "    spreds = smodel(agent_features, condition_features, ignore_rounding=True, debug=True)\n",
    "spreds"
   ]
  },
  {
   "cell_type": "code",
   "execution_count": 19,
   "id": "4c592fcd",
   "metadata": {
    "scrolled": true
   },
   "outputs": [
    {
     "name": "stdout",
     "output_type": "stream",
     "text": [
      "1) tensor([[0.0000, 0.4482, 0.9922, 0.9922, 0.0000],\n",
      "        [0.0000, 0.9922, 0.0000, 0.9922, 0.0000],\n",
      "        [0.0000, 0.9922, 0.0000, 0.9922, 0.0000]])\n",
      "2) tensor([0.1016, 0.6484, 0.1641, 0.5078, 0.0234, 0.1406, 0.6875, 0.1562, 0.2656,\n",
      "        0.4609, 0.1094, 0.2734, 0.6250, 0.0469, 0.1406, 0.0391, 0.0859, 0.0000,\n",
      "        0.2812, 0.1484])\n",
      "3) tensor([0.0000, 0.9922, 0.0000])\n",
      "4) tensor([[0.0000, 1.0000, 1.0000, 1.0000, 1.0000, 0.7812, 1.4375, 0.1719, 1.0312,\n",
      "         0.4844, 0.0000, 1.5312, 0.2500, 1.7969, 1.0000, 1.0000, 0.0000, 0.0000,\n",
      "         0.0469, 0.7344, 0.0000, 1.0000, 0.0000, 0.0000, 0.0000, 0.4688, 1.0000,\n",
      "         0.0000, 1.5781, 1.0000, 0.3906, 0.1094],\n",
      "        [0.0000, 1.0000, 1.0000, 0.7656, 1.0000, 0.2812, 0.4688, 0.0000, 1.0312,\n",
      "         0.3594, 0.0000, 1.0156, 0.2500, 1.5469, 1.3750, 1.0000, 0.0000, 0.0000,\n",
      "         0.0000, 0.9219, 0.0000, 0.4531, 0.0625, 0.0000, 0.0000, 0.0000, 1.0000,\n",
      "         0.9375, 1.1406, 1.0000, 0.9531, 0.0781],\n",
      "        [0.0000, 1.0000, 1.0000, 0.8281, 0.8906, 0.1406, 0.7812, 0.4844, 0.7656,\n",
      "         0.2969, 0.0000, 1.0312, 0.4688, 1.5000, 1.3438, 1.0000, 0.0000, 0.0625,\n",
      "         0.0000, 0.9062, 0.0000, 0.9844, 0.0000, 0.0000, 0.0000, 0.0000, 1.0000,\n",
      "         0.3594, 1.3125, 1.0000, 0.2969, 0.0781]])\n",
      "5) tensor([[0.7422, 0.0000, 0.2109, 0.0000, 0.0000, 0.0000, 0.9922, 0.0000, 0.6641,\n",
      "         0.2578, 0.9922, 0.6719, 0.0859, 0.8594, 0.0000, 0.9531, 0.7422, 0.0000,\n",
      "         0.0000, 0.9922, 0.7656, 0.0000, 0.8672, 0.5703, 0.9062, 0.0000, 0.9922,\n",
      "         0.0000, 0.0000, 0.9844, 0.6953, 0.0000],\n",
      "        [0.9297, 0.0000, 0.0703, 0.3672, 0.0469, 0.0000, 0.9922, 0.2891, 0.9062,\n",
      "         0.0781, 0.9922, 0.6875, 0.0000, 0.7109, 0.0000, 0.9375, 0.5156, 0.0312,\n",
      "         0.0000, 0.8750, 0.9844, 0.1953, 0.5547, 0.6484, 0.6719, 0.0625, 0.9922,\n",
      "         0.0000, 0.0000, 0.9766, 0.6484, 0.0000],\n",
      "        [0.8438, 0.0547, 0.0703, 0.3516, 0.0312, 0.0000, 0.9922, 0.1641, 0.6172,\n",
      "         0.3516, 0.9922, 0.5234, 0.1016, 0.9062, 0.0000, 0.9922, 0.7188, 0.0000,\n",
      "         0.0078, 0.9375, 0.9922, 0.0859, 0.8672, 0.7422, 0.6094, 0.0234, 0.9922,\n",
      "         0.0000, 0.0703, 0.9922, 0.4688, 0.0000]])\n"
     ]
    },
    {
     "data": {
      "text/plain": [
       "tensor([[[ -3.6216,   0.8586,   0.7432,   1.8059,  -8.5388],\n",
       "         [ -2.6587,   2.2898,   0.9666,  -0.2319,  -8.1921],\n",
       "         [ -3.0735,   0.5642,   2.1692,   0.3464,  -8.3247],\n",
       "         [ -2.9790,  -6.2605,  -3.6704,   3.3655,   3.4802]],\n",
       "\n",
       "        [[ -3.4065,  -0.2190,  -0.8630,  -1.8210,  -1.2070],\n",
       "         [ -3.1418,   1.5510,   1.9082,  -8.0886,  -0.0154],\n",
       "         [ -3.0037,   0.8760,  -6.7371,   2.0159,   1.3625],\n",
       "         [ -2.8125,   1.9233,   4.0652,  -4.0825,  -6.9863]],\n",
       "\n",
       "        [[ -2.8706,  -6.8330,  -1.2671,   1.2874,   3.3733],\n",
       "         [ -2.8616,   3.1614,  -4.8857,  -5.4231,   4.4880],\n",
       "         [ -3.7747,   1.9180,  -0.4763,   1.5942,  -7.6348],\n",
       "         [ -2.8433,   3.5815,   2.6082,  -6.0210,  -5.1375]],\n",
       "\n",
       "        ...,\n",
       "\n",
       "        [[-12.8164,  -0.8015,  -0.8723,  -0.7886,   0.2048],\n",
       "         [ -4.1353,   3.0625,   1.6858,  -5.1089,  -4.4570],\n",
       "         [ -3.0605,   0.8669,   1.3694,   0.9285,  -8.3674],\n",
       "         [ -2.7095,   4.7083,  -4.0562,  -6.0579,   2.4109]],\n",
       "\n",
       "        [[ -2.4912,  -5.8574,  -3.9978,   4.0208,   2.8882],\n",
       "         [-12.7898,  -0.7793,  -0.8523,  -0.8450,   0.1667],\n",
       "         [ -0.6562,   2.3289,  -7.2151,   1.2993,   1.2632],\n",
       "         [ -3.8389,  -0.7581,   2.1133,   1.5730,  -7.5796]],\n",
       "\n",
       "        [[ -2.8159,   0.3738,   1.4473,   1.3696,  -8.4463],\n",
       "         [ -3.1648,   0.9990,  -6.8394,  -0.5852,   3.9409],\n",
       "         [ -3.2583,   1.8359,  -6.9897,   1.5735,   1.0630],\n",
       "         [ -2.5305,   1.8645,  -7.4075,   1.4839,   1.7583]]])"
      ]
     },
     "execution_count": 19,
     "metadata": {},
     "output_type": "execute_result"
    }
   ],
   "source": [
    "# 量子化\n",
    "qmodel = model.quantize()\n",
    "with torch.no_grad():\n",
    "    qpreds = qmodel(agent_features, condition_features, debug=True)\n",
    "qpreds"
   ]
  },
  {
   "cell_type": "code",
   "execution_count": 20,
   "id": "9d75afaf",
   "metadata": {},
   "outputs": [
    {
     "data": {
      "image/png": "[encoded data removed]",
      "text/plain": [
       "<Figure size 432x288 with 1 Axes>"
      ]
     },
     "metadata": {
      "needs_background": "light"
     },
     "output_type": "display_data"
    }
   ],
   "source": [
    "# スケーリング前後の差\n",
    "import matplotlib.pyplot as plt\n",
    "plt.hist((spreds - preds).numpy().ravel(), bins=20)\n",
    "plt.show()"
   ]
  },
  {
   "cell_type": "code",
   "execution_count": 21,
   "id": "abebbca9",
   "metadata": {},
   "outputs": [
    {
     "data": {
      "image/png": "[encoded data removed]",
      "text/plain": [
       "<Figure size 432x288 with 1 Axes>"
      ]
     },
     "metadata": {
      "needs_background": "light"
     },
     "output_type": "display_data"
    }
   ],
   "source": [
    "# 量子化前と後の差\n",
    "import matplotlib.pyplot as plt\n",
    "plt.hist((qpreds - spreds).numpy().ravel(), bins=20)\n",
    "plt.show()"
   ]
  },
  {
   "cell_type": "code",
   "execution_count": 22,
   "id": "e864549f",
   "metadata": {
    "scrolled": true
   },
   "outputs": [
    {
     "data": {
      "text/plain": [
       "OrderedDict([('embed.weight',\n",
       "              tensor([[  413.,  -315.,   123.,  ...,    -9.,   -50.,  -156.],\n",
       "                      [  497.,  -338.,  -104.,  ...,    32.,  -126.,  -212.],\n",
       "                      [  447.,  -354.,  -214.,  ...,  -240.,  -193.,   -50.],\n",
       "                      ...,\n",
       "                      [ -136.,   982.,  1410.,  ...,   262.,  2045., -1431.],\n",
       "                      [ -191., -1191.,  1420.,  ...,   478.,  1947.,  -563.],\n",
       "                      [    0.,     0.,     0.,  ...,     0.,     0.,     0.]])),\n",
       "             ('linear_condition.weight',\n",
       "              tensor([[ -5., -24.,  -6.,  ..., -14., -12.,   6.],\n",
       "                      [-40.,  25.,   4.,  ..., -29., -46., -56.],\n",
       "                      [ 13.,  13.,  26.,  ...,   2.,  12., -22.],\n",
       "                      ...,\n",
       "                      [ 23.,  15., -31.,  ..., -32., -23.,  18.],\n",
       "                      [-17., -31.,   0.,  ..., -15.,   4.,  -8.],\n",
       "                      [ 18., -13., -47.,  ..., -15.,  -8., -12.]])),\n",
       "             ('linear_condition.bias',\n",
       "              tensor([35138., 35622., 30211., 30771., 27476., 29163., 33756., 33317., 28799.,\n",
       "                      30991., 33616., 34166., 31605., 30904., 34786., 29085., 34044., 34063.,\n",
       "                      30931., 33698., 28640., 33747., 27601., 29063., 30649., 31560., 30067.,\n",
       "                      31326., 31714., 30993., 33288., 31431.])),\n",
       "             ('linear_2.weight',\n",
       "              tensor([[ 38.,  20., -15.,  ...,  11.,   0.,   8.],\n",
       "                      [  5., -22.,   5.,  ...,  -7., -10., -17.],\n",
       "                      [ -4., -21.,  30.,  ...,  11.,  30.,  -4.],\n",
       "                      ...,\n",
       "                      [ -5., -22., -76.,  ...,   4.,   3., -21.],\n",
       "                      [  4.,  12.,  22.,  ...,   6.,  -3.,  33.],\n",
       "                      [-34., -53., -27.,  ...,   4., -21.,  38.]])),\n",
       "             ('linear_2.bias',\n",
       "              tensor([36914., 30900., 31151., 34472., 36570., 29978., 36668., 28797., 27797.,\n",
       "                      40413., 25847., 21331., 36950., 34563., 37692., 28251., 36868., 40099.,\n",
       "                      31004., 39840., 37302., 36013., 25645., 22766., 36230., 29530., 33565.,\n",
       "                      31179., 33706., 33598., 27515., 22561.])),\n",
       "             ('linear_3.weight',\n",
       "              tensor([[  4.,   4.,  20.,  ...,   9.,   5.,  13.],\n",
       "                      [-30.,  27., -33.,  ...,  11., -19.,  -1.],\n",
       "                      [ 13.,  64., -15.,  ..., -29., -12.,  25.],\n",
       "                      ...,\n",
       "                      [-18.,  21., 120.,  ..., -23., -12.,  -6.],\n",
       "                      [-27.,  41.,  22.,  ...,  12.,  24.,  20.],\n",
       "                      [ 10.,   1.,  -2.,  ..., -14., -15., -12.]])),\n",
       "             ('linear_3.bias',\n",
       "              tensor([ 5034., 10174., 12929.,  3048.,  3316.,  3012., 13223.,  5969.,  5660.,\n",
       "                       8157.,  4637., 11154.,  3683.,  5714.,  5631., 13917.,  4208.,  6116.,\n",
       "                       8024., 13222.,  6272.,  2589.,  6971., 13115.,  4619.,  8941.,  7213.,\n",
       "                       7055.,  1544.,  5716., 11569.,  6983.])),\n",
       "             ('linear_4.weight',\n",
       "              tensor([[ 55., -28., -27.,  15.,  15., 127., -31.,  16.,  27., -16.,  18., -10.,\n",
       "                        30., -17.,  30., -26.,  25.,  29., -14., -33.,  18.,  37.,  20., -15.,\n",
       "                        28., -20.,   7.,   8.,  11.,   6., -27., -15.],\n",
       "                      [ 24., -29.,  -3.,  14.,   1.,   2.,  25.,  22.,  29., -37., -23.,  39.,\n",
       "                       -38., -17.,  12.,   6., -19.,  -0.,  -7.,  10., -15.,  -2., -23.,   7.,\n",
       "                       -11.,   9.,   8.,  30., -64.,  18.,  18., -36.],\n",
       "                      [-24.,  -0., -29.,  14.,  20.,   4.,   9.,  10., -22.,  13.,  26., -25.,\n",
       "                        -4.,  29., -10.,  23.,   3., -19.,  -3., -26.,  28., -12.,  20.,   8.,\n",
       "                       -43.,  -5.,  17., -59.,  19.,  10., -29.,   1.],\n",
       "                      [ 10.,  15.,  19., -38., -48.,   5.,   5., -52., -11.,  16.,  13., -10.,\n",
       "                         9.,  -7.,  -9.,  -8.,  26., -19., -28.,   9., -27.,  18.,  19., -26.,\n",
       "                        31., -21., -16.,  30.,   8.,  17.,  27., -11.],\n",
       "                      [-15.,  17.,  12.,  10.,  24.,   4., -41.,  11., -19.,   2., -15., -10.,\n",
       "                        13., -28.,  15., -24., -14.,  24.,  34.,  13., -13.,   1., -14., -26.,\n",
       "                       -17.,  32., -27.,  16.,  19., -69., -15.,  30.]])),\n",
       "             ('linear_4.bias',\n",
       "              tensor([-17437.,  -1541.,    920.,   -725.,   1347.]))])"
      ]
     },
     "execution_count": 22,
     "metadata": {},
     "output_type": "execute_result"
    }
   ],
   "source": [
    "qmodel.state_dict()"
   ]
  },
  {
   "cell_type": "code",
   "execution_count": 23,
   "id": "fb8c4fe6",
   "metadata": {
    "scrolled": true
   },
   "outputs": [
    {
     "data": {
      "image/png": "[encoded data removed]",
      "text/plain": [
       "<Figure size 432x288 with 1 Axes>"
      ]
     },
     "metadata": {
      "needs_background": "light"
     },
     "output_type": "display_data"
    },
    {
     "data": {
      "image/png": "[encoded data removed]",
      "text/plain": [
       "<Figure size 432x288 with 1 Axes>"
      ]
     },
     "metadata": {
      "needs_background": "light"
     },
     "output_type": "display_data"
    },
    {
     "data": {
      "image/png": "[encoded data removed]",
      "text/plain": [
       "<Figure size 432x288 with 1 Axes>"
      ]
     },
     "metadata": {
      "needs_background": "light"
     },
     "output_type": "display_data"
    },
    {
     "data": {
      "image/png": "[encoded data removed]",
      "text/plain": [
       "<Figure size 432x288 with 1 Axes>"
      ]
     },
     "metadata": {
      "needs_background": "light"
     },
     "output_type": "display_data"
    },
    {
     "data": {
      "image/png": "[encoded data removed]",
      "text/plain": [
       "<Figure size 432x288 with 1 Axes>"
      ]
     },
     "metadata": {
      "needs_background": "light"
     },
     "output_type": "display_data"
    }
   ],
   "source": [
    "import matplotlib.pyplot as plt\n",
    "plt.hist(qmodel.embed.weight.detach().numpy().ravel(), bins=256, range=(-1024.5, 1023.5))\n",
    "plt.show()\n",
    "plt.hist(qmodel.linear_condition.weight.detach().numpy().ravel(), bins=256, range=(-128.5, 127.5))\n",
    "plt.show()\n",
    "plt.hist(qmodel.linear_2.weight.detach().numpy().ravel(), bins=256, range=(-128.5, 127.5))\n",
    "plt.show()\n",
    "plt.hist(qmodel.linear_3.weight.detach().numpy().ravel(), bins=256, range=(-128.5, 127.5))\n",
    "plt.show()\n",
    "plt.hist(qmodel.linear_4.weight.detach().numpy().ravel(), bins=256, range=(-128.5, 127.5))\n",
    "plt.show()"
   ]
  },
  {
   "cell_type": "code",
   "execution_count": 24,
   "id": "0c4ec5dd",
   "metadata": {},
   "outputs": [
    {
     "name": "stdout",
     "output_type": "stream",
     "text": [
      "embed.weight -1.0014892 1.0003542\n",
      "linear_condition.weight -0.25000596 0.2483803\n",
      "linear_condition.bias 0.4192518 0.54355484\n",
      "linear_2.weight -0.25061026 0.24829414\n",
      "linear_2.bias 0.32548892 0.61665\n",
      "linear_3.weight -0.50017893 0.496277\n",
      "linear_3.bias 0.09421888 0.8493964\n",
      "linear_4.weight -1.0802807 1.9843941\n",
      "linear_4.bias -2.128489 0.16439804\n"
     ]
    }
   ],
   "source": [
    "for name, params in model.named_parameters():\n",
    "    print(name, params.data.min().numpy(), params.data.max().numpy())"
   ]
  },
  {
   "cell_type": "code",
   "execution_count": 25,
   "id": "194ef52e",
   "metadata": {},
   "outputs": [
    {
     "name": "stdout",
     "output_type": "stream",
     "text": [
      "embed.weight -2051.0 2049.0\n",
      "linear_condition.weight -128.0 127.0\n",
      "linear_condition.bias 27476.0 35622.0\n",
      "linear_2.weight -128.0 127.0\n",
      "linear_2.bias 21331.0 40413.0\n",
      "linear_3.weight -128.0 127.0\n",
      "linear_3.bias 1544.0 13917.0\n",
      "linear_4.weight -69.0 127.0\n",
      "linear_4.bias -17437.0 1347.0\n"
     ]
    }
   ],
   "source": [
    "for name, params in qmodel.named_parameters():\n",
    "    print(name, params.data.min().numpy(), params.data.max().numpy())"
   ]
  },
  {
   "cell_type": "code",
   "execution_count": 26,
   "id": "11cbe9e4",
   "metadata": {},
   "outputs": [
    {
     "data": {
      "application/vnd.jupyter.widget-view+json": {
       "model_id": "f2d49e9f0fc949dab01361891a3e63cd",
       "version_major": 2,
       "version_minor": 0
      },
      "text/plain": [
       "  0%|          | 0/9329 [00:00<?, ?it/s]"
      ]
     },
     "metadata": {},
     "output_type": "display_data"
    },
    {
     "name": "stdout",
     "output_type": "stream",
     "text": [
      "0.4363916215110332 0.3057122782189795\n"
     ]
    }
   ],
   "source": [
    "# 速度チェック\n",
    "\n",
    "class Loss(nn.Module):\n",
    "    def __init__(self):\n",
    "        super().__init__()\n",
    "\n",
    "    def forward(self, x, target_rank, target_policy):\n",
    "        \"\"\"\n",
    "\n",
    "        Args:\n",
    "            x             (torch.Tensor): モデルの出力   (batch, 4, 5) dtype=float\n",
    "            target_rank   (torch.Tensor): 最終順位      (batch, 4)    dtype=long\n",
    "            target_policy (torch.Tensor): 探索で得た方策 (batch, 4, 4) dtype=float\n",
    "        Returns:\n",
    "            torch.Tensor: loss (平均)\n",
    "        \"\"\"\n",
    "        batch_size = x.shape[0]\n",
    "        device = x.device\n",
    "        \n",
    "        value_loss = 0.0\n",
    "        value_acc = 0.0\n",
    "        for a in range(4):\n",
    "            for b in range(a+1, 4):\n",
    "                rank_diff = target_rank[:, a] - target_rank[:, b]  # (batch,)\n",
    "                t = torch.where(rank_diff < 0, torch.tensor(1.0).to(device), torch.tensor(0.0).to(device))\n",
    "                t = torch.where(rank_diff == 0, torch.tensor(0.5).to(device), t)\n",
    "                pred = x[:, a, 0] - x[:, b, 0]\n",
    "                value_loss = value_loss + F.binary_cross_entropy_with_logits(pred, t)\n",
    "                value_acc = value_acc + ((pred > 0.5) * t + (pred < 0.5) * (1-t)).mean()\n",
    "        value_loss /= 6.0  # 4C2\n",
    "        value_acc /= 6.0\n",
    "\n",
    "        pred = x[:, :, 1:].reshape(batch_size * 4, 4)\n",
    "        alive = target_policy[:, :, 0] != -100.0  # (batch, 4)\n",
    "        target = (target_policy * alive.unsqueeze(2)).view(batch_size * 4, 4)\n",
    "        policy_loss = soft_cross_entropy(pred, target) * 0.5 / (alive.sum() + 1e-10)\n",
    "        \n",
    "        #print(target.shape, pred.shape, alive.shape)  # torch.Size([16384, 4]) torch.Size([16384, 4]) torch.Size([4096, 4])\n",
    "        policy_acc = ((target_policy.argmax(2) == x[:, :, 1:].argmax(2)) * alive).sum() / (alive.sum() + 1e-10)\n",
    "        \n",
    "        return value_loss, policy_loss, value_acc, policy_acc\n",
    "\n",
    "criterion = Loss()\n",
    "with torch.no_grad():\n",
    "    epoch_value_loss = 0.0\n",
    "    epoch_policy_loss = 0.0\n",
    "    epoch_value_acc = 0.0\n",
    "    epoch_policy_acc = 0.0\n",
    "    n_predicted_data = 0\n",
    "    for idx, (agent_features, condition_features, target_rank, target_policy) in enumerate(tqdm(dataloader)):\n",
    "        if idx % 100 != 0:\n",
    "            continue\n",
    "        agent_features = agent_features.to(device)\n",
    "        condition_features = condition_features.to(device)\n",
    "        target_rank = target_rank.to(device)\n",
    "        target_policy = target_policy.to(device)\n",
    "\n",
    "        optimizer.zero_grad()\n",
    "        preds = qmodel(agent_features, condition_features)\n",
    "        \n",
    "        v, p, va, pa = criterion(preds, target_rank, target_policy)\n",
    "        epoch_value_loss += v.item() * len(agent_features)\n",
    "        epoch_policy_loss += p.item() * len(agent_features)\n",
    "        epoch_value_acc += va.item() * len(agent_features)\n",
    "        epoch_policy_acc += pa.item() * len(agent_features)\n",
    "        n_predicted_data += len(agent_features)\n",
    "    epoch_value_loss /= n_predicted_data\n",
    "    epoch_policy_loss /= n_predicted_data\n",
    "    epoch_value_acc /= n_predicted_data\n",
    "    epoch_policy_acc /= n_predicted_data\n",
    "print(epoch_value_loss, epoch_policy_loss)"
   ]
  },
  {
   "cell_type": "code",
   "execution_count": 27,
   "id": "5b3f0ca7",
   "metadata": {},
   "outputs": [
    {
     "name": "stdout",
     "output_type": "stream",
     "text": [
      "0.7278821151307289 0.7606947872232883\n"
     ]
    }
   ],
   "source": [
    "print(epoch_value_acc, epoch_policy_acc)"
   ]
  },
  {
   "cell_type": "code",
   "execution_count": 28,
   "id": "68dbb531",
   "metadata": {},
   "outputs": [
    {
     "data": {
      "text/plain": [
       "tensor([[[ 7.7472e-03,  0.0000e+00,  1.4812e-03,  9.9077e-01],\n",
       "         [-1.0000e+02, -1.0000e+02, -1.0000e+02, -1.0000e+02],\n",
       "         [ 3.4159e-06,  0.0000e+00,  3.1085e-04,  9.9969e-01],\n",
       "         [-1.0000e+02, -1.0000e+02, -1.0000e+02, -1.0000e+02]],\n",
       "\n",
       "        [[ 7.2339e-02,  6.2029e-01,  3.0738e-01,  0.0000e+00],\n",
       "         [ 0.0000e+00,  2.9132e-01,  7.0813e-01,  5.5043e-04],\n",
       "         [ 0.0000e+00,  1.3021e-04,  9.9961e-01,  2.6042e-04],\n",
       "         [ 1.3233e-02,  0.0000e+00,  3.3602e-02,  9.5317e-01]],\n",
       "\n",
       "        [[ 2.2528e-04,  0.0000e+00,  2.0275e-02,  9.7950e-01],\n",
       "         [-1.0000e+02, -1.0000e+02, -1.0000e+02, -1.0000e+02],\n",
       "         [ 3.3647e-04,  2.2432e-04,  9.9944e-01,  0.0000e+00],\n",
       "         [ 1.1457e-04,  4.0445e-02,  9.5944e-01,  0.0000e+00]],\n",
       "\n",
       "        [[ 4.9871e-02,  9.5001e-01,  1.2253e-04,  0.0000e+00],\n",
       "         [-1.0000e+02, -1.0000e+02, -1.0000e+02, -1.0000e+02],\n",
       "         [ 9.9353e-01,  5.6159e-03,  8.5460e-04,  0.0000e+00],\n",
       "         [ 3.6684e-04,  2.4456e-04,  9.9939e-01,  0.0000e+00]]])"
      ]
     },
     "execution_count": 28,
     "metadata": {},
     "output_type": "execute_result"
    }
   ],
   "source": [
    "target_policy[:4]"
   ]
  },
  {
   "cell_type": "code",
   "execution_count": 29,
   "id": "00b91670",
   "metadata": {},
   "outputs": [
    {
     "name": "stdout",
     "output_type": "stream",
     "text": [
      "tensor([[[ 112,  247,  346,  507,  534,  599,  620,  651,  672,  733,  782,\n",
      "           886,  921, 1000, 1018, 1145, 1346, 1403, 1433, 1441, 1458, 1490,\n",
      "          1535, 1595, 1667, 1748, 1790, 1794, 1799, 1803, 1807, 1811, 1815,\n",
      "          1819, 1823, 1831, 1847, 1874, 1911, 1964, 2029, 2102, -100, -100,\n",
      "          -100, -100, -100, -100, -100, -100],\n",
      "         [-100, -100, -100, -100, -100, -100, -100, -100, -100, -100, -100,\n",
      "          -100, -100, -100, -100, -100, -100, -100, -100, -100, -100, -100,\n",
      "          -100, -100, -100, -100, -100, -100, -100, -100, -100, -100, -100,\n",
      "          -100, -100, -100, -100, -100, -100, -100, -100, -100, -100, -100,\n",
      "          -100, -100, -100, -100, -100, -100],\n",
      "         [  63,  129,  280,  429,  534,  599,  620,  651,  672,  737,  793,\n",
      "           893,  928, 1044,  985, 1245, 1342, 1403, 1434, 1444, 1463, 1495,\n",
      "          1545, 1608, 1683, 1761, 1790, 1794, 1799, 1803, 1807, 1811, 1815,\n",
      "          1819, 1824, 1834, 1852, 1879, 1921, 1977, 2045, 2115, -100, -100,\n",
      "          -100, -100, -100, -100, -100, -100],\n",
      "         [-100, -100, -100, -100, -100, -100, -100, -100, -100, -100, -100,\n",
      "          -100, -100, -100, -100, -100, -100, -100, -100, -100, -100, -100,\n",
      "          -100, -100, -100, -100, -100, -100, -100, -100, -100, -100, -100,\n",
      "          -100, -100, -100, -100, -100, -100, -100, -100, -100, -100, -100,\n",
      "          -100, -100, -100, -100, -100, -100]]])\n",
      "tensor([[2180, 2227, 2455]])\n",
      "tensor([[[ -1.2456,  -1.6470,  -4.1519,  -1.8486,   4.7603],\n",
      "         [-11.9607,  -0.9268,  -0.7405,  -0.8379,   0.0781],\n",
      "         [  0.1736,  -4.3096,  -5.2737,   2.3577,   4.4988],\n",
      "         [-11.9607,  -0.9268,  -0.7405,  -0.8379,   0.0781]]],\n",
      "       grad_fn=<MulBackward0>)\n"
     ]
    }
   ],
   "source": [
    "ag, cn = agent_features[:1], condition_features[:1]\n",
    "p = qmodel(ag, cn)\n",
    "print(ag)\n",
    "print(cn)\n",
    "print(p)"
   ]
  },
  {
   "cell_type": "code",
   "execution_count": 30,
   "id": "0574072e",
   "metadata": {},
   "outputs": [],
   "source": [
    "qmodel.to(\"cpu\").dump(\"parameters.bin\")"
   ]
  },
  {
   "cell_type": "code",
   "execution_count": null,
   "id": "7c49d95b",
   "metadata": {},
   "outputs": [],
   "source": []
  },
  {
   "cell_type": "code",
   "execution_count": null,
   "id": "c230c042",
   "metadata": {},
   "outputs": [],
   "source": []
  },
  {
   "cell_type": "markdown",
   "id": "6e8c856d",
   "metadata": {},
   "source": [
    "# epoch 10"
   ]
  },
  {
   "cell_type": "code",
   "execution_count": 31,
   "id": "8de6e2ed",
   "metadata": {},
   "outputs": [],
   "source": [
    "dict_checkpoint = torch.load(\"./out/checkpoint/010.pt\", map_location=device)\n",
    "model.load_state_dict(dict_checkpoint[\"state_dict\"])\n",
    "qmodel = model.quantize()\n",
    "qmodel.to(\"cpu\").dump(\"038_01_10epoch.bin\")"
   ]
  },
  {
   "cell_type": "code",
   "execution_count": 32,
   "id": "268480c8",
   "metadata": {},
   "outputs": [
    {
     "name": "stdout",
     "output_type": "stream",
     "text": [
      "Binary files 038_01_10epoch.bin and parameters.bin differ\r\n"
     ]
    }
   ],
   "source": [
    "!diff 038_01_10epoch.bin parameters.bin"
   ]
  },
  {
   "cell_type": "code",
   "execution_count": null,
   "id": "272d9407",
   "metadata": {},
   "outputs": [],
   "source": []
  }
 ],
 "metadata": {
  "kernelspec": {
   "display_name": "Python 3",
   "language": "python",
   "name": "python3"
  },
  "language_info": {
   "codemirror_mode": {
    "name": "ipython",
    "version": 3
   },
   "file_extension": ".py",
   "mimetype": "text/x-python",
   "name": "python",
   "nbconvert_exporter": "python",
   "pygments_lexer": "ipython3",
   "version": "3.8.8"
  }
 },
 "nbformat": 4,
 "nbformat_minor": 5
}
