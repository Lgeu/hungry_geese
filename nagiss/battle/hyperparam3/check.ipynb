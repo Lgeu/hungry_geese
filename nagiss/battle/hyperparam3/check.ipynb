{
 "cells": [
  {
   "cell_type": "code",
   "execution_count": 3,
   "id": "bfd50a6f",
   "metadata": {},
   "outputs": [
    {
     "data": {
      "text/plain": [
       "6992"
      ]
     },
     "execution_count": 3,
     "metadata": {},
     "output_type": "execute_result"
    }
   ],
   "source": [
    "rewards = !cat result.txt\n",
    "rewards = \"[\" + \"\".join(rewards) + \"]\"\n",
    "rewards = eval(rewards)\n",
    "n_matches = len(rewards)\n",
    "n_matches"
   ]
  },
  {
   "cell_type": "code",
   "execution_count": 4,
   "id": "6e63ff75",
   "metadata": {},
   "outputs": [
    {
     "data": {
      "text/plain": [
       "array([[0.        , 0.37943364, 0.42727403, 0.39523741],\n",
       "       [0.62056636, 0.        , 0.55241705, 0.5125143 ],\n",
       "       [0.57272597, 0.44758295, 0.        , 0.4680349 ],\n",
       "       [0.60476259, 0.4874857 , 0.5319651 , 0.        ]])"
      ]
     },
     "execution_count": 4,
     "metadata": {},
     "output_type": "execute_result"
    }
   ],
   "source": [
    "from itertools import combinations\n",
    "import numpy as np\n",
    "win_point_mat = np.zeros((4, 4))\n",
    "for rwds in rewards:\n",
    "    for (a, reward_a), (b, reward_b) in combinations(enumerate(rwds), 2):\n",
    "        if reward_a > reward_b:\n",
    "            win_point_mat[a, b] += 1.0\n",
    "        elif reward_a == reward_b:\n",
    "            win_point_mat[a, b] += 0.5\n",
    "            win_point_mat[b, a] += 0.5\n",
    "        else:\n",
    "            win_point_mat[b, a] += 1.0\n",
    "\n",
    "win_point_mat / n_matches"
   ]
  },
  {
   "cell_type": "code",
   "execution_count": null,
   "id": "8583d906",
   "metadata": {},
   "outputs": [],
   "source": []
  },
  {
   "cell_type": "code",
   "execution_count": null,
   "id": "59540564",
   "metadata": {},
   "outputs": [],
   "source": []
  }
 ],
 "metadata": {
  "kernelspec": {
   "display_name": "Python 3",
   "language": "python",
   "name": "python3"
  },
  "language_info": {
   "codemirror_mode": {
    "name": "ipython",
    "version": 3
   },
   "file_extension": ".py",
   "mimetype": "text/x-python",
   "name": "python",
   "nbconvert_exporter": "python",
   "pygments_lexer": "ipython3",
   "version": "3.8.8"
  }
 },
 "nbformat": 4,
 "nbformat_minor": 5
}
