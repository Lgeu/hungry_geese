{
 "cells": [
  {
   "cell_type": "code",
   "execution_count": 1,
   "id": "bfd50a6f",
   "metadata": {},
   "outputs": [
    {
     "data": {
      "text/plain": [
       "8484"
      ]
     },
     "execution_count": 1,
     "metadata": {},
     "output_type": "execute_result"
    }
   ],
   "source": [
    "rewards = !cat result.txt\n",
    "rewards = \"[\" + \"\".join(rewards) + \"]\"\n",
    "rewards = eval(rewards)\n",
    "n_matches = len(rewards)\n",
    "n_matches"
   ]
  },
  {
   "cell_type": "code",
   "execution_count": 2,
   "id": "6e63ff75",
   "metadata": {},
   "outputs": [
    {
     "data": {
      "text/plain": [
       "array([[0.        , 0.4825554 , 0.51608911, 0.47342056],\n",
       "       [0.5174446 , 0.        , 0.52876002, 0.49994107],\n",
       "       [0.48391089, 0.47123998, 0.        , 0.46328383],\n",
       "       [0.52657944, 0.50005893, 0.53671617, 0.        ]])"
      ]
     },
     "execution_count": 2,
     "metadata": {},
     "output_type": "execute_result"
    }
   ],
   "source": [
    "from itertools import combinations\n",
    "import numpy as np\n",
    "win_point_mat = np.zeros((4, 4))\n",
    "for rwds in rewards:\n",
    "    for (a, reward_a), (b, reward_b) in combinations(enumerate(rwds), 2):\n",
    "        if reward_a > reward_b:\n",
    "            win_point_mat[a, b] += 1.0\n",
    "        elif reward_a == reward_b:\n",
    "            win_point_mat[a, b] += 0.5\n",
    "            win_point_mat[b, a] += 0.5\n",
    "        else:\n",
    "            win_point_mat[b, a] += 1.0\n",
    "\n",
    "win_point_mat / n_matches"
   ]
  },
  {
   "cell_type": "code",
   "execution_count": 3,
   "id": "f664262e",
   "metadata": {},
   "outputs": [
    {
     "data": {
      "text/plain": [
       "2.055869872701556"
      ]
     },
     "execution_count": 3,
     "metadata": {},
     "output_type": "execute_result"
    }
   ],
   "source": [
    "alive_cnt = 0\n",
    "for rwds in rewards:\n",
    "    for rwd in rwds:\n",
    "        if rwd >= 20000:\n",
    "            alive_cnt += 1\n",
    "alive_cnt / n_matches"
   ]
  },
  {
   "cell_type": "code",
   "execution_count": 4,
   "id": "c6031d24",
   "metadata": {},
   "outputs": [
    {
     "data": {
      "text/plain": [
       "array([0.26508722, 0.25117869, 0.27934936, 0.24493164])"
      ]
     },
     "execution_count": 4,
     "metadata": {},
     "output_type": "execute_result"
    }
   ],
   "source": [
    "from itertools import combinations\n",
    "import numpy as np\n",
    "head_collision_cnts = np.zeros(4)\n",
    "for rwds in rewards:\n",
    "    for (a, reward_a), (b, reward_b) in combinations(enumerate(rwds), 2):\n",
    "        if reward_a >= 20000:\n",
    "            continue\n",
    "        if reward_a // 100 == reward_b // 100:\n",
    "            head_collision_cnts[a] += 1\n",
    "            head_collision_cnts[b] += 1\n",
    "head_collision_cnts / n_matches"
   ]
  },
  {
   "cell_type": "code",
   "execution_count": 3,
   "id": "8583d906",
   "metadata": {},
   "outputs": [],
   "source": [
    "!diff alphazero_c0.25_det2000 alphazero_c0.25_det500"
   ]
  },
  {
   "cell_type": "code",
   "execution_count": null,
   "id": "f029b16d",
   "metadata": {},
   "outputs": [],
   "source": [
    "# 500 だと思って回してたやつ 2000 じゃねえか！！！！"
   ]
  },
  {
   "cell_type": "code",
   "execution_count": null,
   "id": "1f074047",
   "metadata": {},
   "outputs": [],
   "source": []
  }
 ],
 "metadata": {
  "kernelspec": {
   "display_name": "Python 3",
   "language": "python",
   "name": "python3"
  },
  "language_info": {
   "codemirror_mode": {
    "name": "ipython",
    "version": 3
   },
   "file_extension": ".py",
   "mimetype": "text/x-python",
   "name": "python",
   "nbconvert_exporter": "python",
   "pygments_lexer": "ipython3",
   "version": "3.8.8"
  }
 },
 "nbformat": 4,
 "nbformat_minor": 5
}
