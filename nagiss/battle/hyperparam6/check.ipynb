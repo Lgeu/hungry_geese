{
 "cells": [
  {
   "cell_type": "code",
   "execution_count": 48,
   "id": "bfd50a6f",
   "metadata": {},
   "outputs": [
    {
     "data": {
      "text/plain": [
       "4201"
      ]
     },
     "execution_count": 48,
     "metadata": {},
     "output_type": "execute_result"
    }
   ],
   "source": [
    "rewards = !cat result.txt\n",
    "rewards = \"[\" + \"\".join(rewards) + \"]\"\n",
    "rewards = eval(rewards)\n",
    "n_matches = len(rewards)\n",
    "n_matches"
   ]
  },
  {
   "cell_type": "code",
   "execution_count": 49,
   "id": "6e63ff75",
   "metadata": {},
   "outputs": [
    {
     "data": {
      "text/plain": [
       "array([[0.        , 0.50999762, 0.49416806, 0.49857177],\n",
       "       [0.49000238, 0.        , 0.48774101, 0.49345394],\n",
       "       [0.50583194, 0.51225899, 0.        , 0.49773863],\n",
       "       [0.50142823, 0.50654606, 0.50226137, 0.        ]])"
      ]
     },
     "execution_count": 49,
     "metadata": {},
     "output_type": "execute_result"
    }
   ],
   "source": [
    "from itertools import combinations\n",
    "import numpy as np\n",
    "win_point_mat = np.zeros((4, 4))\n",
    "for rwds in rewards:\n",
    "    for (a, reward_a), (b, reward_b) in combinations(enumerate(rwds), 2):\n",
    "        if reward_a > reward_b:\n",
    "            win_point_mat[a, b] += 1.0\n",
    "        elif reward_a == reward_b:\n",
    "            win_point_mat[a, b] += 0.5\n",
    "            win_point_mat[b, a] += 0.5\n",
    "        else:\n",
    "            win_point_mat[b, a] += 1.0\n",
    "\n",
    "win_point_mat / n_matches"
   ]
  },
  {
   "cell_type": "code",
   "execution_count": 50,
   "id": "8583d906",
   "metadata": {},
   "outputs": [
    {
     "data": {
      "text/plain": [
       "2.212568436086646"
      ]
     },
     "execution_count": 50,
     "metadata": {},
     "output_type": "execute_result"
    }
   ],
   "source": [
    "# 200 ステップ目に生き残った geese の数\n",
    "alive_cnt = 0\n",
    "for rwds in rewards:\n",
    "    for rwd in rwds:\n",
    "        if rwd >= 20000:\n",
    "            alive_cnt += 1\n",
    "alive_cnt / n_matches"
   ]
  },
  {
   "cell_type": "code",
   "execution_count": 51,
   "id": "295db026",
   "metadata": {},
   "outputs": [
    {
     "data": {
      "text/plain": [
       "array([0.18257558, 0.18233754, 0.18257558, 0.17757677])"
      ]
     },
     "execution_count": 51,
     "metadata": {},
     "output_type": "execute_result"
    }
   ],
   "source": [
    "from itertools import combinations\n",
    "import numpy as np\n",
    "head_collision_cnts = np.zeros(4)\n",
    "for rwds in rewards:\n",
    "    for (a, reward_a), (b, reward_b) in combinations(enumerate(rwds), 2):\n",
    "        if reward_a >= 20000:\n",
    "            continue\n",
    "        if reward_a // 100 == reward_b // 100:\n",
    "            head_collision_cnts[a] += 1\n",
    "            head_collision_cnts[b] += 1\n",
    "head_collision_cnts / n_matches"
   ]
  },
  {
   "cell_type": "code",
   "execution_count": null,
   "id": "376c246b",
   "metadata": {},
   "outputs": [],
   "source": []
  }
 ],
 "metadata": {
  "kernelspec": {
   "display_name": "Python 3",
   "language": "python",
   "name": "python3"
  },
  "language_info": {
   "codemirror_mode": {
    "name": "ipython",
    "version": 3
   },
   "file_extension": ".py",
   "mimetype": "text/x-python",
   "name": "python",
   "nbconvert_exporter": "python",
   "pygments_lexer": "ipython3",
   "version": "3.8.8"
  }
 },
 "nbformat": 4,
 "nbformat_minor": 5
}
