{
 "cells": [
  {
   "cell_type": "code",
   "execution_count": 1,
   "id": "bfd50a6f",
   "metadata": {},
   "outputs": [
    {
     "data": {
      "text/plain": [
       "5100"
      ]
     },
     "execution_count": 1,
     "metadata": {},
     "output_type": "execute_result"
    }
   ],
   "source": [
    "rewards = !cat result.txt\n",
    "rewards = \"[\" + \"\".join(rewards) + \"]\"\n",
    "rewards = eval(rewards)\n",
    "n_matches = len(rewards)\n",
    "n_matches"
   ]
  },
  {
   "cell_type": "code",
   "execution_count": 2,
   "id": "6e63ff75",
   "metadata": {},
   "outputs": [
    {
     "data": {
      "text/plain": [
       "array([[0.        , 0.50411765, 0.49509804, 0.49598039],\n",
       "       [0.49588235, 0.        , 0.49294118, 0.49607843],\n",
       "       [0.50490196, 0.50705882, 0.        , 0.49264706],\n",
       "       [0.50401961, 0.50392157, 0.50735294, 0.        ]])"
      ]
     },
     "execution_count": 2,
     "metadata": {},
     "output_type": "execute_result"
    }
   ],
   "source": [
    "from itertools import combinations\n",
    "import numpy as np\n",
    "win_point_mat = np.zeros((4, 4))\n",
    "for rwds in rewards:\n",
    "    for (a, reward_a), (b, reward_b) in combinations(enumerate(rwds), 2):\n",
    "        if reward_a > reward_b:\n",
    "            win_point_mat[a, b] += 1.0\n",
    "        elif reward_a == reward_b:\n",
    "            win_point_mat[a, b] += 0.5\n",
    "            win_point_mat[b, a] += 0.5\n",
    "        else:\n",
    "            win_point_mat[b, a] += 1.0\n",
    "\n",
    "win_point_mat / n_matches"
   ]
  },
  {
   "cell_type": "code",
   "execution_count": 3,
   "id": "8583d906",
   "metadata": {},
   "outputs": [
    {
     "data": {
      "text/plain": [
       "2.2070588235294117"
      ]
     },
     "execution_count": 3,
     "metadata": {},
     "output_type": "execute_result"
    }
   ],
   "source": [
    "# 200 ステップ目に生き残った geese の数\n",
    "alive_cnt = 0\n",
    "for rwds in rewards:\n",
    "    for rwd in rwds:\n",
    "        if rwd >= 20000:\n",
    "            alive_cnt += 1\n",
    "alive_cnt / n_matches"
   ]
  },
  {
   "cell_type": "code",
   "execution_count": 4,
   "id": "47a4dd0e",
   "metadata": {},
   "outputs": [
    {
     "data": {
      "text/plain": [
       "array([0.18745098, 0.18039216, 0.18176471, 0.18019608])"
      ]
     },
     "execution_count": 4,
     "metadata": {},
     "output_type": "execute_result"
    }
   ],
   "source": [
    "from itertools import combinations\n",
    "import numpy as np\n",
    "head_collision_cnts = np.zeros(4)\n",
    "for rwds in rewards:\n",
    "    for (a, reward_a), (b, reward_b) in combinations(enumerate(rwds), 2):\n",
    "        if reward_a >= 20000:\n",
    "            continue\n",
    "        if reward_a // 100 == reward_b // 100:\n",
    "            head_collision_cnts[a] += 1\n",
    "            head_collision_cnts[b] += 1\n",
    "head_collision_cnts / n_matches"
   ]
  },
  {
   "cell_type": "code",
   "execution_count": null,
   "id": "6d6d3b15",
   "metadata": {},
   "outputs": [],
   "source": []
  }
 ],
 "metadata": {
  "kernelspec": {
   "display_name": "Python 3",
   "language": "python",
   "name": "python3"
  },
  "language_info": {
   "codemirror_mode": {
    "name": "ipython",
    "version": 3
   },
   "file_extension": ".py",
   "mimetype": "text/x-python",
   "name": "python",
   "nbconvert_exporter": "python",
   "pygments_lexer": "ipython3",
   "version": "3.8.8"
  }
 },
 "nbformat": 4,
 "nbformat_minor": 5
}
