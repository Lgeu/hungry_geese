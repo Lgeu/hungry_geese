{
 "cells": [
  {
   "cell_type": "code",
   "execution_count": 1,
   "id": "df203a93",
   "metadata": {},
   "outputs": [],
   "source": [
    "out_dir = \"028_031_033_034\""
   ]
  },
  {
   "cell_type": "code",
   "execution_count": 2,
   "id": "a8b22dd3",
   "metadata": {},
   "outputs": [
    {
     "data": {
      "text/plain": [
       "23751"
      ]
     },
     "execution_count": 2,
     "metadata": {},
     "output_type": "execute_result"
    }
   ],
   "source": [
    "import numpy as np\n",
    "\n",
    "rankss = []\n",
    "files = !ls -1 {out_dir}\n",
    "for file in files:\n",
    "    ranks = !tail {out_dir}/{file} -n 1\n",
    "    if len(ranks) == 0:\n",
    "        print(file)\n",
    "        continue\n",
    "    ranks = list(map(int, ranks[0].split()))\n",
    "    rankss.append(ranks)\n",
    "n_kifs = len(rankss)\n",
    "n_kifs"
   ]
  },
  {
   "cell_type": "code",
   "execution_count": 3,
   "id": "e2b64913",
   "metadata": {},
   "outputs": [],
   "source": [
    "from itertools import combinations\n",
    "import numpy as np\n",
    "win_point_mat = np.zeros((4, 4))\n",
    "for ranks in rankss:\n",
    "    for (a, rank_a), (b, rank_b) in combinations(enumerate(ranks), 2):\n",
    "        if rank_a < rank_b:\n",
    "            win_point_mat[a, b] += 1.0\n",
    "        elif rank_a == rank_b:\n",
    "            win_point_mat[a, b] += 0.5\n",
    "            win_point_mat[b, a] += 0.5\n",
    "        else:\n",
    "            win_point_mat[b, a] += 1.0"
   ]
  },
  {
   "cell_type": "code",
   "execution_count": 4,
   "id": "eb4a3546",
   "metadata": {},
   "outputs": [
    {
     "data": {
      "text/plain": [
       "array([[0.        , 0.44126563, 0.43682371, 0.4240453 ],\n",
       "       [0.55873437, 0.        , 0.50181045, 0.48930571],\n",
       "       [0.56317629, 0.49818955, 0.        , 0.4921898 ],\n",
       "       [0.5759547 , 0.51069429, 0.5078102 , 0.        ]])"
      ]
     },
     "execution_count": 4,
     "metadata": {},
     "output_type": "execute_result"
    }
   ],
   "source": [
    "win_point_mat / n_kifs"
   ]
  },
  {
   "cell_type": "code",
   "execution_count": null,
   "id": "a07cfb56",
   "metadata": {},
   "outputs": [],
   "source": []
  }
 ],
 "metadata": {
  "kernelspec": {
   "display_name": "Python 3",
   "language": "python",
   "name": "python3"
  },
  "language_info": {
   "codemirror_mode": {
    "name": "ipython",
    "version": 3
   },
   "file_extension": ".py",
   "mimetype": "text/x-python",
   "name": "python",
   "nbconvert_exporter": "python",
   "pygments_lexer": "ipython3",
   "version": "3.8.8"
  }
 },
 "nbformat": 4,
 "nbformat_minor": 5
}
