{
 "cells": [
  {
   "cell_type": "code",
   "execution_count": 1,
   "id": "9396ec93",
   "metadata": {},
   "outputs": [],
   "source": [
    "out_dir = \"034_035_037_038b\""
   ]
  },
  {
   "cell_type": "code",
   "execution_count": 2,
   "id": "14dcea74",
   "metadata": {},
   "outputs": [
    {
     "name": "stdout",
     "output_type": "stream",
     "text": [
      "021_01.bin  026_01.bin\t032_01.bin  035_01.bin\t038_01_10epoch.bin\r\n",
      "023_01.bin  028_01.bin\t033_01.bin  037_01.bin\r\n",
      "025_02.bin  031_01.bin\t034_01.bin  038_01.bin\r\n"
     ]
    }
   ],
   "source": [
    "!ls ../../rl/parameters"
   ]
  },
  {
   "cell_type": "code",
   "execution_count": 3,
   "id": "5f77e77b",
   "metadata": {},
   "outputs": [],
   "source": [
    "# コマンド確認\n",
    "param1 = \"../../rl/parameters/034_01.bin\"\n",
    "param2 = \"../../rl/parameters/035_01.bin\"\n",
    "param3 = \"../../rl/parameters/037_01.bin\"\n",
    "param4 = \"../../rl/parameters/038_01_10epoch.bin\"\n",
    "!./a.out -j -o ./ -t 0.1 -p {param1} {param2} {param3} {param4}"
   ]
  },
  {
   "cell_type": "code",
   "execution_count": 4,
   "id": "ee4e6a75",
   "metadata": {},
   "outputs": [],
   "source": [
    "!mkdir {out_dir}"
   ]
  },
  {
   "cell_type": "code",
   "execution_count": null,
   "id": "f926dbc1",
   "metadata": {},
   "outputs": [],
   "source": [
    "from subprocess import Popen\n",
    "N_MATCHES = 150000\n",
    "!seq 1 {N_MATCHES} | xargs -I@ -P 30 sh -c './a.out -j -o {out_dir}/ -t 0.1 -p {param1} {param2} {param3} {param4}'"
   ]
  },
  {
   "cell_type": "code",
   "execution_count": null,
   "id": "bdc9fc7f",
   "metadata": {},
   "outputs": [],
   "source": []
  }
 ],
 "metadata": {
  "kernelspec": {
   "display_name": "Python 3",
   "language": "python",
   "name": "python3"
  },
  "language_info": {
   "codemirror_mode": {
    "name": "ipython",
    "version": 3
   },
   "file_extension": ".py",
   "mimetype": "text/x-python",
   "name": "python",
   "nbconvert_exporter": "python",
   "pygments_lexer": "ipython3",
   "version": "3.8.8"
  }
 },
 "nbformat": 4,
 "nbformat_minor": 5
}
