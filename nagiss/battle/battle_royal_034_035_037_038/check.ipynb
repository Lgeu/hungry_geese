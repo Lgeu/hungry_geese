{
 "cells": [
  {
   "cell_type": "code",
   "execution_count": 1,
   "id": "55cf7b94",
   "metadata": {},
   "outputs": [
    {
     "name": "stdout",
     "output_type": "stream",
     "text": [
      "20210725025506_2354537466.kif1\n",
      "20210725025506_4269773358.kif1\n",
      "20210725025507_3678032961.kif1\n",
      "20210725025509_4247259884.kif1\n",
      "20210725025513_1465703026.kif1\n",
      "20210725025516_2190864464.kif1\n",
      "20210725025519_3223009712.kif1\n",
      "20210725025520_1611356204.kif1\n",
      "20210725025522_2241271665.kif1\n",
      "20210725025523_1331631107.kif1\n",
      "20210725025525_3621096220.kif1\n",
      "20210725025526_3921531271.kif1\n",
      "20210725025527_1201090904.kif1\n",
      "20210725025528_2362591926.kif1\n",
      "20210725025531_1512063862.kif1\n",
      "n_kifs=14982\n"
     ]
    },
    {
     "data": {
      "text/plain": [
       "array([[0.        , 0.50874383, 0.474169  , 0.4680283 ],\n",
       "       [0.49125617, 0.        , 0.46061941, 0.45868375],\n",
       "       [0.525831  , 0.53938059, 0.        , 0.49989988],\n",
       "       [0.5319717 , 0.54131625, 0.50010012, 0.        ]])"
      ]
     },
     "execution_count": 1,
     "metadata": {},
     "output_type": "execute_result"
    }
   ],
   "source": [
    "import numpy as np\n",
    "\n",
    "\n",
    "out_dir = \"034_035_037_038\"\n",
    "\n",
    "\n",
    "rankss = []\n",
    "files = !ls -1 {out_dir}\n",
    "for file in files:\n",
    "    ranks = !tail {out_dir}/{file} -n 1\n",
    "    if len(ranks) == 0:\n",
    "        print(file)\n",
    "        continue\n",
    "    ranks = list(map(int, ranks[0].split()))\n",
    "    rankss.append(ranks)\n",
    "n_kifs = len(rankss)\n",
    "print(f\"n_kifs={n_kifs}\")\n",
    "\n",
    "from itertools import combinations\n",
    "import numpy as np\n",
    "win_point_mat = np.zeros((4, 4))\n",
    "for ranks in rankss:\n",
    "    for (a, rank_a), (b, rank_b) in combinations(enumerate(ranks), 2):\n",
    "        if rank_a < rank_b:\n",
    "            win_point_mat[a, b] += 1.0\n",
    "        elif rank_a == rank_b:\n",
    "            win_point_mat[a, b] += 0.5\n",
    "            win_point_mat[b, a] += 0.5\n",
    "        else:\n",
    "            win_point_mat[b, a] += 1.0\n",
    "\n",
    "win_point_mat / n_kifs"
   ]
  },
  {
   "cell_type": "code",
   "execution_count": 2,
   "id": "5f0c9047",
   "metadata": {},
   "outputs": [
    {
     "name": "stdout",
     "output_type": "stream",
     "text": [
      "20210725025506_1664758330.kif1\n",
      "20210725025508_2107091555.kif1\n",
      "20210725025511_620969497.kif1\n",
      "20210725025511_735970373.kif1\n",
      "20210725025514_1190460349.kif1\n",
      "20210725025519_4071982246.kif1\n",
      "20210725025520_2798215988.kif1\n",
      "20210725025526_1394254782.kif1\n",
      "20210725025528_3267342392.kif1\n",
      "20210725025530_1977564451.kif1\n",
      "20210725025530_645173086.kif1\n",
      "20210725025532_1697259371.kif1\n",
      "n_kifs=14988\n"
     ]
    },
    {
     "data": {
      "text/plain": [
       "array([[0.        , 0.50793969, 0.48071791, 0.47768215],\n",
       "       [0.49206031, 0.        , 0.4743795 , 0.46347078],\n",
       "       [0.51928209, 0.5256205 , 0.        , 0.49379504],\n",
       "       [0.52231785, 0.53652922, 0.50620496, 0.        ]])"
      ]
     },
     "execution_count": 2,
     "metadata": {},
     "output_type": "execute_result"
    }
   ],
   "source": [
    "import numpy as np\n",
    "\n",
    "\n",
    "out_dir = \"034_035_037_038b\"\n",
    "\n",
    "\n",
    "rankss = []\n",
    "files = !ls -1 {out_dir}\n",
    "for file in files:\n",
    "    ranks = !tail {out_dir}/{file} -n 1\n",
    "    if len(ranks) == 0:\n",
    "        print(file)\n",
    "        continue\n",
    "    ranks = list(map(int, ranks[0].split()))\n",
    "    rankss.append(ranks)\n",
    "n_kifs = len(rankss)\n",
    "print(f\"n_kifs={n_kifs}\")\n",
    "\n",
    "from itertools import combinations\n",
    "import numpy as np\n",
    "win_point_mat = np.zeros((4, 4))\n",
    "for ranks in rankss:\n",
    "    for (a, rank_a), (b, rank_b) in combinations(enumerate(ranks), 2):\n",
    "        if rank_a < rank_b:\n",
    "            win_point_mat[a, b] += 1.0\n",
    "        elif rank_a == rank_b:\n",
    "            win_point_mat[a, b] += 0.5\n",
    "            win_point_mat[b, a] += 0.5\n",
    "        else:\n",
    "            win_point_mat[b, a] += 1.0\n",
    "\n",
    "win_point_mat / n_kifs"
   ]
  },
  {
   "cell_type": "code",
   "execution_count": null,
   "id": "d0af8830",
   "metadata": {},
   "outputs": [],
   "source": []
  },
  {
   "cell_type": "code",
   "execution_count": null,
   "id": "5ccfe893",
   "metadata": {},
   "outputs": [],
   "source": []
  }
 ],
 "metadata": {
  "kernelspec": {
   "display_name": "Python 3",
   "language": "python",
   "name": "python3"
  },
  "language_info": {
   "codemirror_mode": {
    "name": "ipython",
    "version": 3
   },
   "file_extension": ".py",
   "mimetype": "text/x-python",
   "name": "python",
   "nbconvert_exporter": "python",
   "pygments_lexer": "ipython3",
   "version": "3.8.8"
  }
 },
 "nbformat": 4,
 "nbformat_minor": 5
}
