{
 "cells": [
  {
   "cell_type": "code",
   "execution_count": 33,
   "id": "82f1d6fc",
   "metadata": {},
   "outputs": [
    {
     "data": {
      "text/plain": [
       "1960"
      ]
     },
     "execution_count": 33,
     "metadata": {},
     "output_type": "execute_result"
    }
   ],
   "source": [
    "rewards = !cat result.txt\n",
    "rewards = \"[\" + \"\".join(rewards) + \"]\"\n",
    "rewards = eval(rewards)\n",
    "n_matches = len(rewards)\n",
    "n_matches"
   ]
  },
  {
   "cell_type": "code",
   "execution_count": 34,
   "id": "686bf862",
   "metadata": {},
   "outputs": [
    {
     "data": {
      "text/plain": [
       "array([[0.        , 0.20841837, 0.46071429, 0.2122449 ],\n",
       "       [0.79158163, 0.        , 0.69183673, 0.49438776],\n",
       "       [0.53928571, 0.30816327, 0.        , 0.31020408],\n",
       "       [0.7877551 , 0.50561224, 0.68979592, 0.        ]])"
      ]
     },
     "execution_count": 34,
     "metadata": {},
     "output_type": "execute_result"
    }
   ],
   "source": [
    "from itertools import combinations\n",
    "import numpy as np\n",
    "win_point_mat = np.zeros((4, 4))\n",
    "for rwds in rewards:\n",
    "    for (a, reward_a), (b, reward_b) in combinations(enumerate(rwds), 2):\n",
    "        if reward_a > reward_b:\n",
    "            win_point_mat[a, b] += 1.0\n",
    "        elif reward_a == reward_b:\n",
    "            win_point_mat[a, b] += 0.5\n",
    "            win_point_mat[b, a] += 0.5\n",
    "        else:\n",
    "            win_point_mat[b, a] += 1.0\n",
    "\n",
    "win_point_mat / n_matches"
   ]
  },
  {
   "cell_type": "code",
   "execution_count": null,
   "id": "eb7c7101",
   "metadata": {},
   "outputs": [],
   "source": []
  },
  {
   "cell_type": "code",
   "execution_count": null,
   "id": "47c7ffae",
   "metadata": {},
   "outputs": [],
   "source": []
  }
 ],
 "metadata": {
  "kernelspec": {
   "display_name": "Python 3",
   "language": "python",
   "name": "python3"
  },
  "language_info": {
   "codemirror_mode": {
    "name": "ipython",
    "version": 3
   },
   "file_extension": ".py",
   "mimetype": "text/x-python",
   "name": "python",
   "nbconvert_exporter": "python",
   "pygments_lexer": "ipython3",
   "version": "3.8.8"
  }
 },
 "nbformat": 4,
 "nbformat_minor": 5
}
