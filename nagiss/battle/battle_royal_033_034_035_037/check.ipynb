{
 "cells": [
  {
   "cell_type": "code",
   "execution_count": 1,
   "id": "617ace66",
   "metadata": {},
   "outputs": [],
   "source": [
    "out_dir = \"033_034_035_037\""
   ]
  },
  {
   "cell_type": "code",
   "execution_count": 2,
   "id": "9ea4e27e",
   "metadata": {},
   "outputs": [
    {
     "data": {
      "text/plain": [
       "22294"
      ]
     },
     "execution_count": 2,
     "metadata": {},
     "output_type": "execute_result"
    }
   ],
   "source": [
    "import numpy as np\n",
    "\n",
    "rankss = []\n",
    "files = !ls -1 {out_dir}\n",
    "for file in files:\n",
    "    ranks = !tail {out_dir}/{file} -n 1\n",
    "    if len(ranks) == 0:\n",
    "        print(file)\n",
    "        continue\n",
    "    ranks = list(map(int, ranks[0].split()))\n",
    "    rankss.append(ranks)\n",
    "n_kifs = len(rankss)\n",
    "n_kifs"
   ]
  },
  {
   "cell_type": "code",
   "execution_count": 3,
   "id": "9ee8ed2a",
   "metadata": {},
   "outputs": [],
   "source": [
    "from itertools import combinations\n",
    "import numpy as np\n",
    "win_point_mat = np.zeros((4, 4))\n",
    "for ranks in rankss:\n",
    "    for (a, rank_a), (b, rank_b) in combinations(enumerate(ranks), 2):\n",
    "        if rank_a < rank_b:\n",
    "            win_point_mat[a, b] += 1.0\n",
    "        elif rank_a == rank_b:\n",
    "            win_point_mat[a, b] += 0.5\n",
    "            win_point_mat[b, a] += 0.5\n",
    "        else:\n",
    "            win_point_mat[b, a] += 1.0"
   ]
  },
  {
   "cell_type": "code",
   "execution_count": 4,
   "id": "6bbb3934",
   "metadata": {},
   "outputs": [
    {
     "data": {
      "text/plain": [
       "array([[0.        , 0.48288777, 0.48349332, 0.45570557],\n",
       "       [0.51711223, 0.        , 0.50428366, 0.47714632],\n",
       "       [0.51650668, 0.49571634, 0.        , 0.47212254],\n",
       "       [0.54429443, 0.52285368, 0.52787746, 0.        ]])"
      ]
     },
     "execution_count": 4,
     "metadata": {},
     "output_type": "execute_result"
    }
   ],
   "source": [
    "win_point_mat / n_kifs"
   ]
  },
  {
   "cell_type": "code",
   "execution_count": null,
   "id": "b96be2ce",
   "metadata": {},
   "outputs": [],
   "source": []
  }
 ],
 "metadata": {
  "kernelspec": {
   "display_name": "Python 3",
   "language": "python",
   "name": "python3"
  },
  "language_info": {
   "codemirror_mode": {
    "name": "ipython",
    "version": 3
   },
   "file_extension": ".py",
   "mimetype": "text/x-python",
   "name": "python",
   "nbconvert_exporter": "python",
   "pygments_lexer": "ipython3",
   "version": "3.8.8"
  }
 },
 "nbformat": 4,
 "nbformat_minor": 5
}
