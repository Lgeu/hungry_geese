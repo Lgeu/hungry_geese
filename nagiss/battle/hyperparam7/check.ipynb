{
 "cells": [
  {
   "cell_type": "code",
   "execution_count": 1,
   "id": "bfd50a6f",
   "metadata": {},
   "outputs": [
    {
     "data": {
      "text/plain": [
       "4536"
      ]
     },
     "execution_count": 1,
     "metadata": {},
     "output_type": "execute_result"
    }
   ],
   "source": [
    "rewards = !cat result.txt\n",
    "rewards = \"[\" + \"\".join(rewards) + \"]\"\n",
    "rewards = eval(rewards)\n",
    "n_matches = len(rewards)\n",
    "n_matches"
   ]
  },
  {
   "cell_type": "code",
   "execution_count": 2,
   "id": "6e63ff75",
   "metadata": {},
   "outputs": [
    {
     "data": {
      "text/plain": [
       "array([[0.        , 0.48390653, 0.50683422, 0.48291446],\n",
       "       [0.51609347, 0.        , 0.52700617, 0.49371693],\n",
       "       [0.49316578, 0.47299383, 0.        , 0.46737213],\n",
       "       [0.51708554, 0.50628307, 0.53262787, 0.        ]])"
      ]
     },
     "execution_count": 2,
     "metadata": {},
     "output_type": "execute_result"
    }
   ],
   "source": [
    "from itertools import combinations\n",
    "import numpy as np\n",
    "win_point_mat = np.zeros((4, 4))\n",
    "for rwds in rewards:\n",
    "    for (a, reward_a), (b, reward_b) in combinations(enumerate(rwds), 2):\n",
    "        if reward_a > reward_b:\n",
    "            win_point_mat[a, b] += 1.0\n",
    "        elif reward_a == reward_b:\n",
    "            win_point_mat[a, b] += 0.5\n",
    "            win_point_mat[b, a] += 0.5\n",
    "        else:\n",
    "            win_point_mat[b, a] += 1.0\n",
    "\n",
    "win_point_mat / n_matches"
   ]
  },
  {
   "cell_type": "code",
   "execution_count": 3,
   "id": "f664262e",
   "metadata": {},
   "outputs": [
    {
     "data": {
      "text/plain": [
       "2.0185185185185186"
      ]
     },
     "execution_count": 3,
     "metadata": {},
     "output_type": "execute_result"
    }
   ],
   "source": [
    "# 200 ステップ目に生き残った geese の数\n",
    "alive_cnt = 0\n",
    "for rwds in rewards:\n",
    "    for rwd in rwds:\n",
    "        if rwd >= 20000:\n",
    "            alive_cnt += 1\n",
    "alive_cnt / n_matches"
   ]
  },
  {
   "cell_type": "code",
   "execution_count": 4,
   "id": "c6031d24",
   "metadata": {},
   "outputs": [
    {
     "data": {
      "text/plain": [
       "array([0.26895944, 0.25352734, 0.28395062, 0.23633157])"
      ]
     },
     "execution_count": 4,
     "metadata": {},
     "output_type": "execute_result"
    }
   ],
   "source": [
    "from itertools import combinations\n",
    "import numpy as np\n",
    "head_collision_cnts = np.zeros(4)\n",
    "for rwds in rewards:\n",
    "    for (a, reward_a), (b, reward_b) in combinations(enumerate(rwds), 2):\n",
    "        if reward_a >= 20000:\n",
    "            continue\n",
    "        if reward_a // 100 == reward_b // 100:\n",
    "            head_collision_cnts[a] += 1\n",
    "            head_collision_cnts[b] += 1\n",
    "head_collision_cnts / n_matches"
   ]
  },
  {
   "cell_type": "code",
   "execution_count": 5,
   "id": "8583d906",
   "metadata": {},
   "outputs": [
    {
     "name": "stdout",
     "output_type": "stream",
     "text": [
      "Binary files alphazero_c0.25_det2000 and alphazero_c0.25_det500 differ\r\n"
     ]
    }
   ],
   "source": [
    "!diff alphazero_c0.25_det2000 alphazero_c0.25_det500"
   ]
  },
  {
   "cell_type": "code",
   "execution_count": null,
   "id": "1f074047",
   "metadata": {},
   "outputs": [],
   "source": []
  }
 ],
 "metadata": {
  "kernelspec": {
   "display_name": "Python 3",
   "language": "python",
   "name": "python3"
  },
  "language_info": {
   "codemirror_mode": {
    "name": "ipython",
    "version": 3
   },
   "file_extension": ".py",
   "mimetype": "text/x-python",
   "name": "python",
   "nbconvert_exporter": "python",
   "pygments_lexer": "ipython3",
   "version": "3.8.8"
  }
 },
 "nbformat": 4,
 "nbformat_minor": 5
}
