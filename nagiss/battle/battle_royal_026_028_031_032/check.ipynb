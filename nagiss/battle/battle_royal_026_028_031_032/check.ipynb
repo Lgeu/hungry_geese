{
 "cells": [
  {
   "cell_type": "code",
   "execution_count": 1,
   "id": "b98188f7",
   "metadata": {},
   "outputs": [],
   "source": [
    "out_dir = \"026_028_031_032\""
   ]
  },
  {
   "cell_type": "code",
   "execution_count": 2,
   "id": "89d36b4d",
   "metadata": {},
   "outputs": [
    {
     "data": {
      "text/plain": [
       "26332"
      ]
     },
     "execution_count": 2,
     "metadata": {},
     "output_type": "execute_result"
    }
   ],
   "source": [
    "import numpy as np\n",
    "\n",
    "rankss = []\n",
    "files = !ls -1 {out_dir}\n",
    "for file in files:\n",
    "    ranks = !tail {out_dir}/{file} -n 1\n",
    "    if len(ranks) == 0:\n",
    "        print(file)\n",
    "        continue\n",
    "    ranks = list(map(int, ranks[0].split()))\n",
    "    rankss.append(ranks)\n",
    "n_kifs = len(rankss)\n",
    "n_kifs"
   ]
  },
  {
   "cell_type": "code",
   "execution_count": 3,
   "id": "cf247ecf",
   "metadata": {},
   "outputs": [],
   "source": [
    "from itertools import combinations\n",
    "import numpy as np\n",
    "win_point_mat = np.zeros((4, 4))\n",
    "for ranks in rankss:\n",
    "    for (a, rank_a), (b, rank_b) in combinations(enumerate(ranks), 2):\n",
    "        if rank_a < rank_b:\n",
    "            win_point_mat[a, b] += 1.0\n",
    "        elif rank_a == rank_b:\n",
    "            win_point_mat[a, b] += 0.5\n",
    "            win_point_mat[b, a] += 0.5\n",
    "        else:\n",
    "            win_point_mat[b, a] += 1.0"
   ]
  },
  {
   "cell_type": "code",
   "execution_count": 4,
   "id": "457017fc",
   "metadata": {},
   "outputs": [
    {
     "data": {
      "text/plain": [
       "array([[0.        , 0.4613588 , 0.42205302, 0.43517393],\n",
       "       [0.5386412 , 0.        , 0.45645982, 0.46901109],\n",
       "       [0.57794698, 0.54354018, 0.        , 0.51129804],\n",
       "       [0.56482607, 0.53098891, 0.48870196, 0.        ]])"
      ]
     },
     "execution_count": 4,
     "metadata": {},
     "output_type": "execute_result"
    }
   ],
   "source": [
    "win_point_mat / n_kifs"
   ]
  },
  {
   "cell_type": "code",
   "execution_count": null,
   "id": "b33c4fe9",
   "metadata": {},
   "outputs": [],
   "source": []
  }
 ],
 "metadata": {
  "kernelspec": {
   "display_name": "Python 3",
   "language": "python",
   "name": "python3"
  },
  "language_info": {
   "codemirror_mode": {
    "name": "ipython",
    "version": 3
   },
   "file_extension": ".py",
   "mimetype": "text/x-python",
   "name": "python",
   "nbconvert_exporter": "python",
   "pygments_lexer": "ipython3",
   "version": "3.8.8"
  }
 },
 "nbformat": 4,
 "nbformat_minor": 5
}
